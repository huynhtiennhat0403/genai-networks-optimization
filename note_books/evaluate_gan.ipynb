{
 "cells": [
  {
   "cell_type": "code",
   "execution_count": null,
   "id": "22a35d1e",
   "metadata": {},
   "outputs": [],
   "source": [
    "import pandas as pd\n",
    "from sdmetrics.single_table import CorrelationSimilarity\n",
    "from sdmetrics.single_column import KSComplement"
   ]
  },
  {
   "cell_type": "code",
   "execution_count": 2,
   "id": "1d6b5806",
   "metadata": {},
   "outputs": [],
   "source": [
    "# Đọc dữ liệu\n",
    "real = pd.read_csv('../data/processed/train_data.csv')\n",
    "synthetic = pd.read_csv('../data/synthetic/synthetic_data.csv')"
   ]
  },
  {
   "cell_type": "code",
   "execution_count": null,
   "id": "d8215a2e",
   "metadata": {},
   "outputs": [
    {
     "name": "stdout",
     "output_type": "stream",
     "text": [
      "\n",
      "Điểm từng cột (KSComplement):\n",
      "{'Application Type': np.float64(0.7451507936507937), 'Signal Strength': np.float64(0.7999206349206349), 'Latency': np.float64(0.8699444444444444), 'Required Bandwidth': np.float64(0.6376507936507936), 'Allocated Bandwidth': np.float64(0.6714523809523809), 'Resource Allocation': np.float64(0.8582380952380952)}\n"
     ]
    }
   ],
   "source": [
    "scores = {}\n",
    "for col in real.columns:\n",
    "    scores[col] = KSComplement.compute(\n",
    "        real_data=real[col],\n",
    "        synthetic_data=synthetic[col]\n",
    "    )\n",
    "\n",
    "print(\"\\nĐiểm từng cột (KSComplement):\")\n",
    "print(scores)"
   ]
  },
  {
   "cell_type": "code",
   "execution_count": 4,
   "id": "d1c29be1",
   "metadata": {},
   "outputs": [
    {
     "name": "stdout",
     "output_type": "stream",
     "text": [
      "\n",
      "Điểm giữ tương quan giữa các cột: 0.7795261754473319\n"
     ]
    }
   ],
   "source": [
    "corr_score = CorrelationSimilarity.compute(real, synthetic)\n",
    "print(\"\\nĐiểm giữ tương quan giữa các cột:\", corr_score)"
   ]
  }
 ],
 "metadata": {
  "kernelspec": {
   "display_name": "Python 3",
   "language": "python",
   "name": "python3"
  },
  "language_info": {
   "codemirror_mode": {
    "name": "ipython",
    "version": 3
   },
   "file_extension": ".py",
   "mimetype": "text/x-python",
   "name": "python",
   "nbconvert_exporter": "python",
   "pygments_lexer": "ipython3",
   "version": "3.13.7"
  }
 },
 "nbformat": 4,
 "nbformat_minor": 5
}
