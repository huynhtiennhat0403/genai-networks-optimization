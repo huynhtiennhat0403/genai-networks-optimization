{
 "cells": [
  {
   "cell_type": "code",
   "execution_count": 53,
   "id": "5b48f27e",
   "metadata": {},
   "outputs": [],
   "source": [
    "import pandas as pd\n",
    "import numpy as np\n",
    "import matplotlib.pyplot as plt\n",
    "import seaborn as sns\n",
    "import plotly.express as px"
   ]
  },
  {
   "cell_type": "code",
   "execution_count": 54,
   "id": "70ad3080",
   "metadata": {},
   "outputs": [
    {
     "name": "stdout",
     "output_type": "stream",
     "text": [
      "          Timestamp   User_ID     Application_Type Signal_Strength Latency  \\\n",
      "47   9/3/2023 10:00   User_48  Background_Download         -94 dBm   45 ms   \n",
      "393  9/3/2023 10:06  User_394            VoIP_Call         -56 dBm   52 ms   \n",
      "7    9/3/2023 10:00    User_8      IoT_Temperature         -95 dBm  100 ms   \n",
      "151  9/3/2023 10:02  User_152    Emergency_Service         -58 dBm    5 ms   \n",
      "322  9/3/2023 10:05  User_323        Online_Gaming         -50 dBm   38 ms   \n",
      "\n",
      "    Required_Bandwidth Allocated_Bandwidth Resource_Allocation  \n",
      "47            640 Kbps            640 Kbps                 60%  \n",
      "393             0 Kbps              0 Kbps                 90%  \n",
      "7              10 Kbps             15 Kbps                 50%  \n",
      "151           0.8 Mbps            1.0 Mbps                 70%  \n",
      "322           5.4 Mbps            5.7 Mbps                 80%  \n",
      "<class 'pandas.core.frame.DataFrame'>\n",
      "RangeIndex: 400 entries, 0 to 399\n",
      "Data columns (total 8 columns):\n",
      " #   Column               Non-Null Count  Dtype \n",
      "---  ------               --------------  ----- \n",
      " 0   Timestamp            400 non-null    object\n",
      " 1   User_ID              400 non-null    object\n",
      " 2   Application_Type     400 non-null    object\n",
      " 3   Signal_Strength      400 non-null    object\n",
      " 4   Latency              400 non-null    object\n",
      " 5   Required_Bandwidth   400 non-null    object\n",
      " 6   Allocated_Bandwidth  400 non-null    object\n",
      " 7   Resource_Allocation  400 non-null    object\n",
      "dtypes: object(8)\n",
      "memory usage: 25.1+ KB\n",
      "None\n",
      "----------------------------------------------------------------------------------------------------\n",
      "             Timestamp User_ID Application_Type Signal_Strength Latency  \\\n",
      "count              400     400              400             400     400   \n",
      "unique               7     400               11              84      87   \n",
      "top     9/3/2023 10:01  User_1       Video_Call         -97 dBm    5 ms   \n",
      "freq                60       1               58               9      35   \n",
      "\n",
      "       Required_Bandwidth Allocated_Bandwidth Resource_Allocation  \n",
      "count                 400                 400                 400  \n",
      "unique                188                 194                   9  \n",
      "top              0.1 Mbps            0.1 Mbps                 70%  \n",
      "freq                   16                  16                 148  \n"
     ]
    }
   ],
   "source": [
    "# Load dataset\n",
    "df = pd.read_csv(\"../data/raw/Quality of Service 5G.csv\")\n",
    "\n",
    "# 5 random samples from the dataset\n",
    "print(df.sample(5))\n",
    "\n",
    "# Display basic information about the dataset\n",
    "print(df.info())\n",
    "print(\"-\" * 100 )\n",
    "print(df.describe())"
   ]
  },
  {
   "cell_type": "code",
   "execution_count": 55,
   "id": "8e3cff16",
   "metadata": {},
   "outputs": [],
   "source": [
    "# Drop redundant columns\n",
    "df = df.drop(columns=[\"Timestamp\", \"User_ID\"])\n",
    "\n",
    "# Convert object columns to numerical\n",
    "df['Signal_Strength'] = df['Signal_Strength'].str.replace(' dBm', '').astype(float)\n",
    "df['Latency'] = df['Latency'].str.replace(' ms', '').astype(float)\n",
    "df['Resource_Allocation'] = df['Resource_Allocation'].str.replace('%', '').astype(float)\n",
    "\n",
    "def parse_bandwidth(bandwidth_str):\n",
    "    if 'Mbps' in bandwidth_str:\n",
    "        return float(bandwidth_str.replace(' Mbps', ''))\n",
    "    elif 'Kbps' in bandwidth_str:\n",
    "        return float(bandwidth_str.replace(' Kbps', '')) / 1000\n",
    "    else:\n",
    "        return float(bandwidth_str)\n",
    "    \n",
    "df['Required_Bandwidth'] = df['Required_Bandwidth'].apply(parse_bandwidth)\n",
    "df['Allocated_Bandwidth'] = df['Allocated_Bandwidth'].apply(parse_bandwidth)"
   ]
  },
  {
   "cell_type": "code",
   "execution_count": 56,
   "id": "31c90e52",
   "metadata": {},
   "outputs": [
    {
     "data": {
      "application/vnd.plotly.v1+json": {
       "config": {
        "plotlyServerURL": "https://plot.ly"
       },
       "data": [
        {
         "alignmentgroup": "True",
         "bingroup": "x",
         "hovertemplate": "Application_Type=%{x}<br>count=%{y}<extra></extra>",
         "legendgroup": "Video_Call",
         "marker": {
          "color": "#636efa",
          "pattern": {
           "shape": ""
          }
         },
         "name": "Video_Call",
         "nbinsx": 30,
         "offsetgroup": "Video_Call",
         "orientation": "v",
         "showlegend": true,
         "type": "histogram",
         "x": [
          "Video_Call",
          "Video_Call",
          "Video_Call",
          "Video_Call",
          "Video_Call",
          "Video_Call",
          "Video_Call",
          "Video_Call",
          "Video_Call",
          "Video_Call",
          "Video_Call",
          "Video_Call",
          "Video_Call",
          "Video_Call",
          "Video_Call",
          "Video_Call",
          "Video_Call",
          "Video_Call",
          "Video_Call",
          "Video_Call",
          "Video_Call",
          "Video_Call",
          "Video_Call",
          "Video_Call",
          "Video_Call",
          "Video_Call",
          "Video_Call",
          "Video_Call",
          "Video_Call",
          "Video_Call",
          "Video_Call",
          "Video_Call",
          "Video_Call",
          "Video_Call",
          "Video_Call",
          "Video_Call",
          "Video_Call",
          "Video_Call",
          "Video_Call",
          "Video_Call",
          "Video_Call",
          "Video_Call",
          "Video_Call",
          "Video_Call",
          "Video_Call",
          "Video_Call",
          "Video_Call",
          "Video_Call",
          "Video_Call",
          "Video_Call",
          "Video_Call",
          "Video_Call",
          "Video_Call",
          "Video_Call",
          "Video_Call",
          "Video_Call",
          "Video_Call",
          "Video_Call"
         ],
         "xaxis": "x",
         "yaxis": "y"
        },
        {
         "alignmentgroup": "True",
         "bingroup": "x",
         "hovertemplate": "Application_Type=%{x}<br>count=%{y}<extra></extra>",
         "legendgroup": "Voice_Call",
         "marker": {
          "color": "#EF553B",
          "pattern": {
           "shape": ""
          }
         },
         "name": "Voice_Call",
         "nbinsx": 30,
         "offsetgroup": "Voice_Call",
         "orientation": "v",
         "showlegend": true,
         "type": "histogram",
         "x": [
          "Voice_Call"
         ],
         "xaxis": "x",
         "yaxis": "y"
        },
        {
         "alignmentgroup": "True",
         "bingroup": "x",
         "hovertemplate": "Application_Type=%{x}<br>count=%{y}<extra></extra>",
         "legendgroup": "Streaming",
         "marker": {
          "color": "#00cc96",
          "pattern": {
           "shape": ""
          }
         },
         "name": "Streaming",
         "nbinsx": 30,
         "offsetgroup": "Streaming",
         "orientation": "v",
         "showlegend": true,
         "type": "histogram",
         "x": [
          "Streaming",
          "Streaming",
          "Streaming",
          "Streaming",
          "Streaming",
          "Streaming",
          "Streaming",
          "Streaming",
          "Streaming",
          "Streaming",
          "Streaming",
          "Streaming",
          "Streaming",
          "Streaming",
          "Streaming",
          "Streaming",
          "Streaming",
          "Streaming",
          "Streaming",
          "Streaming",
          "Streaming",
          "Streaming",
          "Streaming",
          "Streaming",
          "Streaming",
          "Streaming",
          "Streaming",
          "Streaming",
          "Streaming",
          "Streaming",
          "Streaming",
          "Streaming",
          "Streaming",
          "Streaming",
          "Streaming",
          "Streaming",
          "Streaming",
          "Streaming",
          "Streaming",
          "Streaming",
          "Streaming",
          "Streaming",
          "Streaming",
          "Streaming",
          "Streaming",
          "Streaming",
          "Streaming"
         ],
         "xaxis": "x",
         "yaxis": "y"
        },
        {
         "alignmentgroup": "True",
         "bingroup": "x",
         "hovertemplate": "Application_Type=%{x}<br>count=%{y}<extra></extra>",
         "legendgroup": "Emergency_Service",
         "marker": {
          "color": "#ab63fa",
          "pattern": {
           "shape": ""
          }
         },
         "name": "Emergency_Service",
         "nbinsx": 30,
         "offsetgroup": "Emergency_Service",
         "orientation": "v",
         "showlegend": true,
         "type": "histogram",
         "x": [
          "Emergency_Service",
          "Emergency_Service",
          "Emergency_Service",
          "Emergency_Service",
          "Emergency_Service",
          "Emergency_Service",
          "Emergency_Service",
          "Emergency_Service",
          "Emergency_Service",
          "Emergency_Service",
          "Emergency_Service",
          "Emergency_Service",
          "Emergency_Service",
          "Emergency_Service",
          "Emergency_Service",
          "Emergency_Service",
          "Emergency_Service",
          "Emergency_Service",
          "Emergency_Service",
          "Emergency_Service",
          "Emergency_Service",
          "Emergency_Service",
          "Emergency_Service",
          "Emergency_Service",
          "Emergency_Service",
          "Emergency_Service",
          "Emergency_Service",
          "Emergency_Service",
          "Emergency_Service",
          "Emergency_Service",
          "Emergency_Service",
          "Emergency_Service",
          "Emergency_Service",
          "Emergency_Service",
          "Emergency_Service",
          "Emergency_Service",
          "Emergency_Service",
          "Emergency_Service",
          "Emergency_Service",
          "Emergency_Service",
          "Emergency_Service",
          "Emergency_Service",
          "Emergency_Service",
          "Emergency_Service",
          "Emergency_Service",
          "Emergency_Service",
          "Emergency_Service"
         ],
         "xaxis": "x",
         "yaxis": "y"
        },
        {
         "alignmentgroup": "True",
         "bingroup": "x",
         "hovertemplate": "Application_Type=%{x}<br>count=%{y}<extra></extra>",
         "legendgroup": "Online_Gaming",
         "marker": {
          "color": "#FFA15A",
          "pattern": {
           "shape": ""
          }
         },
         "name": "Online_Gaming",
         "nbinsx": 30,
         "offsetgroup": "Online_Gaming",
         "orientation": "v",
         "showlegend": true,
         "type": "histogram",
         "x": [
          "Online_Gaming",
          "Online_Gaming",
          "Online_Gaming",
          "Online_Gaming",
          "Online_Gaming",
          "Online_Gaming",
          "Online_Gaming",
          "Online_Gaming",
          "Online_Gaming",
          "Online_Gaming",
          "Online_Gaming",
          "Online_Gaming",
          "Online_Gaming",
          "Online_Gaming",
          "Online_Gaming",
          "Online_Gaming",
          "Online_Gaming",
          "Online_Gaming",
          "Online_Gaming",
          "Online_Gaming",
          "Online_Gaming",
          "Online_Gaming",
          "Online_Gaming",
          "Online_Gaming",
          "Online_Gaming",
          "Online_Gaming",
          "Online_Gaming",
          "Online_Gaming",
          "Online_Gaming",
          "Online_Gaming",
          "Online_Gaming",
          "Online_Gaming",
          "Online_Gaming",
          "Online_Gaming",
          "Online_Gaming",
          "Online_Gaming",
          "Online_Gaming",
          "Online_Gaming",
          "Online_Gaming",
          "Online_Gaming",
          "Online_Gaming",
          "Online_Gaming",
          "Online_Gaming",
          "Online_Gaming",
          "Online_Gaming"
         ],
         "xaxis": "x",
         "yaxis": "y"
        },
        {
         "alignmentgroup": "True",
         "bingroup": "x",
         "hovertemplate": "Application_Type=%{x}<br>count=%{y}<extra></extra>",
         "legendgroup": "Background_Download",
         "marker": {
          "color": "#19d3f3",
          "pattern": {
           "shape": ""
          }
         },
         "name": "Background_Download",
         "nbinsx": 30,
         "offsetgroup": "Background_Download",
         "orientation": "v",
         "showlegend": true,
         "type": "histogram",
         "x": [
          "Background_Download",
          "Background_Download",
          "Background_Download",
          "Background_Download",
          "Background_Download",
          "Background_Download",
          "Background_Download",
          "Background_Download",
          "Background_Download",
          "Background_Download",
          "Background_Download",
          "Background_Download",
          "Background_Download",
          "Background_Download",
          "Background_Download",
          "Background_Download",
          "Background_Download",
          "Background_Download",
          "Background_Download",
          "Background_Download",
          "Background_Download",
          "Background_Download",
          "Background_Download",
          "Background_Download",
          "Background_Download",
          "Background_Download",
          "Background_Download",
          "Background_Download",
          "Background_Download",
          "Background_Download",
          "Background_Download",
          "Background_Download",
          "Background_Download",
          "Background_Download",
          "Background_Download",
          "Background_Download",
          "Background_Download",
          "Background_Download",
          "Background_Download",
          "Background_Download",
          "Background_Download",
          "Background_Download",
          "Background_Download",
          "Background_Download",
          "Background_Download",
          "Background_Download",
          "Background_Download"
         ],
         "xaxis": "x",
         "yaxis": "y"
        },
        {
         "alignmentgroup": "True",
         "bingroup": "x",
         "hovertemplate": "Application_Type=%{x}<br>count=%{y}<extra></extra>",
         "legendgroup": "Web_Browsing",
         "marker": {
          "color": "#FF6692",
          "pattern": {
           "shape": ""
          }
         },
         "name": "Web_Browsing",
         "nbinsx": 30,
         "offsetgroup": "Web_Browsing",
         "orientation": "v",
         "showlegend": true,
         "type": "histogram",
         "x": [
          "Web_Browsing",
          "Web_Browsing",
          "Web_Browsing",
          "Web_Browsing",
          "Web_Browsing",
          "Web_Browsing",
          "Web_Browsing",
          "Web_Browsing",
          "Web_Browsing",
          "Web_Browsing",
          "Web_Browsing",
          "Web_Browsing",
          "Web_Browsing",
          "Web_Browsing",
          "Web_Browsing",
          "Web_Browsing",
          "Web_Browsing",
          "Web_Browsing",
          "Web_Browsing",
          "Web_Browsing",
          "Web_Browsing",
          "Web_Browsing",
          "Web_Browsing",
          "Web_Browsing",
          "Web_Browsing",
          "Web_Browsing",
          "Web_Browsing",
          "Web_Browsing",
          "Web_Browsing",
          "Web_Browsing",
          "Web_Browsing",
          "Web_Browsing",
          "Web_Browsing",
          "Web_Browsing",
          "Web_Browsing",
          "Web_Browsing",
          "Web_Browsing",
          "Web_Browsing",
          "Web_Browsing",
          "Web_Browsing",
          "Web_Browsing",
          "Web_Browsing",
          "Web_Browsing",
          "Web_Browsing",
          "Web_Browsing",
          "Web_Browsing",
          "Web_Browsing",
          "Web_Browsing"
         ],
         "xaxis": "x",
         "yaxis": "y"
        },
        {
         "alignmentgroup": "True",
         "bingroup": "x",
         "hovertemplate": "Application_Type=%{x}<br>count=%{y}<extra></extra>",
         "legendgroup": "IoT_Temperature",
         "marker": {
          "color": "#B6E880",
          "pattern": {
           "shape": ""
          }
         },
         "name": "IoT_Temperature",
         "nbinsx": 30,
         "offsetgroup": "IoT_Temperature",
         "orientation": "v",
         "showlegend": true,
         "type": "histogram",
         "x": [
          "IoT_Temperature",
          "IoT_Temperature",
          "IoT_Temperature",
          "IoT_Temperature",
          "IoT_Temperature",
          "IoT_Temperature",
          "IoT_Temperature",
          "IoT_Temperature",
          "IoT_Temperature",
          "IoT_Temperature",
          "IoT_Temperature",
          "IoT_Temperature",
          "IoT_Temperature"
         ],
         "xaxis": "x",
         "yaxis": "y"
        },
        {
         "alignmentgroup": "True",
         "bingroup": "x",
         "hovertemplate": "Application_Type=%{x}<br>count=%{y}<extra></extra>",
         "legendgroup": "Video_Streaming",
         "marker": {
          "color": "#FF97FF",
          "pattern": {
           "shape": ""
          }
         },
         "name": "Video_Streaming",
         "nbinsx": 30,
         "offsetgroup": "Video_Streaming",
         "orientation": "v",
         "showlegend": true,
         "type": "histogram",
         "x": [
          "Video_Streaming",
          "Video_Streaming",
          "Video_Streaming",
          "Video_Streaming",
          "Video_Streaming",
          "Video_Streaming",
          "Video_Streaming",
          "Video_Streaming",
          "Video_Streaming",
          "Video_Streaming",
          "Video_Streaming",
          "Video_Streaming",
          "Video_Streaming",
          "Video_Streaming",
          "Video_Streaming",
          "Video_Streaming",
          "Video_Streaming",
          "Video_Streaming",
          "Video_Streaming",
          "Video_Streaming",
          "Video_Streaming",
          "Video_Streaming",
          "Video_Streaming",
          "Video_Streaming",
          "Video_Streaming",
          "Video_Streaming",
          "Video_Streaming",
          "Video_Streaming",
          "Video_Streaming",
          "Video_Streaming",
          "Video_Streaming",
          "Video_Streaming",
          "Video_Streaming",
          "Video_Streaming",
          "Video_Streaming",
          "Video_Streaming",
          "Video_Streaming",
          "Video_Streaming",
          "Video_Streaming",
          "Video_Streaming",
          "Video_Streaming",
          "Video_Streaming",
          "Video_Streaming",
          "Video_Streaming",
          "Video_Streaming",
          "Video_Streaming",
          "Video_Streaming"
         ],
         "xaxis": "x",
         "yaxis": "y"
        },
        {
         "alignmentgroup": "True",
         "bingroup": "x",
         "hovertemplate": "Application_Type=%{x}<br>count=%{y}<extra></extra>",
         "legendgroup": "File_Download",
         "marker": {
          "color": "#FECB52",
          "pattern": {
           "shape": ""
          }
         },
         "name": "File_Download",
         "nbinsx": 30,
         "offsetgroup": "File_Download",
         "orientation": "v",
         "showlegend": true,
         "type": "histogram",
         "x": [
          "File_Download"
         ],
         "xaxis": "x",
         "yaxis": "y"
        },
        {
         "alignmentgroup": "True",
         "bingroup": "x",
         "hovertemplate": "Application_Type=%{x}<br>count=%{y}<extra></extra>",
         "legendgroup": "VoIP_Call",
         "marker": {
          "color": "#636efa",
          "pattern": {
           "shape": ""
          }
         },
         "name": "VoIP_Call",
         "nbinsx": 30,
         "offsetgroup": "VoIP_Call",
         "orientation": "v",
         "showlegend": true,
         "type": "histogram",
         "x": [
          "VoIP_Call",
          "VoIP_Call",
          "VoIP_Call",
          "VoIP_Call",
          "VoIP_Call",
          "VoIP_Call",
          "VoIP_Call",
          "VoIP_Call",
          "VoIP_Call",
          "VoIP_Call",
          "VoIP_Call",
          "VoIP_Call",
          "VoIP_Call",
          "VoIP_Call",
          "VoIP_Call",
          "VoIP_Call",
          "VoIP_Call",
          "VoIP_Call",
          "VoIP_Call",
          "VoIP_Call",
          "VoIP_Call",
          "VoIP_Call",
          "VoIP_Call",
          "VoIP_Call",
          "VoIP_Call",
          "VoIP_Call",
          "VoIP_Call",
          "VoIP_Call",
          "VoIP_Call",
          "VoIP_Call",
          "VoIP_Call",
          "VoIP_Call",
          "VoIP_Call",
          "VoIP_Call",
          "VoIP_Call",
          "VoIP_Call",
          "VoIP_Call",
          "VoIP_Call",
          "VoIP_Call",
          "VoIP_Call",
          "VoIP_Call",
          "VoIP_Call",
          "VoIP_Call",
          "VoIP_Call",
          "VoIP_Call",
          "VoIP_Call"
         ],
         "xaxis": "x",
         "yaxis": "y"
        }
       ],
       "layout": {
        "bargap": 0.2,
        "barmode": "relative",
        "legend": {
         "title": {
          "text": "Application_Type"
         },
         "tracegroupgap": 0
        },
        "template": {
         "data": {
          "bar": [
           {
            "error_x": {
             "color": "#2a3f5f"
            },
            "error_y": {
             "color": "#2a3f5f"
            },
            "marker": {
             "line": {
              "color": "#E5ECF6",
              "width": 0.5
             },
             "pattern": {
              "fillmode": "overlay",
              "size": 10,
              "solidity": 0.2
             }
            },
            "type": "bar"
           }
          ],
          "barpolar": [
           {
            "marker": {
             "line": {
              "color": "#E5ECF6",
              "width": 0.5
             },
             "pattern": {
              "fillmode": "overlay",
              "size": 10,
              "solidity": 0.2
             }
            },
            "type": "barpolar"
           }
          ],
          "carpet": [
           {
            "aaxis": {
             "endlinecolor": "#2a3f5f",
             "gridcolor": "white",
             "linecolor": "white",
             "minorgridcolor": "white",
             "startlinecolor": "#2a3f5f"
            },
            "baxis": {
             "endlinecolor": "#2a3f5f",
             "gridcolor": "white",
             "linecolor": "white",
             "minorgridcolor": "white",
             "startlinecolor": "#2a3f5f"
            },
            "type": "carpet"
           }
          ],
          "choropleth": [
           {
            "colorbar": {
             "outlinewidth": 0,
             "ticks": ""
            },
            "type": "choropleth"
           }
          ],
          "contour": [
           {
            "colorbar": {
             "outlinewidth": 0,
             "ticks": ""
            },
            "colorscale": [
             [
              0,
              "#0d0887"
             ],
             [
              0.1111111111111111,
              "#46039f"
             ],
             [
              0.2222222222222222,
              "#7201a8"
             ],
             [
              0.3333333333333333,
              "#9c179e"
             ],
             [
              0.4444444444444444,
              "#bd3786"
             ],
             [
              0.5555555555555556,
              "#d8576b"
             ],
             [
              0.6666666666666666,
              "#ed7953"
             ],
             [
              0.7777777777777778,
              "#fb9f3a"
             ],
             [
              0.8888888888888888,
              "#fdca26"
             ],
             [
              1,
              "#f0f921"
             ]
            ],
            "type": "contour"
           }
          ],
          "contourcarpet": [
           {
            "colorbar": {
             "outlinewidth": 0,
             "ticks": ""
            },
            "type": "contourcarpet"
           }
          ],
          "heatmap": [
           {
            "colorbar": {
             "outlinewidth": 0,
             "ticks": ""
            },
            "colorscale": [
             [
              0,
              "#0d0887"
             ],
             [
              0.1111111111111111,
              "#46039f"
             ],
             [
              0.2222222222222222,
              "#7201a8"
             ],
             [
              0.3333333333333333,
              "#9c179e"
             ],
             [
              0.4444444444444444,
              "#bd3786"
             ],
             [
              0.5555555555555556,
              "#d8576b"
             ],
             [
              0.6666666666666666,
              "#ed7953"
             ],
             [
              0.7777777777777778,
              "#fb9f3a"
             ],
             [
              0.8888888888888888,
              "#fdca26"
             ],
             [
              1,
              "#f0f921"
             ]
            ],
            "type": "heatmap"
           }
          ],
          "heatmapgl": [
           {
            "colorbar": {
             "outlinewidth": 0,
             "ticks": ""
            },
            "colorscale": [
             [
              0,
              "#0d0887"
             ],
             [
              0.1111111111111111,
              "#46039f"
             ],
             [
              0.2222222222222222,
              "#7201a8"
             ],
             [
              0.3333333333333333,
              "#9c179e"
             ],
             [
              0.4444444444444444,
              "#bd3786"
             ],
             [
              0.5555555555555556,
              "#d8576b"
             ],
             [
              0.6666666666666666,
              "#ed7953"
             ],
             [
              0.7777777777777778,
              "#fb9f3a"
             ],
             [
              0.8888888888888888,
              "#fdca26"
             ],
             [
              1,
              "#f0f921"
             ]
            ],
            "type": "heatmapgl"
           }
          ],
          "histogram": [
           {
            "marker": {
             "pattern": {
              "fillmode": "overlay",
              "size": 10,
              "solidity": 0.2
             }
            },
            "type": "histogram"
           }
          ],
          "histogram2d": [
           {
            "colorbar": {
             "outlinewidth": 0,
             "ticks": ""
            },
            "colorscale": [
             [
              0,
              "#0d0887"
             ],
             [
              0.1111111111111111,
              "#46039f"
             ],
             [
              0.2222222222222222,
              "#7201a8"
             ],
             [
              0.3333333333333333,
              "#9c179e"
             ],
             [
              0.4444444444444444,
              "#bd3786"
             ],
             [
              0.5555555555555556,
              "#d8576b"
             ],
             [
              0.6666666666666666,
              "#ed7953"
             ],
             [
              0.7777777777777778,
              "#fb9f3a"
             ],
             [
              0.8888888888888888,
              "#fdca26"
             ],
             [
              1,
              "#f0f921"
             ]
            ],
            "type": "histogram2d"
           }
          ],
          "histogram2dcontour": [
           {
            "colorbar": {
             "outlinewidth": 0,
             "ticks": ""
            },
            "colorscale": [
             [
              0,
              "#0d0887"
             ],
             [
              0.1111111111111111,
              "#46039f"
             ],
             [
              0.2222222222222222,
              "#7201a8"
             ],
             [
              0.3333333333333333,
              "#9c179e"
             ],
             [
              0.4444444444444444,
              "#bd3786"
             ],
             [
              0.5555555555555556,
              "#d8576b"
             ],
             [
              0.6666666666666666,
              "#ed7953"
             ],
             [
              0.7777777777777778,
              "#fb9f3a"
             ],
             [
              0.8888888888888888,
              "#fdca26"
             ],
             [
              1,
              "#f0f921"
             ]
            ],
            "type": "histogram2dcontour"
           }
          ],
          "mesh3d": [
           {
            "colorbar": {
             "outlinewidth": 0,
             "ticks": ""
            },
            "type": "mesh3d"
           }
          ],
          "parcoords": [
           {
            "line": {
             "colorbar": {
              "outlinewidth": 0,
              "ticks": ""
             }
            },
            "type": "parcoords"
           }
          ],
          "pie": [
           {
            "automargin": true,
            "type": "pie"
           }
          ],
          "scatter": [
           {
            "fillpattern": {
             "fillmode": "overlay",
             "size": 10,
             "solidity": 0.2
            },
            "type": "scatter"
           }
          ],
          "scatter3d": [
           {
            "line": {
             "colorbar": {
              "outlinewidth": 0,
              "ticks": ""
             }
            },
            "marker": {
             "colorbar": {
              "outlinewidth": 0,
              "ticks": ""
             }
            },
            "type": "scatter3d"
           }
          ],
          "scattercarpet": [
           {
            "marker": {
             "colorbar": {
              "outlinewidth": 0,
              "ticks": ""
             }
            },
            "type": "scattercarpet"
           }
          ],
          "scattergeo": [
           {
            "marker": {
             "colorbar": {
              "outlinewidth": 0,
              "ticks": ""
             }
            },
            "type": "scattergeo"
           }
          ],
          "scattergl": [
           {
            "marker": {
             "colorbar": {
              "outlinewidth": 0,
              "ticks": ""
             }
            },
            "type": "scattergl"
           }
          ],
          "scattermapbox": [
           {
            "marker": {
             "colorbar": {
              "outlinewidth": 0,
              "ticks": ""
             }
            },
            "type": "scattermapbox"
           }
          ],
          "scatterpolar": [
           {
            "marker": {
             "colorbar": {
              "outlinewidth": 0,
              "ticks": ""
             }
            },
            "type": "scatterpolar"
           }
          ],
          "scatterpolargl": [
           {
            "marker": {
             "colorbar": {
              "outlinewidth": 0,
              "ticks": ""
             }
            },
            "type": "scatterpolargl"
           }
          ],
          "scatterternary": [
           {
            "marker": {
             "colorbar": {
              "outlinewidth": 0,
              "ticks": ""
             }
            },
            "type": "scatterternary"
           }
          ],
          "surface": [
           {
            "colorbar": {
             "outlinewidth": 0,
             "ticks": ""
            },
            "colorscale": [
             [
              0,
              "#0d0887"
             ],
             [
              0.1111111111111111,
              "#46039f"
             ],
             [
              0.2222222222222222,
              "#7201a8"
             ],
             [
              0.3333333333333333,
              "#9c179e"
             ],
             [
              0.4444444444444444,
              "#bd3786"
             ],
             [
              0.5555555555555556,
              "#d8576b"
             ],
             [
              0.6666666666666666,
              "#ed7953"
             ],
             [
              0.7777777777777778,
              "#fb9f3a"
             ],
             [
              0.8888888888888888,
              "#fdca26"
             ],
             [
              1,
              "#f0f921"
             ]
            ],
            "type": "surface"
           }
          ],
          "table": [
           {
            "cells": {
             "fill": {
              "color": "#EBF0F8"
             },
             "line": {
              "color": "white"
             }
            },
            "header": {
             "fill": {
              "color": "#C8D4E3"
             },
             "line": {
              "color": "white"
             }
            },
            "type": "table"
           }
          ]
         },
         "layout": {
          "annotationdefaults": {
           "arrowcolor": "#2a3f5f",
           "arrowhead": 0,
           "arrowwidth": 1
          },
          "autotypenumbers": "strict",
          "coloraxis": {
           "colorbar": {
            "outlinewidth": 0,
            "ticks": ""
           }
          },
          "colorscale": {
           "diverging": [
            [
             0,
             "#8e0152"
            ],
            [
             0.1,
             "#c51b7d"
            ],
            [
             0.2,
             "#de77ae"
            ],
            [
             0.3,
             "#f1b6da"
            ],
            [
             0.4,
             "#fde0ef"
            ],
            [
             0.5,
             "#f7f7f7"
            ],
            [
             0.6,
             "#e6f5d0"
            ],
            [
             0.7,
             "#b8e186"
            ],
            [
             0.8,
             "#7fbc41"
            ],
            [
             0.9,
             "#4d9221"
            ],
            [
             1,
             "#276419"
            ]
           ],
           "sequential": [
            [
             0,
             "#0d0887"
            ],
            [
             0.1111111111111111,
             "#46039f"
            ],
            [
             0.2222222222222222,
             "#7201a8"
            ],
            [
             0.3333333333333333,
             "#9c179e"
            ],
            [
             0.4444444444444444,
             "#bd3786"
            ],
            [
             0.5555555555555556,
             "#d8576b"
            ],
            [
             0.6666666666666666,
             "#ed7953"
            ],
            [
             0.7777777777777778,
             "#fb9f3a"
            ],
            [
             0.8888888888888888,
             "#fdca26"
            ],
            [
             1,
             "#f0f921"
            ]
           ],
           "sequentialminus": [
            [
             0,
             "#0d0887"
            ],
            [
             0.1111111111111111,
             "#46039f"
            ],
            [
             0.2222222222222222,
             "#7201a8"
            ],
            [
             0.3333333333333333,
             "#9c179e"
            ],
            [
             0.4444444444444444,
             "#bd3786"
            ],
            [
             0.5555555555555556,
             "#d8576b"
            ],
            [
             0.6666666666666666,
             "#ed7953"
            ],
            [
             0.7777777777777778,
             "#fb9f3a"
            ],
            [
             0.8888888888888888,
             "#fdca26"
            ],
            [
             1,
             "#f0f921"
            ]
           ]
          },
          "colorway": [
           "#636efa",
           "#EF553B",
           "#00cc96",
           "#ab63fa",
           "#FFA15A",
           "#19d3f3",
           "#FF6692",
           "#B6E880",
           "#FF97FF",
           "#FECB52"
          ],
          "font": {
           "color": "#2a3f5f"
          },
          "geo": {
           "bgcolor": "white",
           "lakecolor": "white",
           "landcolor": "#E5ECF6",
           "showlakes": true,
           "showland": true,
           "subunitcolor": "white"
          },
          "hoverlabel": {
           "align": "left"
          },
          "hovermode": "closest",
          "mapbox": {
           "style": "light"
          },
          "paper_bgcolor": "white",
          "plot_bgcolor": "#E5ECF6",
          "polar": {
           "angularaxis": {
            "gridcolor": "white",
            "linecolor": "white",
            "ticks": ""
           },
           "bgcolor": "#E5ECF6",
           "radialaxis": {
            "gridcolor": "white",
            "linecolor": "white",
            "ticks": ""
           }
          },
          "scene": {
           "xaxis": {
            "backgroundcolor": "#E5ECF6",
            "gridcolor": "white",
            "gridwidth": 2,
            "linecolor": "white",
            "showbackground": true,
            "ticks": "",
            "zerolinecolor": "white"
           },
           "yaxis": {
            "backgroundcolor": "#E5ECF6",
            "gridcolor": "white",
            "gridwidth": 2,
            "linecolor": "white",
            "showbackground": true,
            "ticks": "",
            "zerolinecolor": "white"
           },
           "zaxis": {
            "backgroundcolor": "#E5ECF6",
            "gridcolor": "white",
            "gridwidth": 2,
            "linecolor": "white",
            "showbackground": true,
            "ticks": "",
            "zerolinecolor": "white"
           }
          },
          "shapedefaults": {
           "line": {
            "color": "#2a3f5f"
           }
          },
          "ternary": {
           "aaxis": {
            "gridcolor": "white",
            "linecolor": "white",
            "ticks": ""
           },
           "baxis": {
            "gridcolor": "white",
            "linecolor": "white",
            "ticks": ""
           },
           "bgcolor": "#E5ECF6",
           "caxis": {
            "gridcolor": "white",
            "linecolor": "white",
            "ticks": ""
           }
          },
          "title": {
           "x": 0.05
          },
          "xaxis": {
           "automargin": true,
           "gridcolor": "white",
           "linecolor": "white",
           "ticks": "",
           "title": {
            "standoff": 15
           },
           "zerolinecolor": "white",
           "zerolinewidth": 2
          },
          "yaxis": {
           "automargin": true,
           "gridcolor": "white",
           "linecolor": "white",
           "ticks": "",
           "title": {
            "standoff": 15
           },
           "zerolinecolor": "white",
           "zerolinewidth": 2
          }
         }
        },
        "title": {
         "text": "Distribution of Application Types"
        },
        "xaxis": {
         "anchor": "y",
         "categoryarray": [
          "Video_Call",
          "Voice_Call",
          "Streaming",
          "Emergency_Service",
          "Online_Gaming",
          "Background_Download",
          "Web_Browsing",
          "IoT_Temperature",
          "Video_Streaming",
          "File_Download",
          "VoIP_Call"
         ],
         "categoryorder": "array",
         "domain": [
          0,
          1
         ],
         "title": {
          "text": "Application Type"
         }
        },
        "yaxis": {
         "anchor": "x",
         "domain": [
          0,
          1
         ],
         "title": {
          "text": "Count"
         }
        }
       }
      }
     },
     "metadata": {},
     "output_type": "display_data"
    }
   ],
   "source": [
    "# Plot some visualizations\n",
    "\n",
    "# Histogram for Application types\n",
    "\n",
    "fig = px.histogram(df, x='Application_Type', \n",
    "                   title='Distribution of Application Types', \n",
    "                   nbins=30, \n",
    "                   color='Application_Type')\n",
    "fig.update_layout(\n",
    "    xaxis_title='Application Type',\n",
    "    yaxis_title='Count',\n",
    "    bargap=0.2)\n",
    "fig.show()"
   ]
  },
  {
   "cell_type": "code",
   "execution_count": 59,
   "id": "4e05fede",
   "metadata": {},
   "outputs": [
    {
     "data": {
      "application/vnd.plotly.v1+json": {
       "config": {
        "plotlyServerURL": "https://plot.ly"
       },
       "data": [
        {
         "hovertemplate": "Application_Type=Video_Call<br>Required_Bandwidth=%{x}<br>Allocated_Bandwidth=%{y}<extra></extra>",
         "legendgroup": "Video_Call",
         "marker": {
          "color": "#636efa",
          "symbol": "circle"
         },
         "mode": "markers",
         "name": "Video_Call",
         "orientation": "v",
         "showlegend": true,
         "type": "scatter",
         "x": [
          10,
          12,
          10,
          11,
          10.5,
          10.2,
          10.8,
          10.5,
          10.2,
          11,
          10.7,
          10.3,
          10.9,
          10.7,
          11,
          10.8,
          11.2,
          10.9,
          11.4,
          11.2,
          10.8,
          11.4,
          11.2,
          0.15,
          11,
          11.1,
          11.3,
          11.5,
          11.6,
          11.7,
          11.8,
          11.9,
          12,
          12.1,
          12.2,
          12.3,
          12.4,
          12.5,
          12.6,
          12.7,
          12.8,
          12.9,
          13,
          13.1,
          13.2,
          13.3,
          13.4,
          13.5,
          13.6,
          13.7,
          13.8,
          13.9,
          14,
          14.1,
          14.2,
          14.3,
          14.4,
          14.5
         ],
         "xaxis": "x",
         "y": [
          15,
          14,
          12,
          13,
          12.5,
          12.2,
          12.8,
          12.3,
          12.6,
          12.5,
          12.3,
          12.1,
          12.4,
          12.2,
          12.5,
          12,
          12.8,
          12.1,
          12.7,
          12.5,
          12,
          12.7,
          12.5,
          0.175,
          12.3,
          12.4,
          12.6,
          12.8,
          12.9,
          13,
          13.1,
          13.2,
          13.3,
          13.4,
          13.5,
          13.6,
          13.7,
          13.8,
          13.9,
          14,
          14.1,
          14.2,
          14.3,
          14.4,
          14.5,
          14.6,
          14.7,
          14.8,
          14.9,
          15,
          15.1,
          15.2,
          15.3,
          15.4,
          15.5,
          15.6,
          15.7,
          15.8
         ],
         "yaxis": "y"
        },
        {
         "hovertemplate": "Application_Type=Voice_Call<br>Required_Bandwidth=%{x}<br>Allocated_Bandwidth=%{y}<extra></extra>",
         "legendgroup": "Voice_Call",
         "marker": {
          "color": "#EF553B",
          "symbol": "circle"
         },
         "mode": "markers",
         "name": "Voice_Call",
         "orientation": "v",
         "showlegend": true,
         "type": "scatter",
         "x": [
          0.1
         ],
         "xaxis": "x",
         "y": [
          0.12
         ],
         "yaxis": "y"
        },
        {
         "hovertemplate": "Application_Type=Streaming<br>Required_Bandwidth=%{x}<br>Allocated_Bandwidth=%{y}<extra></extra>",
         "legendgroup": "Streaming",
         "marker": {
          "color": "#00cc96",
          "symbol": "circle"
         },
         "mode": "markers",
         "name": "Streaming",
         "orientation": "v",
         "showlegend": true,
         "type": "scatter",
         "x": [
          5,
          4.5,
          4.2,
          4,
          3.8,
          4.1,
          4.3,
          4.4,
          4.5,
          4.6,
          4.5,
          4.6,
          4.5,
          5,
          4.4,
          4.3,
          4.4,
          4.2,
          4.1,
          4,
          3.9,
          3.8,
          3.7,
          3.6,
          3.5,
          3.4,
          3.3,
          3.2,
          3.1,
          3,
          2.9,
          2.8,
          2.7,
          2.6,
          2.5,
          2.4,
          2.3,
          2.2,
          2.1,
          2,
          1.9,
          1.8,
          1.7,
          1.6,
          1.5,
          1.4,
          1.3
         ],
         "xaxis": "x",
         "y": [
          6,
          5,
          4.8,
          4.6,
          4.4,
          4.7,
          4.9,
          5,
          5.1,
          5.2,
          5.1,
          5.2,
          5.1,
          5.7,
          5,
          4.8,
          4.9,
          4.7,
          4.6,
          4.5,
          4.4,
          4.3,
          4.2,
          4.1,
          4,
          3.9,
          3.8,
          3.7,
          3.6,
          3.5,
          3.4,
          3.3,
          3.2,
          3.1,
          3,
          2.9,
          2.8,
          2.7,
          2.6,
          2.5,
          2.4,
          2.3,
          2.2,
          2.1,
          2,
          1.9,
          1.8
         ],
         "yaxis": "y"
        },
        {
         "hovertemplate": "Application_Type=Emergency_Service<br>Required_Bandwidth=%{x}<br>Allocated_Bandwidth=%{y}<extra></extra>",
         "legendgroup": "Emergency_Service",
         "marker": {
          "color": "#ab63fa",
          "symbol": "circle"
         },
         "mode": "markers",
         "name": "Emergency_Service",
         "orientation": "v",
         "showlegend": true,
         "type": "scatter",
         "x": [
          1,
          1.2,
          1.1,
          1,
          1.1,
          1,
          1,
          0.9,
          0.8,
          0.7,
          0.8,
          0.7,
          0.8,
          0.9,
          0.9,
          0.8,
          0.8,
          0.7,
          0.7,
          0.7,
          0.7,
          0.6,
          0.6,
          0.6,
          0.6,
          0.6,
          0.6,
          0.6,
          0.6,
          0.6,
          0.6,
          0.6,
          0.5,
          0.5,
          0.5,
          0.5,
          0.5,
          0.5,
          0.5,
          0.5,
          0.5,
          0.5,
          0.4,
          0.4,
          0.4,
          0.4,
          0.4
         ],
         "xaxis": "x",
         "y": [
          1.5,
          1.3,
          1.2,
          1.1,
          1.2,
          1.1,
          1.1,
          1,
          0.9,
          0.8,
          0.9,
          0.8,
          0.9,
          1,
          1.1,
          1,
          1,
          0.9,
          0.8,
          0.8,
          0.8,
          0.7,
          0.7,
          0.6,
          0.6,
          0.6,
          0.6,
          0.6,
          0.6,
          0.6,
          0.6,
          0.6,
          0.5,
          0.5,
          0.5,
          0.5,
          0.5,
          0.5,
          0.5,
          0.5,
          0.5,
          0.5,
          0.4,
          0.4,
          0.4,
          0.4,
          0.4
         ],
         "yaxis": "y"
        },
        {
         "hovertemplate": "Application_Type=Online_Gaming<br>Required_Bandwidth=%{x}<br>Allocated_Bandwidth=%{y}<extra></extra>",
         "legendgroup": "Online_Gaming",
         "marker": {
          "color": "#FFA15A",
          "symbol": "circle"
         },
         "mode": "markers",
         "name": "Online_Gaming",
         "orientation": "v",
         "showlegend": true,
         "type": "scatter",
         "x": [
          2,
          2.5,
          2.2,
          2.3,
          2.4,
          2.6,
          2.7,
          2.8,
          2.9,
          3,
          2.9,
          3.1,
          2.9,
          3.2,
          3.3,
          3.4,
          3.5,
          3.6,
          3.7,
          3.8,
          3.9,
          4,
          4.1,
          4.2,
          4.3,
          4.4,
          4.5,
          4.6,
          4.7,
          4.8,
          4.9,
          5,
          5.1,
          5.2,
          5.3,
          5.4,
          5.5,
          5.6,
          5.7,
          5.8,
          5.9,
          6,
          6.1,
          6.2,
          6.3
         ],
         "xaxis": "x",
         "y": [
          3,
          2.8,
          2.5,
          2.6,
          2.7,
          2.9,
          3,
          3.1,
          3.2,
          3.3,
          3.2,
          3.4,
          3.2,
          3.5,
          3.6,
          3.7,
          3.8,
          3.9,
          4,
          4.1,
          4.2,
          4.3,
          4.4,
          4.5,
          4.6,
          4.7,
          4.8,
          4.9,
          5,
          5.1,
          5.2,
          5.3,
          5.4,
          5.5,
          5.6,
          5.7,
          5.8,
          5.9,
          6,
          6.1,
          6.2,
          6.3,
          6.4,
          6.5,
          6.6
         ],
         "yaxis": "y"
        },
        {
         "hovertemplate": "Application_Type=Background_Download<br>Required_Bandwidth=%{x}<br>Allocated_Bandwidth=%{y}<extra></extra>",
         "legendgroup": "Background_Download",
         "marker": {
          "color": "#19d3f3",
          "symbol": "circle"
         },
         "mode": "markers",
         "name": "Background_Download",
         "orientation": "v",
         "showlegend": true,
         "type": "scatter",
         "x": [
          0.5,
          0.6,
          0.62,
          0.63,
          0.64,
          0.65,
          0.66,
          0.67,
          0.68,
          0.69,
          0.67,
          0.68,
          0.67,
          0.62,
          0.66,
          0.61,
          0.65,
          0.64,
          0.63,
          0.62,
          0.61,
          0.6,
          0.59,
          0.58,
          0.57,
          0.56,
          0.55,
          0.54,
          0.53,
          0.52,
          0.51,
          0.5,
          0.49,
          0.48,
          0.47,
          0.46,
          0.45,
          0.44,
          0.43,
          0.42,
          0.41,
          0.4,
          0.39,
          0.38,
          0.37,
          0.36,
          0.35
         ],
         "xaxis": "x",
         "y": [
          0.55,
          0.6,
          0.62,
          0.63,
          0.64,
          0.65,
          0.66,
          0.67,
          0.68,
          0.69,
          0.67,
          0.68,
          0.67,
          0.62,
          0.66,
          0.61,
          0.65,
          0.64,
          0.63,
          0.62,
          0.61,
          0.6,
          0.59,
          0.58,
          0.57,
          0.56,
          0.55,
          0.54,
          0.53,
          0.52,
          0.51,
          0.5,
          0.49,
          0.48,
          0.47,
          0.46,
          0.45,
          0.44,
          0.43,
          0.42,
          0.41,
          0.4,
          0.39,
          0.38,
          0.37,
          0.36,
          0.35
         ],
         "yaxis": "y"
        },
        {
         "hovertemplate": "Application_Type=Web_Browsing<br>Required_Bandwidth=%{x}<br>Allocated_Bandwidth=%{y}<extra></extra>",
         "legendgroup": "Web_Browsing",
         "marker": {
          "color": "#FF6692",
          "symbol": "circle"
         },
         "mode": "markers",
         "name": "Web_Browsing",
         "orientation": "v",
         "showlegend": true,
         "type": "scatter",
         "x": [
          1,
          1.2,
          1.4,
          1.3,
          1.2,
          1.1,
          1,
          0.9,
          0.8,
          0.7,
          0.8,
          0.7,
          0.8,
          1.5,
          0.6,
          0.7,
          0.6,
          0.5,
          0.5,
          0.5,
          0.5,
          0.4,
          0.4,
          0.4,
          0.4,
          0.4,
          0.3,
          0.3,
          0.3,
          0.2,
          0.2,
          0.2,
          0.1,
          0.1,
          0.1,
          0.1,
          0.1,
          0.1,
          0.1,
          0.1,
          0.1,
          0.1,
          0.1,
          0.1,
          0.1,
          0.1,
          0.1,
          0.1
         ],
         "xaxis": "x",
         "y": [
          1,
          1.2,
          1.4,
          1.3,
          1.2,
          1.1,
          1,
          0.9,
          0.8,
          0.7,
          0.8,
          0.7,
          0.8,
          1.5,
          0.6,
          0.7,
          0.6,
          0.5,
          0.5,
          0.5,
          0.5,
          0.4,
          0.4,
          0.4,
          0.4,
          0.4,
          0.3,
          0.3,
          0.3,
          0.2,
          0.2,
          0.2,
          0.1,
          0.1,
          0.1,
          0.1,
          0.1,
          0.1,
          0.1,
          0.1,
          0.1,
          0.1,
          0.1,
          0.1,
          0.1,
          0.1,
          0.1,
          0.1
         ],
         "yaxis": "y"
        },
        {
         "hovertemplate": "Application_Type=IoT_Temperature<br>Required_Bandwidth=%{x}<br>Allocated_Bandwidth=%{y}<extra></extra>",
         "legendgroup": "IoT_Temperature",
         "marker": {
          "color": "#B6E880",
          "symbol": "circle"
         },
         "mode": "markers",
         "name": "IoT_Temperature",
         "orientation": "v",
         "showlegend": true,
         "type": "scatter",
         "x": [
          0.01,
          0.008,
          0.007,
          0.006,
          0.005,
          0.004,
          0.003,
          0.002,
          0.001,
          0.001,
          0.001,
          0.001,
          0.001
         ],
         "xaxis": "x",
         "y": [
          0.015,
          0.009,
          0.008,
          0.007,
          0.006,
          0.005,
          0.004,
          0.003,
          0.002,
          0.002,
          0.002,
          0.002,
          0.002
         ],
         "yaxis": "y"
        },
        {
         "hovertemplate": "Application_Type=Video_Streaming<br>Required_Bandwidth=%{x}<br>Allocated_Bandwidth=%{y}<extra></extra>",
         "legendgroup": "Video_Streaming",
         "marker": {
          "color": "#FF97FF",
          "symbol": "circle"
         },
         "mode": "markers",
         "name": "Video_Streaming",
         "orientation": "v",
         "showlegend": true,
         "type": "scatter",
         "x": [
          3,
          3.2,
          3.4,
          3.5,
          3.6,
          3.7,
          3.8,
          3.9,
          4,
          4.1,
          4,
          4.1,
          4,
          4.2,
          4.1,
          4,
          4,
          3.9,
          3.8,
          3.7,
          3.6,
          3.5,
          3.4,
          3.3,
          3.2,
          3.1,
          3,
          2.9,
          2.8,
          2.7,
          2.6,
          2.5,
          2.4,
          2.3,
          2.2,
          2.1,
          2,
          1.9,
          1.8,
          1.7,
          1.6,
          1.5,
          1.4,
          1.3,
          1.2,
          1.1,
          1
         ],
         "xaxis": "x",
         "y": [
          3.5,
          3.5,
          3.7,
          3.8,
          3.9,
          4,
          4.1,
          4.2,
          4.3,
          4.4,
          4.3,
          4.4,
          4.3,
          4.6,
          4.5,
          4.4,
          4.4,
          4.3,
          4.2,
          4.1,
          4,
          3.9,
          3.8,
          3.7,
          3.6,
          3.5,
          3.4,
          3.3,
          3.2,
          3.1,
          3,
          2.9,
          2.8,
          2.7,
          2.6,
          2.5,
          2.4,
          2.3,
          2.2,
          2.1,
          2,
          1.9,
          1.8,
          1.7,
          1.6,
          1.5,
          1.4
         ],
         "yaxis": "y"
        },
        {
         "hovertemplate": "Application_Type=File_Download<br>Required_Bandwidth=%{x}<br>Allocated_Bandwidth=%{y}<extra></extra>",
         "legendgroup": "File_Download",
         "marker": {
          "color": "#FECB52",
          "symbol": "circle"
         },
         "mode": "markers",
         "name": "File_Download",
         "orientation": "v",
         "showlegend": true,
         "type": "scatter",
         "x": [
          2
         ],
         "xaxis": "x",
         "y": [
          2
         ],
         "yaxis": "y"
        },
        {
         "hovertemplate": "Application_Type=VoIP_Call<br>Required_Bandwidth=%{x}<br>Allocated_Bandwidth=%{y}<extra></extra>",
         "legendgroup": "VoIP_Call",
         "marker": {
          "color": "#636efa",
          "symbol": "circle"
         },
         "mode": "markers",
         "name": "VoIP_Call",
         "orientation": "v",
         "showlegend": true,
         "type": "scatter",
         "x": [
          0.15,
          0.16,
          0.17,
          0.165,
          0.16,
          0.155,
          0.15,
          0.145,
          0.14,
          0.155,
          0.15,
          0.145,
          0.155,
          0.13,
          0.125,
          0.12,
          0.115,
          0.11,
          0.105,
          0.1,
          0.095,
          0.09,
          0.085,
          0.08,
          0.075,
          0.07,
          0.065,
          0.06,
          0.055,
          0.05,
          0.045,
          0.04,
          0.035,
          0.03,
          0.025,
          0.02,
          0.015,
          0.01,
          0.005,
          0,
          0,
          0,
          0,
          0,
          0,
          0
         ],
         "xaxis": "x",
         "y": [
          0.17,
          0.18,
          0.19,
          0.185,
          0.19,
          0.18,
          0.175,
          0.17,
          0.165,
          0.18,
          0.175,
          0.17,
          0.18,
          0.155,
          0.15,
          0.145,
          0.14,
          0.135,
          0.13,
          0.125,
          0.12,
          0.115,
          0.11,
          0.105,
          0.1,
          0.095,
          0.09,
          0.085,
          0.08,
          0.075,
          0.07,
          0.065,
          0.06,
          0.055,
          0.05,
          0.045,
          0.04,
          0.035,
          0.03,
          0.025,
          0.02,
          0.015,
          0.01,
          0.005,
          0,
          0
         ],
         "yaxis": "y"
        }
       ],
       "layout": {
        "legend": {
         "title": {
          "text": "Application_Type"
         },
         "tracegroupgap": 0
        },
        "template": {
         "data": {
          "bar": [
           {
            "error_x": {
             "color": "#2a3f5f"
            },
            "error_y": {
             "color": "#2a3f5f"
            },
            "marker": {
             "line": {
              "color": "#E5ECF6",
              "width": 0.5
             },
             "pattern": {
              "fillmode": "overlay",
              "size": 10,
              "solidity": 0.2
             }
            },
            "type": "bar"
           }
          ],
          "barpolar": [
           {
            "marker": {
             "line": {
              "color": "#E5ECF6",
              "width": 0.5
             },
             "pattern": {
              "fillmode": "overlay",
              "size": 10,
              "solidity": 0.2
             }
            },
            "type": "barpolar"
           }
          ],
          "carpet": [
           {
            "aaxis": {
             "endlinecolor": "#2a3f5f",
             "gridcolor": "white",
             "linecolor": "white",
             "minorgridcolor": "white",
             "startlinecolor": "#2a3f5f"
            },
            "baxis": {
             "endlinecolor": "#2a3f5f",
             "gridcolor": "white",
             "linecolor": "white",
             "minorgridcolor": "white",
             "startlinecolor": "#2a3f5f"
            },
            "type": "carpet"
           }
          ],
          "choropleth": [
           {
            "colorbar": {
             "outlinewidth": 0,
             "ticks": ""
            },
            "type": "choropleth"
           }
          ],
          "contour": [
           {
            "colorbar": {
             "outlinewidth": 0,
             "ticks": ""
            },
            "colorscale": [
             [
              0,
              "#0d0887"
             ],
             [
              0.1111111111111111,
              "#46039f"
             ],
             [
              0.2222222222222222,
              "#7201a8"
             ],
             [
              0.3333333333333333,
              "#9c179e"
             ],
             [
              0.4444444444444444,
              "#bd3786"
             ],
             [
              0.5555555555555556,
              "#d8576b"
             ],
             [
              0.6666666666666666,
              "#ed7953"
             ],
             [
              0.7777777777777778,
              "#fb9f3a"
             ],
             [
              0.8888888888888888,
              "#fdca26"
             ],
             [
              1,
              "#f0f921"
             ]
            ],
            "type": "contour"
           }
          ],
          "contourcarpet": [
           {
            "colorbar": {
             "outlinewidth": 0,
             "ticks": ""
            },
            "type": "contourcarpet"
           }
          ],
          "heatmap": [
           {
            "colorbar": {
             "outlinewidth": 0,
             "ticks": ""
            },
            "colorscale": [
             [
              0,
              "#0d0887"
             ],
             [
              0.1111111111111111,
              "#46039f"
             ],
             [
              0.2222222222222222,
              "#7201a8"
             ],
             [
              0.3333333333333333,
              "#9c179e"
             ],
             [
              0.4444444444444444,
              "#bd3786"
             ],
             [
              0.5555555555555556,
              "#d8576b"
             ],
             [
              0.6666666666666666,
              "#ed7953"
             ],
             [
              0.7777777777777778,
              "#fb9f3a"
             ],
             [
              0.8888888888888888,
              "#fdca26"
             ],
             [
              1,
              "#f0f921"
             ]
            ],
            "type": "heatmap"
           }
          ],
          "heatmapgl": [
           {
            "colorbar": {
             "outlinewidth": 0,
             "ticks": ""
            },
            "colorscale": [
             [
              0,
              "#0d0887"
             ],
             [
              0.1111111111111111,
              "#46039f"
             ],
             [
              0.2222222222222222,
              "#7201a8"
             ],
             [
              0.3333333333333333,
              "#9c179e"
             ],
             [
              0.4444444444444444,
              "#bd3786"
             ],
             [
              0.5555555555555556,
              "#d8576b"
             ],
             [
              0.6666666666666666,
              "#ed7953"
             ],
             [
              0.7777777777777778,
              "#fb9f3a"
             ],
             [
              0.8888888888888888,
              "#fdca26"
             ],
             [
              1,
              "#f0f921"
             ]
            ],
            "type": "heatmapgl"
           }
          ],
          "histogram": [
           {
            "marker": {
             "pattern": {
              "fillmode": "overlay",
              "size": 10,
              "solidity": 0.2
             }
            },
            "type": "histogram"
           }
          ],
          "histogram2d": [
           {
            "colorbar": {
             "outlinewidth": 0,
             "ticks": ""
            },
            "colorscale": [
             [
              0,
              "#0d0887"
             ],
             [
              0.1111111111111111,
              "#46039f"
             ],
             [
              0.2222222222222222,
              "#7201a8"
             ],
             [
              0.3333333333333333,
              "#9c179e"
             ],
             [
              0.4444444444444444,
              "#bd3786"
             ],
             [
              0.5555555555555556,
              "#d8576b"
             ],
             [
              0.6666666666666666,
              "#ed7953"
             ],
             [
              0.7777777777777778,
              "#fb9f3a"
             ],
             [
              0.8888888888888888,
              "#fdca26"
             ],
             [
              1,
              "#f0f921"
             ]
            ],
            "type": "histogram2d"
           }
          ],
          "histogram2dcontour": [
           {
            "colorbar": {
             "outlinewidth": 0,
             "ticks": ""
            },
            "colorscale": [
             [
              0,
              "#0d0887"
             ],
             [
              0.1111111111111111,
              "#46039f"
             ],
             [
              0.2222222222222222,
              "#7201a8"
             ],
             [
              0.3333333333333333,
              "#9c179e"
             ],
             [
              0.4444444444444444,
              "#bd3786"
             ],
             [
              0.5555555555555556,
              "#d8576b"
             ],
             [
              0.6666666666666666,
              "#ed7953"
             ],
             [
              0.7777777777777778,
              "#fb9f3a"
             ],
             [
              0.8888888888888888,
              "#fdca26"
             ],
             [
              1,
              "#f0f921"
             ]
            ],
            "type": "histogram2dcontour"
           }
          ],
          "mesh3d": [
           {
            "colorbar": {
             "outlinewidth": 0,
             "ticks": ""
            },
            "type": "mesh3d"
           }
          ],
          "parcoords": [
           {
            "line": {
             "colorbar": {
              "outlinewidth": 0,
              "ticks": ""
             }
            },
            "type": "parcoords"
           }
          ],
          "pie": [
           {
            "automargin": true,
            "type": "pie"
           }
          ],
          "scatter": [
           {
            "fillpattern": {
             "fillmode": "overlay",
             "size": 10,
             "solidity": 0.2
            },
            "type": "scatter"
           }
          ],
          "scatter3d": [
           {
            "line": {
             "colorbar": {
              "outlinewidth": 0,
              "ticks": ""
             }
            },
            "marker": {
             "colorbar": {
              "outlinewidth": 0,
              "ticks": ""
             }
            },
            "type": "scatter3d"
           }
          ],
          "scattercarpet": [
           {
            "marker": {
             "colorbar": {
              "outlinewidth": 0,
              "ticks": ""
             }
            },
            "type": "scattercarpet"
           }
          ],
          "scattergeo": [
           {
            "marker": {
             "colorbar": {
              "outlinewidth": 0,
              "ticks": ""
             }
            },
            "type": "scattergeo"
           }
          ],
          "scattergl": [
           {
            "marker": {
             "colorbar": {
              "outlinewidth": 0,
              "ticks": ""
             }
            },
            "type": "scattergl"
           }
          ],
          "scattermapbox": [
           {
            "marker": {
             "colorbar": {
              "outlinewidth": 0,
              "ticks": ""
             }
            },
            "type": "scattermapbox"
           }
          ],
          "scatterpolar": [
           {
            "marker": {
             "colorbar": {
              "outlinewidth": 0,
              "ticks": ""
             }
            },
            "type": "scatterpolar"
           }
          ],
          "scatterpolargl": [
           {
            "marker": {
             "colorbar": {
              "outlinewidth": 0,
              "ticks": ""
             }
            },
            "type": "scatterpolargl"
           }
          ],
          "scatterternary": [
           {
            "marker": {
             "colorbar": {
              "outlinewidth": 0,
              "ticks": ""
             }
            },
            "type": "scatterternary"
           }
          ],
          "surface": [
           {
            "colorbar": {
             "outlinewidth": 0,
             "ticks": ""
            },
            "colorscale": [
             [
              0,
              "#0d0887"
             ],
             [
              0.1111111111111111,
              "#46039f"
             ],
             [
              0.2222222222222222,
              "#7201a8"
             ],
             [
              0.3333333333333333,
              "#9c179e"
             ],
             [
              0.4444444444444444,
              "#bd3786"
             ],
             [
              0.5555555555555556,
              "#d8576b"
             ],
             [
              0.6666666666666666,
              "#ed7953"
             ],
             [
              0.7777777777777778,
              "#fb9f3a"
             ],
             [
              0.8888888888888888,
              "#fdca26"
             ],
             [
              1,
              "#f0f921"
             ]
            ],
            "type": "surface"
           }
          ],
          "table": [
           {
            "cells": {
             "fill": {
              "color": "#EBF0F8"
             },
             "line": {
              "color": "white"
             }
            },
            "header": {
             "fill": {
              "color": "#C8D4E3"
             },
             "line": {
              "color": "white"
             }
            },
            "type": "table"
           }
          ]
         },
         "layout": {
          "annotationdefaults": {
           "arrowcolor": "#2a3f5f",
           "arrowhead": 0,
           "arrowwidth": 1
          },
          "autotypenumbers": "strict",
          "coloraxis": {
           "colorbar": {
            "outlinewidth": 0,
            "ticks": ""
           }
          },
          "colorscale": {
           "diverging": [
            [
             0,
             "#8e0152"
            ],
            [
             0.1,
             "#c51b7d"
            ],
            [
             0.2,
             "#de77ae"
            ],
            [
             0.3,
             "#f1b6da"
            ],
            [
             0.4,
             "#fde0ef"
            ],
            [
             0.5,
             "#f7f7f7"
            ],
            [
             0.6,
             "#e6f5d0"
            ],
            [
             0.7,
             "#b8e186"
            ],
            [
             0.8,
             "#7fbc41"
            ],
            [
             0.9,
             "#4d9221"
            ],
            [
             1,
             "#276419"
            ]
           ],
           "sequential": [
            [
             0,
             "#0d0887"
            ],
            [
             0.1111111111111111,
             "#46039f"
            ],
            [
             0.2222222222222222,
             "#7201a8"
            ],
            [
             0.3333333333333333,
             "#9c179e"
            ],
            [
             0.4444444444444444,
             "#bd3786"
            ],
            [
             0.5555555555555556,
             "#d8576b"
            ],
            [
             0.6666666666666666,
             "#ed7953"
            ],
            [
             0.7777777777777778,
             "#fb9f3a"
            ],
            [
             0.8888888888888888,
             "#fdca26"
            ],
            [
             1,
             "#f0f921"
            ]
           ],
           "sequentialminus": [
            [
             0,
             "#0d0887"
            ],
            [
             0.1111111111111111,
             "#46039f"
            ],
            [
             0.2222222222222222,
             "#7201a8"
            ],
            [
             0.3333333333333333,
             "#9c179e"
            ],
            [
             0.4444444444444444,
             "#bd3786"
            ],
            [
             0.5555555555555556,
             "#d8576b"
            ],
            [
             0.6666666666666666,
             "#ed7953"
            ],
            [
             0.7777777777777778,
             "#fb9f3a"
            ],
            [
             0.8888888888888888,
             "#fdca26"
            ],
            [
             1,
             "#f0f921"
            ]
           ]
          },
          "colorway": [
           "#636efa",
           "#EF553B",
           "#00cc96",
           "#ab63fa",
           "#FFA15A",
           "#19d3f3",
           "#FF6692",
           "#B6E880",
           "#FF97FF",
           "#FECB52"
          ],
          "font": {
           "color": "#2a3f5f"
          },
          "geo": {
           "bgcolor": "white",
           "lakecolor": "white",
           "landcolor": "#E5ECF6",
           "showlakes": true,
           "showland": true,
           "subunitcolor": "white"
          },
          "hoverlabel": {
           "align": "left"
          },
          "hovermode": "closest",
          "mapbox": {
           "style": "light"
          },
          "paper_bgcolor": "white",
          "plot_bgcolor": "#E5ECF6",
          "polar": {
           "angularaxis": {
            "gridcolor": "white",
            "linecolor": "white",
            "ticks": ""
           },
           "bgcolor": "#E5ECF6",
           "radialaxis": {
            "gridcolor": "white",
            "linecolor": "white",
            "ticks": ""
           }
          },
          "scene": {
           "xaxis": {
            "backgroundcolor": "#E5ECF6",
            "gridcolor": "white",
            "gridwidth": 2,
            "linecolor": "white",
            "showbackground": true,
            "ticks": "",
            "zerolinecolor": "white"
           },
           "yaxis": {
            "backgroundcolor": "#E5ECF6",
            "gridcolor": "white",
            "gridwidth": 2,
            "linecolor": "white",
            "showbackground": true,
            "ticks": "",
            "zerolinecolor": "white"
           },
           "zaxis": {
            "backgroundcolor": "#E5ECF6",
            "gridcolor": "white",
            "gridwidth": 2,
            "linecolor": "white",
            "showbackground": true,
            "ticks": "",
            "zerolinecolor": "white"
           }
          },
          "shapedefaults": {
           "line": {
            "color": "#2a3f5f"
           }
          },
          "ternary": {
           "aaxis": {
            "gridcolor": "white",
            "linecolor": "white",
            "ticks": ""
           },
           "baxis": {
            "gridcolor": "white",
            "linecolor": "white",
            "ticks": ""
           },
           "bgcolor": "#E5ECF6",
           "caxis": {
            "gridcolor": "white",
            "linecolor": "white",
            "ticks": ""
           }
          },
          "title": {
           "x": 0.05
          },
          "xaxis": {
           "automargin": true,
           "gridcolor": "white",
           "linecolor": "white",
           "ticks": "",
           "title": {
            "standoff": 15
           },
           "zerolinecolor": "white",
           "zerolinewidth": 2
          },
          "yaxis": {
           "automargin": true,
           "gridcolor": "white",
           "linecolor": "white",
           "ticks": "",
           "title": {
            "standoff": 15
           },
           "zerolinecolor": "white",
           "zerolinewidth": 2
          }
         }
        },
        "title": {
         "text": "Required vs Allocated Bandwidth"
        },
        "xaxis": {
         "anchor": "y",
         "domain": [
          0,
          1
         ],
         "tickangle": 90,
         "title": {
          "text": "Required Bandwidth (Mbps)"
         }
        },
        "yaxis": {
         "anchor": "x",
         "domain": [
          0,
          1
         ],
         "title": {
          "text": "Allocated Bandwidth (Mbps)"
         }
        }
       }
      }
     },
     "metadata": {},
     "output_type": "display_data"
    }
   ],
   "source": [
    "# Relationship between required bandwidth and allocated bandwidth\n",
    "\n",
    "fig = px.scatter(df, x='Required_Bandwidth', y='Allocated_Bandwidth', color='Application_Type', title='Required vs Allocated Bandwidth')\n",
    "fig.update_layout(\n",
    "    xaxis_title='Required Bandwidth (Mbps)',\n",
    "    yaxis_title='Allocated Bandwidth (Mbps)'\n",
    ")\n",
    "fig.update_xaxes(tickangle=90)\n",
    "fig.show()"
   ]
  },
  {
   "cell_type": "code",
   "execution_count": 58,
   "id": "266415b9",
   "metadata": {},
   "outputs": [
    {
     "data": {
      "application/vnd.plotly.v1+json": {
       "config": {
        "plotlyServerURL": "https://plot.ly"
       },
       "data": [
        {
         "coloraxis": "coloraxis",
         "hovertemplate": "x: %{x}<br>y: %{y}<br>color: %{z}<extra></extra>",
         "name": "0",
         "texttemplate": "%{z}",
         "type": "heatmap",
         "x": [
          "Signal_Strength",
          "Latency",
          "Required_Bandwidth",
          "Allocated_Bandwidth",
          "Resource_Allocation"
         ],
         "xaxis": "x",
         "y": [
          "Signal_Strength",
          "Latency",
          "Required_Bandwidth",
          "Allocated_Bandwidth",
          "Resource_Allocation"
         ],
         "yaxis": "y",
         "z": [
          [
           1,
           -0.39267610254741864,
           0.4613655019026944,
           0.44704702627703213,
           0.303580492670081
          ],
          [
           -0.39267610254741864,
           1,
           0.0029345729311448837,
           0.003295290256523695,
           -0.13784777576856652
          ],
          [
           0.4613655019026944,
           0.0029345729311448837,
           1,
           0.9981808003001185,
           0.07239356939045531
          ],
          [
           0.44704702627703213,
           0.003295290256523695,
           0.9981808003001185,
           1,
           0.07674060435431825
          ],
          [
           0.303580492670081,
           -0.13784777576856652,
           0.07239356939045531,
           0.07674060435431825,
           1
          ]
         ]
        }
       ],
       "layout": {
        "coloraxis": {
         "colorscale": [
          [
           0,
           "rgb(103,0,31)"
          ],
          [
           0.1,
           "rgb(178,24,43)"
          ],
          [
           0.2,
           "rgb(214,96,77)"
          ],
          [
           0.3,
           "rgb(244,165,130)"
          ],
          [
           0.4,
           "rgb(253,219,199)"
          ],
          [
           0.5,
           "rgb(247,247,247)"
          ],
          [
           0.6,
           "rgb(209,229,240)"
          ],
          [
           0.7,
           "rgb(146,197,222)"
          ],
          [
           0.8,
           "rgb(67,147,195)"
          ],
          [
           0.9,
           "rgb(33,102,172)"
          ],
          [
           1,
           "rgb(5,48,97)"
          ]
         ]
        },
        "template": {
         "data": {
          "bar": [
           {
            "error_x": {
             "color": "#2a3f5f"
            },
            "error_y": {
             "color": "#2a3f5f"
            },
            "marker": {
             "line": {
              "color": "#E5ECF6",
              "width": 0.5
             },
             "pattern": {
              "fillmode": "overlay",
              "size": 10,
              "solidity": 0.2
             }
            },
            "type": "bar"
           }
          ],
          "barpolar": [
           {
            "marker": {
             "line": {
              "color": "#E5ECF6",
              "width": 0.5
             },
             "pattern": {
              "fillmode": "overlay",
              "size": 10,
              "solidity": 0.2
             }
            },
            "type": "barpolar"
           }
          ],
          "carpet": [
           {
            "aaxis": {
             "endlinecolor": "#2a3f5f",
             "gridcolor": "white",
             "linecolor": "white",
             "minorgridcolor": "white",
             "startlinecolor": "#2a3f5f"
            },
            "baxis": {
             "endlinecolor": "#2a3f5f",
             "gridcolor": "white",
             "linecolor": "white",
             "minorgridcolor": "white",
             "startlinecolor": "#2a3f5f"
            },
            "type": "carpet"
           }
          ],
          "choropleth": [
           {
            "colorbar": {
             "outlinewidth": 0,
             "ticks": ""
            },
            "type": "choropleth"
           }
          ],
          "contour": [
           {
            "colorbar": {
             "outlinewidth": 0,
             "ticks": ""
            },
            "colorscale": [
             [
              0,
              "#0d0887"
             ],
             [
              0.1111111111111111,
              "#46039f"
             ],
             [
              0.2222222222222222,
              "#7201a8"
             ],
             [
              0.3333333333333333,
              "#9c179e"
             ],
             [
              0.4444444444444444,
              "#bd3786"
             ],
             [
              0.5555555555555556,
              "#d8576b"
             ],
             [
              0.6666666666666666,
              "#ed7953"
             ],
             [
              0.7777777777777778,
              "#fb9f3a"
             ],
             [
              0.8888888888888888,
              "#fdca26"
             ],
             [
              1,
              "#f0f921"
             ]
            ],
            "type": "contour"
           }
          ],
          "contourcarpet": [
           {
            "colorbar": {
             "outlinewidth": 0,
             "ticks": ""
            },
            "type": "contourcarpet"
           }
          ],
          "heatmap": [
           {
            "colorbar": {
             "outlinewidth": 0,
             "ticks": ""
            },
            "colorscale": [
             [
              0,
              "#0d0887"
             ],
             [
              0.1111111111111111,
              "#46039f"
             ],
             [
              0.2222222222222222,
              "#7201a8"
             ],
             [
              0.3333333333333333,
              "#9c179e"
             ],
             [
              0.4444444444444444,
              "#bd3786"
             ],
             [
              0.5555555555555556,
              "#d8576b"
             ],
             [
              0.6666666666666666,
              "#ed7953"
             ],
             [
              0.7777777777777778,
              "#fb9f3a"
             ],
             [
              0.8888888888888888,
              "#fdca26"
             ],
             [
              1,
              "#f0f921"
             ]
            ],
            "type": "heatmap"
           }
          ],
          "heatmapgl": [
           {
            "colorbar": {
             "outlinewidth": 0,
             "ticks": ""
            },
            "colorscale": [
             [
              0,
              "#0d0887"
             ],
             [
              0.1111111111111111,
              "#46039f"
             ],
             [
              0.2222222222222222,
              "#7201a8"
             ],
             [
              0.3333333333333333,
              "#9c179e"
             ],
             [
              0.4444444444444444,
              "#bd3786"
             ],
             [
              0.5555555555555556,
              "#d8576b"
             ],
             [
              0.6666666666666666,
              "#ed7953"
             ],
             [
              0.7777777777777778,
              "#fb9f3a"
             ],
             [
              0.8888888888888888,
              "#fdca26"
             ],
             [
              1,
              "#f0f921"
             ]
            ],
            "type": "heatmapgl"
           }
          ],
          "histogram": [
           {
            "marker": {
             "pattern": {
              "fillmode": "overlay",
              "size": 10,
              "solidity": 0.2
             }
            },
            "type": "histogram"
           }
          ],
          "histogram2d": [
           {
            "colorbar": {
             "outlinewidth": 0,
             "ticks": ""
            },
            "colorscale": [
             [
              0,
              "#0d0887"
             ],
             [
              0.1111111111111111,
              "#46039f"
             ],
             [
              0.2222222222222222,
              "#7201a8"
             ],
             [
              0.3333333333333333,
              "#9c179e"
             ],
             [
              0.4444444444444444,
              "#bd3786"
             ],
             [
              0.5555555555555556,
              "#d8576b"
             ],
             [
              0.6666666666666666,
              "#ed7953"
             ],
             [
              0.7777777777777778,
              "#fb9f3a"
             ],
             [
              0.8888888888888888,
              "#fdca26"
             ],
             [
              1,
              "#f0f921"
             ]
            ],
            "type": "histogram2d"
           }
          ],
          "histogram2dcontour": [
           {
            "colorbar": {
             "outlinewidth": 0,
             "ticks": ""
            },
            "colorscale": [
             [
              0,
              "#0d0887"
             ],
             [
              0.1111111111111111,
              "#46039f"
             ],
             [
              0.2222222222222222,
              "#7201a8"
             ],
             [
              0.3333333333333333,
              "#9c179e"
             ],
             [
              0.4444444444444444,
              "#bd3786"
             ],
             [
              0.5555555555555556,
              "#d8576b"
             ],
             [
              0.6666666666666666,
              "#ed7953"
             ],
             [
              0.7777777777777778,
              "#fb9f3a"
             ],
             [
              0.8888888888888888,
              "#fdca26"
             ],
             [
              1,
              "#f0f921"
             ]
            ],
            "type": "histogram2dcontour"
           }
          ],
          "mesh3d": [
           {
            "colorbar": {
             "outlinewidth": 0,
             "ticks": ""
            },
            "type": "mesh3d"
           }
          ],
          "parcoords": [
           {
            "line": {
             "colorbar": {
              "outlinewidth": 0,
              "ticks": ""
             }
            },
            "type": "parcoords"
           }
          ],
          "pie": [
           {
            "automargin": true,
            "type": "pie"
           }
          ],
          "scatter": [
           {
            "fillpattern": {
             "fillmode": "overlay",
             "size": 10,
             "solidity": 0.2
            },
            "type": "scatter"
           }
          ],
          "scatter3d": [
           {
            "line": {
             "colorbar": {
              "outlinewidth": 0,
              "ticks": ""
             }
            },
            "marker": {
             "colorbar": {
              "outlinewidth": 0,
              "ticks": ""
             }
            },
            "type": "scatter3d"
           }
          ],
          "scattercarpet": [
           {
            "marker": {
             "colorbar": {
              "outlinewidth": 0,
              "ticks": ""
             }
            },
            "type": "scattercarpet"
           }
          ],
          "scattergeo": [
           {
            "marker": {
             "colorbar": {
              "outlinewidth": 0,
              "ticks": ""
             }
            },
            "type": "scattergeo"
           }
          ],
          "scattergl": [
           {
            "marker": {
             "colorbar": {
              "outlinewidth": 0,
              "ticks": ""
             }
            },
            "type": "scattergl"
           }
          ],
          "scattermapbox": [
           {
            "marker": {
             "colorbar": {
              "outlinewidth": 0,
              "ticks": ""
             }
            },
            "type": "scattermapbox"
           }
          ],
          "scatterpolar": [
           {
            "marker": {
             "colorbar": {
              "outlinewidth": 0,
              "ticks": ""
             }
            },
            "type": "scatterpolar"
           }
          ],
          "scatterpolargl": [
           {
            "marker": {
             "colorbar": {
              "outlinewidth": 0,
              "ticks": ""
             }
            },
            "type": "scatterpolargl"
           }
          ],
          "scatterternary": [
           {
            "marker": {
             "colorbar": {
              "outlinewidth": 0,
              "ticks": ""
             }
            },
            "type": "scatterternary"
           }
          ],
          "surface": [
           {
            "colorbar": {
             "outlinewidth": 0,
             "ticks": ""
            },
            "colorscale": [
             [
              0,
              "#0d0887"
             ],
             [
              0.1111111111111111,
              "#46039f"
             ],
             [
              0.2222222222222222,
              "#7201a8"
             ],
             [
              0.3333333333333333,
              "#9c179e"
             ],
             [
              0.4444444444444444,
              "#bd3786"
             ],
             [
              0.5555555555555556,
              "#d8576b"
             ],
             [
              0.6666666666666666,
              "#ed7953"
             ],
             [
              0.7777777777777778,
              "#fb9f3a"
             ],
             [
              0.8888888888888888,
              "#fdca26"
             ],
             [
              1,
              "#f0f921"
             ]
            ],
            "type": "surface"
           }
          ],
          "table": [
           {
            "cells": {
             "fill": {
              "color": "#EBF0F8"
             },
             "line": {
              "color": "white"
             }
            },
            "header": {
             "fill": {
              "color": "#C8D4E3"
             },
             "line": {
              "color": "white"
             }
            },
            "type": "table"
           }
          ]
         },
         "layout": {
          "annotationdefaults": {
           "arrowcolor": "#2a3f5f",
           "arrowhead": 0,
           "arrowwidth": 1
          },
          "autotypenumbers": "strict",
          "coloraxis": {
           "colorbar": {
            "outlinewidth": 0,
            "ticks": ""
           }
          },
          "colorscale": {
           "diverging": [
            [
             0,
             "#8e0152"
            ],
            [
             0.1,
             "#c51b7d"
            ],
            [
             0.2,
             "#de77ae"
            ],
            [
             0.3,
             "#f1b6da"
            ],
            [
             0.4,
             "#fde0ef"
            ],
            [
             0.5,
             "#f7f7f7"
            ],
            [
             0.6,
             "#e6f5d0"
            ],
            [
             0.7,
             "#b8e186"
            ],
            [
             0.8,
             "#7fbc41"
            ],
            [
             0.9,
             "#4d9221"
            ],
            [
             1,
             "#276419"
            ]
           ],
           "sequential": [
            [
             0,
             "#0d0887"
            ],
            [
             0.1111111111111111,
             "#46039f"
            ],
            [
             0.2222222222222222,
             "#7201a8"
            ],
            [
             0.3333333333333333,
             "#9c179e"
            ],
            [
             0.4444444444444444,
             "#bd3786"
            ],
            [
             0.5555555555555556,
             "#d8576b"
            ],
            [
             0.6666666666666666,
             "#ed7953"
            ],
            [
             0.7777777777777778,
             "#fb9f3a"
            ],
            [
             0.8888888888888888,
             "#fdca26"
            ],
            [
             1,
             "#f0f921"
            ]
           ],
           "sequentialminus": [
            [
             0,
             "#0d0887"
            ],
            [
             0.1111111111111111,
             "#46039f"
            ],
            [
             0.2222222222222222,
             "#7201a8"
            ],
            [
             0.3333333333333333,
             "#9c179e"
            ],
            [
             0.4444444444444444,
             "#bd3786"
            ],
            [
             0.5555555555555556,
             "#d8576b"
            ],
            [
             0.6666666666666666,
             "#ed7953"
            ],
            [
             0.7777777777777778,
             "#fb9f3a"
            ],
            [
             0.8888888888888888,
             "#fdca26"
            ],
            [
             1,
             "#f0f921"
            ]
           ]
          },
          "colorway": [
           "#636efa",
           "#EF553B",
           "#00cc96",
           "#ab63fa",
           "#FFA15A",
           "#19d3f3",
           "#FF6692",
           "#B6E880",
           "#FF97FF",
           "#FECB52"
          ],
          "font": {
           "color": "#2a3f5f"
          },
          "geo": {
           "bgcolor": "white",
           "lakecolor": "white",
           "landcolor": "#E5ECF6",
           "showlakes": true,
           "showland": true,
           "subunitcolor": "white"
          },
          "hoverlabel": {
           "align": "left"
          },
          "hovermode": "closest",
          "mapbox": {
           "style": "light"
          },
          "paper_bgcolor": "white",
          "plot_bgcolor": "#E5ECF6",
          "polar": {
           "angularaxis": {
            "gridcolor": "white",
            "linecolor": "white",
            "ticks": ""
           },
           "bgcolor": "#E5ECF6",
           "radialaxis": {
            "gridcolor": "white",
            "linecolor": "white",
            "ticks": ""
           }
          },
          "scene": {
           "xaxis": {
            "backgroundcolor": "#E5ECF6",
            "gridcolor": "white",
            "gridwidth": 2,
            "linecolor": "white",
            "showbackground": true,
            "ticks": "",
            "zerolinecolor": "white"
           },
           "yaxis": {
            "backgroundcolor": "#E5ECF6",
            "gridcolor": "white",
            "gridwidth": 2,
            "linecolor": "white",
            "showbackground": true,
            "ticks": "",
            "zerolinecolor": "white"
           },
           "zaxis": {
            "backgroundcolor": "#E5ECF6",
            "gridcolor": "white",
            "gridwidth": 2,
            "linecolor": "white",
            "showbackground": true,
            "ticks": "",
            "zerolinecolor": "white"
           }
          },
          "shapedefaults": {
           "line": {
            "color": "#2a3f5f"
           }
          },
          "ternary": {
           "aaxis": {
            "gridcolor": "white",
            "linecolor": "white",
            "ticks": ""
           },
           "baxis": {
            "gridcolor": "white",
            "linecolor": "white",
            "ticks": ""
           },
           "bgcolor": "#E5ECF6",
           "caxis": {
            "gridcolor": "white",
            "linecolor": "white",
            "ticks": ""
           }
          },
          "title": {
           "x": 0.05
          },
          "xaxis": {
           "automargin": true,
           "gridcolor": "white",
           "linecolor": "white",
           "ticks": "",
           "title": {
            "standoff": 15
           },
           "zerolinecolor": "white",
           "zerolinewidth": 2
          },
          "yaxis": {
           "automargin": true,
           "gridcolor": "white",
           "linecolor": "white",
           "ticks": "",
           "title": {
            "standoff": 15
           },
           "zerolinecolor": "white",
           "zerolinewidth": 2
          }
         }
        },
        "title": {
         "text": "Correlation Matrix"
        },
        "xaxis": {
         "anchor": "y",
         "constrain": "domain",
         "domain": [
          0,
          1
         ],
         "scaleanchor": "y"
        },
        "yaxis": {
         "anchor": "x",
         "autorange": "reversed",
         "constrain": "domain",
         "domain": [
          0,
          1
         ]
        }
       }
      }
     },
     "metadata": {},
     "output_type": "display_data"
    }
   ],
   "source": [
    "corr_matrix = df.corr(numeric_only=True)\n",
    "\n",
    "# Visualize the correlation matrix using Plotly\n",
    "fig = px.imshow(\n",
    "    corr_matrix,\n",
    "    text_auto=True,\n",
    "    color_continuous_scale='RdBu',\n",
    "    title='Correlation Matrix'\n",
    ")\n",
    "\n",
    "fig.show()"
   ]
  }
 ],
 "metadata": {
  "kernelspec": {
   "display_name": "Python 3",
   "language": "python",
   "name": "python3"
  },
  "language_info": {
   "codemirror_mode": {
    "name": "ipython",
    "version": 3
   },
   "file_extension": ".py",
   "mimetype": "text/x-python",
   "name": "python",
   "nbconvert_exporter": "python",
   "pygments_lexer": "ipython3",
   "version": "3.12.2"
  }
 },
 "nbformat": 4,
 "nbformat_minor": 5
}
