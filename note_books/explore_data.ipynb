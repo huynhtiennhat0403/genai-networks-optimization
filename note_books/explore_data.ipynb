{
 "cells": [
  {
   "cell_type": "code",
   "execution_count": 28,
   "id": "5b48f27e",
   "metadata": {},
   "outputs": [],
   "source": [
    "import pandas as pd\n",
    "import numpy as np\n",
    "import matplotlib.pyplot as plt\n",
    "import seaborn as sns\n",
    "import plotly.express as px"
   ]
  },
  {
   "cell_type": "code",
   "execution_count": 29,
   "id": "70ad3080",
   "metadata": {},
   "outputs": [
    {
     "name": "stdout",
     "output_type": "stream",
     "text": [
      "          Timestamp   User_ID Application_Type Signal_Strength Latency  \\\n",
      "196  9/3/2023 10:03  User_197       Video_Call         -62 dBm   28 ms   \n",
      "32   9/3/2023 10:00   User_33     Web_Browsing         -88 dBm   27 ms   \n",
      "20   9/3/2023 10:00   User_21       Video_Call         -77 dBm   31 ms   \n",
      "373  9/3/2023 10:06  User_374  Video_Streaming        -110 dBm   55 ms   \n",
      "150  9/3/2023 10:02  User_151  Video_Streaming         -82 dBm   30 ms   \n",
      "\n",
      "    Required_Bandwidth Allocated_Bandwidth Resource_Allocation  \n",
      "196          12.0 Mbps           13.3 Mbps                 75%  \n",
      "32            1.3 Mbps            1.3 Mbps                 70%  \n",
      "20             11 Mbps             13 Mbps                 75%  \n",
      "373           1.3 Mbps            1.7 Mbps                 70%  \n",
      "150           4.0 Mbps            4.4 Mbps                 70%  \n",
      "<class 'pandas.core.frame.DataFrame'>\n",
      "RangeIndex: 400 entries, 0 to 399\n",
      "Data columns (total 8 columns):\n",
      " #   Column               Non-Null Count  Dtype \n",
      "---  ------               --------------  ----- \n",
      " 0   Timestamp            400 non-null    object\n",
      " 1   User_ID              400 non-null    object\n",
      " 2   Application_Type     400 non-null    object\n",
      " 3   Signal_Strength      400 non-null    object\n",
      " 4   Latency              400 non-null    object\n",
      " 5   Required_Bandwidth   400 non-null    object\n",
      " 6   Allocated_Bandwidth  400 non-null    object\n",
      " 7   Resource_Allocation  400 non-null    object\n",
      "dtypes: object(8)\n",
      "memory usage: 25.1+ KB\n",
      "None\n",
      "----------------------------------------------------------------------------------------------------\n",
      "             Timestamp User_ID Application_Type Signal_Strength Latency  \\\n",
      "count              400     400              400             400     400   \n",
      "unique               7     400               11              84      87   \n",
      "top     9/3/2023 10:01  User_1       Video_Call         -97 dBm    5 ms   \n",
      "freq                60       1               58               9      35   \n",
      "\n",
      "       Required_Bandwidth Allocated_Bandwidth Resource_Allocation  \n",
      "count                 400                 400                 400  \n",
      "unique                188                 194                   9  \n",
      "top              0.1 Mbps            0.1 Mbps                 70%  \n",
      "freq                   16                  16                 148  \n"
     ]
    }
   ],
   "source": [
    "# Load dataset\n",
    "df = pd.read_csv(\"../data/raw/Quality of Service 5G.csv\")\n",
    "\n",
    "# 5 random samples from the dataset\n",
    "print(df.sample(5))\n",
    "\n",
    "# Display basic information about the dataset\n",
    "print(df.info())\n",
    "print(\"-\" * 100 )\n",
    "print(df.describe())"
   ]
  },
  {
   "cell_type": "code",
   "execution_count": 30,
   "id": "c65f53fd",
   "metadata": {},
   "outputs": [],
   "source": [
    "# Remove the  \"_\" from column names\n",
    "df.columns = df.columns.str.replace('_', ' ')\n",
    "\n",
    "# Remove \"_\" in Application Type values\n",
    "df['Application Type'] = df['Application Type'].str.replace('_', ' ')"
   ]
  },
  {
   "cell_type": "code",
   "execution_count": 31,
   "id": "8e3cff16",
   "metadata": {},
   "outputs": [],
   "source": [
    "# Drop redundant columns\n",
    "df = df.drop(columns=[\"Timestamp\", \"User ID\"])\n",
    "\n",
    "# Convert object columns to numerical\n",
    "df['Signal Strength'] = df['Signal Strength'].str.replace(' dBm', '').astype(float)\n",
    "df['Latency'] = df['Latency'].str.replace(' ms', '').astype(float)\n",
    "df['Resource Allocation'] = df['Resource Allocation'].str.replace('%', '').astype(float)\n",
    "\n",
    "def parse_bandwidth(bandwidth_str):\n",
    "    if 'Mbps' in bandwidth_str:\n",
    "        return float(bandwidth_str.replace(' Mbps', ''))\n",
    "    elif 'Kbps' in bandwidth_str:\n",
    "        return float(bandwidth_str.replace(' Kbps', '')) / 1000\n",
    "    else:\n",
    "        return float(bandwidth_str)\n",
    "    \n",
    "df['Required Bandwidth'] = df['Required Bandwidth'].apply(parse_bandwidth)\n",
    "df['Allocated Bandwidth'] = df['Allocated Bandwidth'].apply(parse_bandwidth)"
   ]
  },
  {
   "cell_type": "code",
   "execution_count": 38,
   "id": "9800f4c7",
   "metadata": {},
   "outputs": [
    {
     "data": {
      "application/vnd.plotly.v1+json": {
       "config": {
        "plotlyServerURL": "https://plot.ly"
       },
       "data": [
        {
         "coloraxis": "coloraxis",
         "hovertemplate": "x: %{x}<br>y: %{y}<br>color: %{z}<extra></extra>",
         "name": "0",
         "texttemplate": "%{z}",
         "type": "heatmap",
         "x": [
          "Signal Strength",
          "Latency",
          "Required Bandwidth",
          "Allocated Bandwidth",
          "Resource Allocation"
         ],
         "xaxis": "x",
         "y": [
          "Signal Strength",
          "Latency",
          "Required Bandwidth",
          "Allocated Bandwidth",
          "Resource Allocation"
         ],
         "yaxis": "y",
         "z": [
          [
           1,
           -0.39267610254741864,
           0.4613655019026944,
           0.44704702627703213,
           0.303580492670081
          ],
          [
           -0.39267610254741864,
           1,
           0.0029345729311448837,
           0.003295290256523695,
           -0.13784777576856652
          ],
          [
           0.4613655019026944,
           0.0029345729311448837,
           1,
           0.9981808003001185,
           0.07239356939045531
          ],
          [
           0.44704702627703213,
           0.003295290256523695,
           0.9981808003001185,
           1,
           0.07674060435431825
          ],
          [
           0.303580492670081,
           -0.13784777576856652,
           0.07239356939045531,
           0.07674060435431825,
           1
          ]
         ]
        }
       ],
       "layout": {
        "coloraxis": {
         "colorscale": [
          [
           0,
           "rgb(103,0,31)"
          ],
          [
           0.1,
           "rgb(178,24,43)"
          ],
          [
           0.2,
           "rgb(214,96,77)"
          ],
          [
           0.3,
           "rgb(244,165,130)"
          ],
          [
           0.4,
           "rgb(253,219,199)"
          ],
          [
           0.5,
           "rgb(247,247,247)"
          ],
          [
           0.6,
           "rgb(209,229,240)"
          ],
          [
           0.7,
           "rgb(146,197,222)"
          ],
          [
           0.8,
           "rgb(67,147,195)"
          ],
          [
           0.9,
           "rgb(33,102,172)"
          ],
          [
           1,
           "rgb(5,48,97)"
          ]
         ]
        },
        "template": {
         "data": {
          "bar": [
           {
            "error_x": {
             "color": "#2a3f5f"
            },
            "error_y": {
             "color": "#2a3f5f"
            },
            "marker": {
             "line": {
              "color": "#E5ECF6",
              "width": 0.5
             },
             "pattern": {
              "fillmode": "overlay",
              "size": 10,
              "solidity": 0.2
             }
            },
            "type": "bar"
           }
          ],
          "barpolar": [
           {
            "marker": {
             "line": {
              "color": "#E5ECF6",
              "width": 0.5
             },
             "pattern": {
              "fillmode": "overlay",
              "size": 10,
              "solidity": 0.2
             }
            },
            "type": "barpolar"
           }
          ],
          "carpet": [
           {
            "aaxis": {
             "endlinecolor": "#2a3f5f",
             "gridcolor": "white",
             "linecolor": "white",
             "minorgridcolor": "white",
             "startlinecolor": "#2a3f5f"
            },
            "baxis": {
             "endlinecolor": "#2a3f5f",
             "gridcolor": "white",
             "linecolor": "white",
             "minorgridcolor": "white",
             "startlinecolor": "#2a3f5f"
            },
            "type": "carpet"
           }
          ],
          "choropleth": [
           {
            "colorbar": {
             "outlinewidth": 0,
             "ticks": ""
            },
            "type": "choropleth"
           }
          ],
          "contour": [
           {
            "colorbar": {
             "outlinewidth": 0,
             "ticks": ""
            },
            "colorscale": [
             [
              0,
              "#0d0887"
             ],
             [
              0.1111111111111111,
              "#46039f"
             ],
             [
              0.2222222222222222,
              "#7201a8"
             ],
             [
              0.3333333333333333,
              "#9c179e"
             ],
             [
              0.4444444444444444,
              "#bd3786"
             ],
             [
              0.5555555555555556,
              "#d8576b"
             ],
             [
              0.6666666666666666,
              "#ed7953"
             ],
             [
              0.7777777777777778,
              "#fb9f3a"
             ],
             [
              0.8888888888888888,
              "#fdca26"
             ],
             [
              1,
              "#f0f921"
             ]
            ],
            "type": "contour"
           }
          ],
          "contourcarpet": [
           {
            "colorbar": {
             "outlinewidth": 0,
             "ticks": ""
            },
            "type": "contourcarpet"
           }
          ],
          "heatmap": [
           {
            "colorbar": {
             "outlinewidth": 0,
             "ticks": ""
            },
            "colorscale": [
             [
              0,
              "#0d0887"
             ],
             [
              0.1111111111111111,
              "#46039f"
             ],
             [
              0.2222222222222222,
              "#7201a8"
             ],
             [
              0.3333333333333333,
              "#9c179e"
             ],
             [
              0.4444444444444444,
              "#bd3786"
             ],
             [
              0.5555555555555556,
              "#d8576b"
             ],
             [
              0.6666666666666666,
              "#ed7953"
             ],
             [
              0.7777777777777778,
              "#fb9f3a"
             ],
             [
              0.8888888888888888,
              "#fdca26"
             ],
             [
              1,
              "#f0f921"
             ]
            ],
            "type": "heatmap"
           }
          ],
          "heatmapgl": [
           {
            "colorbar": {
             "outlinewidth": 0,
             "ticks": ""
            },
            "colorscale": [
             [
              0,
              "#0d0887"
             ],
             [
              0.1111111111111111,
              "#46039f"
             ],
             [
              0.2222222222222222,
              "#7201a8"
             ],
             [
              0.3333333333333333,
              "#9c179e"
             ],
             [
              0.4444444444444444,
              "#bd3786"
             ],
             [
              0.5555555555555556,
              "#d8576b"
             ],
             [
              0.6666666666666666,
              "#ed7953"
             ],
             [
              0.7777777777777778,
              "#fb9f3a"
             ],
             [
              0.8888888888888888,
              "#fdca26"
             ],
             [
              1,
              "#f0f921"
             ]
            ],
            "type": "heatmapgl"
           }
          ],
          "histogram": [
           {
            "marker": {
             "pattern": {
              "fillmode": "overlay",
              "size": 10,
              "solidity": 0.2
             }
            },
            "type": "histogram"
           }
          ],
          "histogram2d": [
           {
            "colorbar": {
             "outlinewidth": 0,
             "ticks": ""
            },
            "colorscale": [
             [
              0,
              "#0d0887"
             ],
             [
              0.1111111111111111,
              "#46039f"
             ],
             [
              0.2222222222222222,
              "#7201a8"
             ],
             [
              0.3333333333333333,
              "#9c179e"
             ],
             [
              0.4444444444444444,
              "#bd3786"
             ],
             [
              0.5555555555555556,
              "#d8576b"
             ],
             [
              0.6666666666666666,
              "#ed7953"
             ],
             [
              0.7777777777777778,
              "#fb9f3a"
             ],
             [
              0.8888888888888888,
              "#fdca26"
             ],
             [
              1,
              "#f0f921"
             ]
            ],
            "type": "histogram2d"
           }
          ],
          "histogram2dcontour": [
           {
            "colorbar": {
             "outlinewidth": 0,
             "ticks": ""
            },
            "colorscale": [
             [
              0,
              "#0d0887"
             ],
             [
              0.1111111111111111,
              "#46039f"
             ],
             [
              0.2222222222222222,
              "#7201a8"
             ],
             [
              0.3333333333333333,
              "#9c179e"
             ],
             [
              0.4444444444444444,
              "#bd3786"
             ],
             [
              0.5555555555555556,
              "#d8576b"
             ],
             [
              0.6666666666666666,
              "#ed7953"
             ],
             [
              0.7777777777777778,
              "#fb9f3a"
             ],
             [
              0.8888888888888888,
              "#fdca26"
             ],
             [
              1,
              "#f0f921"
             ]
            ],
            "type": "histogram2dcontour"
           }
          ],
          "mesh3d": [
           {
            "colorbar": {
             "outlinewidth": 0,
             "ticks": ""
            },
            "type": "mesh3d"
           }
          ],
          "parcoords": [
           {
            "line": {
             "colorbar": {
              "outlinewidth": 0,
              "ticks": ""
             }
            },
            "type": "parcoords"
           }
          ],
          "pie": [
           {
            "automargin": true,
            "type": "pie"
           }
          ],
          "scatter": [
           {
            "fillpattern": {
             "fillmode": "overlay",
             "size": 10,
             "solidity": 0.2
            },
            "type": "scatter"
           }
          ],
          "scatter3d": [
           {
            "line": {
             "colorbar": {
              "outlinewidth": 0,
              "ticks": ""
             }
            },
            "marker": {
             "colorbar": {
              "outlinewidth": 0,
              "ticks": ""
             }
            },
            "type": "scatter3d"
           }
          ],
          "scattercarpet": [
           {
            "marker": {
             "colorbar": {
              "outlinewidth": 0,
              "ticks": ""
             }
            },
            "type": "scattercarpet"
           }
          ],
          "scattergeo": [
           {
            "marker": {
             "colorbar": {
              "outlinewidth": 0,
              "ticks": ""
             }
            },
            "type": "scattergeo"
           }
          ],
          "scattergl": [
           {
            "marker": {
             "colorbar": {
              "outlinewidth": 0,
              "ticks": ""
             }
            },
            "type": "scattergl"
           }
          ],
          "scattermapbox": [
           {
            "marker": {
             "colorbar": {
              "outlinewidth": 0,
              "ticks": ""
             }
            },
            "type": "scattermapbox"
           }
          ],
          "scatterpolar": [
           {
            "marker": {
             "colorbar": {
              "outlinewidth": 0,
              "ticks": ""
             }
            },
            "type": "scatterpolar"
           }
          ],
          "scatterpolargl": [
           {
            "marker": {
             "colorbar": {
              "outlinewidth": 0,
              "ticks": ""
             }
            },
            "type": "scatterpolargl"
           }
          ],
          "scatterternary": [
           {
            "marker": {
             "colorbar": {
              "outlinewidth": 0,
              "ticks": ""
             }
            },
            "type": "scatterternary"
           }
          ],
          "surface": [
           {
            "colorbar": {
             "outlinewidth": 0,
             "ticks": ""
            },
            "colorscale": [
             [
              0,
              "#0d0887"
             ],
             [
              0.1111111111111111,
              "#46039f"
             ],
             [
              0.2222222222222222,
              "#7201a8"
             ],
             [
              0.3333333333333333,
              "#9c179e"
             ],
             [
              0.4444444444444444,
              "#bd3786"
             ],
             [
              0.5555555555555556,
              "#d8576b"
             ],
             [
              0.6666666666666666,
              "#ed7953"
             ],
             [
              0.7777777777777778,
              "#fb9f3a"
             ],
             [
              0.8888888888888888,
              "#fdca26"
             ],
             [
              1,
              "#f0f921"
             ]
            ],
            "type": "surface"
           }
          ],
          "table": [
           {
            "cells": {
             "fill": {
              "color": "#EBF0F8"
             },
             "line": {
              "color": "white"
             }
            },
            "header": {
             "fill": {
              "color": "#C8D4E3"
             },
             "line": {
              "color": "white"
             }
            },
            "type": "table"
           }
          ]
         },
         "layout": {
          "annotationdefaults": {
           "arrowcolor": "#2a3f5f",
           "arrowhead": 0,
           "arrowwidth": 1
          },
          "autotypenumbers": "strict",
          "coloraxis": {
           "colorbar": {
            "outlinewidth": 0,
            "ticks": ""
           }
          },
          "colorscale": {
           "diverging": [
            [
             0,
             "#8e0152"
            ],
            [
             0.1,
             "#c51b7d"
            ],
            [
             0.2,
             "#de77ae"
            ],
            [
             0.3,
             "#f1b6da"
            ],
            [
             0.4,
             "#fde0ef"
            ],
            [
             0.5,
             "#f7f7f7"
            ],
            [
             0.6,
             "#e6f5d0"
            ],
            [
             0.7,
             "#b8e186"
            ],
            [
             0.8,
             "#7fbc41"
            ],
            [
             0.9,
             "#4d9221"
            ],
            [
             1,
             "#276419"
            ]
           ],
           "sequential": [
            [
             0,
             "#0d0887"
            ],
            [
             0.1111111111111111,
             "#46039f"
            ],
            [
             0.2222222222222222,
             "#7201a8"
            ],
            [
             0.3333333333333333,
             "#9c179e"
            ],
            [
             0.4444444444444444,
             "#bd3786"
            ],
            [
             0.5555555555555556,
             "#d8576b"
            ],
            [
             0.6666666666666666,
             "#ed7953"
            ],
            [
             0.7777777777777778,
             "#fb9f3a"
            ],
            [
             0.8888888888888888,
             "#fdca26"
            ],
            [
             1,
             "#f0f921"
            ]
           ],
           "sequentialminus": [
            [
             0,
             "#0d0887"
            ],
            [
             0.1111111111111111,
             "#46039f"
            ],
            [
             0.2222222222222222,
             "#7201a8"
            ],
            [
             0.3333333333333333,
             "#9c179e"
            ],
            [
             0.4444444444444444,
             "#bd3786"
            ],
            [
             0.5555555555555556,
             "#d8576b"
            ],
            [
             0.6666666666666666,
             "#ed7953"
            ],
            [
             0.7777777777777778,
             "#fb9f3a"
            ],
            [
             0.8888888888888888,
             "#fdca26"
            ],
            [
             1,
             "#f0f921"
            ]
           ]
          },
          "colorway": [
           "#636efa",
           "#EF553B",
           "#00cc96",
           "#ab63fa",
           "#FFA15A",
           "#19d3f3",
           "#FF6692",
           "#B6E880",
           "#FF97FF",
           "#FECB52"
          ],
          "font": {
           "color": "#2a3f5f"
          },
          "geo": {
           "bgcolor": "white",
           "lakecolor": "white",
           "landcolor": "#E5ECF6",
           "showlakes": true,
           "showland": true,
           "subunitcolor": "white"
          },
          "hoverlabel": {
           "align": "left"
          },
          "hovermode": "closest",
          "mapbox": {
           "style": "light"
          },
          "paper_bgcolor": "white",
          "plot_bgcolor": "#E5ECF6",
          "polar": {
           "angularaxis": {
            "gridcolor": "white",
            "linecolor": "white",
            "ticks": ""
           },
           "bgcolor": "#E5ECF6",
           "radialaxis": {
            "gridcolor": "white",
            "linecolor": "white",
            "ticks": ""
           }
          },
          "scene": {
           "xaxis": {
            "backgroundcolor": "#E5ECF6",
            "gridcolor": "white",
            "gridwidth": 2,
            "linecolor": "white",
            "showbackground": true,
            "ticks": "",
            "zerolinecolor": "white"
           },
           "yaxis": {
            "backgroundcolor": "#E5ECF6",
            "gridcolor": "white",
            "gridwidth": 2,
            "linecolor": "white",
            "showbackground": true,
            "ticks": "",
            "zerolinecolor": "white"
           },
           "zaxis": {
            "backgroundcolor": "#E5ECF6",
            "gridcolor": "white",
            "gridwidth": 2,
            "linecolor": "white",
            "showbackground": true,
            "ticks": "",
            "zerolinecolor": "white"
           }
          },
          "shapedefaults": {
           "line": {
            "color": "#2a3f5f"
           }
          },
          "ternary": {
           "aaxis": {
            "gridcolor": "white",
            "linecolor": "white",
            "ticks": ""
           },
           "baxis": {
            "gridcolor": "white",
            "linecolor": "white",
            "ticks": ""
           },
           "bgcolor": "#E5ECF6",
           "caxis": {
            "gridcolor": "white",
            "linecolor": "white",
            "ticks": ""
           }
          },
          "title": {
           "x": 0.05
          },
          "xaxis": {
           "automargin": true,
           "gridcolor": "white",
           "linecolor": "white",
           "ticks": "",
           "title": {
            "standoff": 15
           },
           "zerolinecolor": "white",
           "zerolinewidth": 2
          },
          "yaxis": {
           "automargin": true,
           "gridcolor": "white",
           "linecolor": "white",
           "ticks": "",
           "title": {
            "standoff": 15
           },
           "zerolinecolor": "white",
           "zerolinewidth": 2
          }
         }
        },
        "title": {
         "text": "Correlation Matrix"
        },
        "xaxis": {
         "anchor": "y",
         "constrain": "domain",
         "domain": [
          0,
          1
         ],
         "scaleanchor": "y"
        },
        "yaxis": {
         "anchor": "x",
         "autorange": "reversed",
         "constrain": "domain",
         "domain": [
          0,
          1
         ]
        }
       }
      }
     },
     "metadata": {},
     "output_type": "display_data"
    }
   ],
   "source": [
    "corr_matrix = df.corr(numeric_only=True)\n",
    "\n",
    "# Visualize the correlation matrix using Plotly\n",
    "fig = px.imshow(\n",
    "    corr_matrix,\n",
    "    text_auto=True,\n",
    "    color_continuous_scale='RdBu',\n",
    "    title='Correlation Matrix'\n",
    ")\n",
    "\n",
    "fig.show()"
   ]
  },
  {
   "cell_type": "code",
   "execution_count": 32,
   "id": "31c90e52",
   "metadata": {},
   "outputs": [
    {
     "data": {
      "application/vnd.plotly.v1+json": {
       "config": {
        "plotlyServerURL": "https://plot.ly"
       },
       "data": [
        {
         "alignmentgroup": "True",
         "bingroup": "x",
         "hovertemplate": "Application Type=%{x}<br>count=%{y}<extra></extra>",
         "legendgroup": "Video Call",
         "marker": {
          "color": "#636efa",
          "pattern": {
           "shape": ""
          }
         },
         "name": "Video Call",
         "nbinsx": 30,
         "offsetgroup": "Video Call",
         "orientation": "v",
         "showlegend": true,
         "type": "histogram",
         "x": [
          "Video Call",
          "Video Call",
          "Video Call",
          "Video Call",
          "Video Call",
          "Video Call",
          "Video Call",
          "Video Call",
          "Video Call",
          "Video Call",
          "Video Call",
          "Video Call",
          "Video Call",
          "Video Call",
          "Video Call",
          "Video Call",
          "Video Call",
          "Video Call",
          "Video Call",
          "Video Call",
          "Video Call",
          "Video Call",
          "Video Call",
          "Video Call",
          "Video Call",
          "Video Call",
          "Video Call",
          "Video Call",
          "Video Call",
          "Video Call",
          "Video Call",
          "Video Call",
          "Video Call",
          "Video Call",
          "Video Call",
          "Video Call",
          "Video Call",
          "Video Call",
          "Video Call",
          "Video Call",
          "Video Call",
          "Video Call",
          "Video Call",
          "Video Call",
          "Video Call",
          "Video Call",
          "Video Call",
          "Video Call",
          "Video Call",
          "Video Call",
          "Video Call",
          "Video Call",
          "Video Call",
          "Video Call",
          "Video Call",
          "Video Call",
          "Video Call",
          "Video Call"
         ],
         "xaxis": "x",
         "yaxis": "y"
        },
        {
         "alignmentgroup": "True",
         "bingroup": "x",
         "hovertemplate": "Application Type=%{x}<br>count=%{y}<extra></extra>",
         "legendgroup": "Voice Call",
         "marker": {
          "color": "#EF553B",
          "pattern": {
           "shape": ""
          }
         },
         "name": "Voice Call",
         "nbinsx": 30,
         "offsetgroup": "Voice Call",
         "orientation": "v",
         "showlegend": true,
         "type": "histogram",
         "x": [
          "Voice Call"
         ],
         "xaxis": "x",
         "yaxis": "y"
        },
        {
         "alignmentgroup": "True",
         "bingroup": "x",
         "hovertemplate": "Application Type=%{x}<br>count=%{y}<extra></extra>",
         "legendgroup": "Streaming",
         "marker": {
          "color": "#00cc96",
          "pattern": {
           "shape": ""
          }
         },
         "name": "Streaming",
         "nbinsx": 30,
         "offsetgroup": "Streaming",
         "orientation": "v",
         "showlegend": true,
         "type": "histogram",
         "x": [
          "Streaming",
          "Streaming",
          "Streaming",
          "Streaming",
          "Streaming",
          "Streaming",
          "Streaming",
          "Streaming",
          "Streaming",
          "Streaming",
          "Streaming",
          "Streaming",
          "Streaming",
          "Streaming",
          "Streaming",
          "Streaming",
          "Streaming",
          "Streaming",
          "Streaming",
          "Streaming",
          "Streaming",
          "Streaming",
          "Streaming",
          "Streaming",
          "Streaming",
          "Streaming",
          "Streaming",
          "Streaming",
          "Streaming",
          "Streaming",
          "Streaming",
          "Streaming",
          "Streaming",
          "Streaming",
          "Streaming",
          "Streaming",
          "Streaming",
          "Streaming",
          "Streaming",
          "Streaming",
          "Streaming",
          "Streaming",
          "Streaming",
          "Streaming",
          "Streaming",
          "Streaming",
          "Streaming"
         ],
         "xaxis": "x",
         "yaxis": "y"
        },
        {
         "alignmentgroup": "True",
         "bingroup": "x",
         "hovertemplate": "Application Type=%{x}<br>count=%{y}<extra></extra>",
         "legendgroup": "Emergency Service",
         "marker": {
          "color": "#ab63fa",
          "pattern": {
           "shape": ""
          }
         },
         "name": "Emergency Service",
         "nbinsx": 30,
         "offsetgroup": "Emergency Service",
         "orientation": "v",
         "showlegend": true,
         "type": "histogram",
         "x": [
          "Emergency Service",
          "Emergency Service",
          "Emergency Service",
          "Emergency Service",
          "Emergency Service",
          "Emergency Service",
          "Emergency Service",
          "Emergency Service",
          "Emergency Service",
          "Emergency Service",
          "Emergency Service",
          "Emergency Service",
          "Emergency Service",
          "Emergency Service",
          "Emergency Service",
          "Emergency Service",
          "Emergency Service",
          "Emergency Service",
          "Emergency Service",
          "Emergency Service",
          "Emergency Service",
          "Emergency Service",
          "Emergency Service",
          "Emergency Service",
          "Emergency Service",
          "Emergency Service",
          "Emergency Service",
          "Emergency Service",
          "Emergency Service",
          "Emergency Service",
          "Emergency Service",
          "Emergency Service",
          "Emergency Service",
          "Emergency Service",
          "Emergency Service",
          "Emergency Service",
          "Emergency Service",
          "Emergency Service",
          "Emergency Service",
          "Emergency Service",
          "Emergency Service",
          "Emergency Service",
          "Emergency Service",
          "Emergency Service",
          "Emergency Service",
          "Emergency Service",
          "Emergency Service"
         ],
         "xaxis": "x",
         "yaxis": "y"
        },
        {
         "alignmentgroup": "True",
         "bingroup": "x",
         "hovertemplate": "Application Type=%{x}<br>count=%{y}<extra></extra>",
         "legendgroup": "Online Gaming",
         "marker": {
          "color": "#FFA15A",
          "pattern": {
           "shape": ""
          }
         },
         "name": "Online Gaming",
         "nbinsx": 30,
         "offsetgroup": "Online Gaming",
         "orientation": "v",
         "showlegend": true,
         "type": "histogram",
         "x": [
          "Online Gaming",
          "Online Gaming",
          "Online Gaming",
          "Online Gaming",
          "Online Gaming",
          "Online Gaming",
          "Online Gaming",
          "Online Gaming",
          "Online Gaming",
          "Online Gaming",
          "Online Gaming",
          "Online Gaming",
          "Online Gaming",
          "Online Gaming",
          "Online Gaming",
          "Online Gaming",
          "Online Gaming",
          "Online Gaming",
          "Online Gaming",
          "Online Gaming",
          "Online Gaming",
          "Online Gaming",
          "Online Gaming",
          "Online Gaming",
          "Online Gaming",
          "Online Gaming",
          "Online Gaming",
          "Online Gaming",
          "Online Gaming",
          "Online Gaming",
          "Online Gaming",
          "Online Gaming",
          "Online Gaming",
          "Online Gaming",
          "Online Gaming",
          "Online Gaming",
          "Online Gaming",
          "Online Gaming",
          "Online Gaming",
          "Online Gaming",
          "Online Gaming",
          "Online Gaming",
          "Online Gaming",
          "Online Gaming",
          "Online Gaming"
         ],
         "xaxis": "x",
         "yaxis": "y"
        },
        {
         "alignmentgroup": "True",
         "bingroup": "x",
         "hovertemplate": "Application Type=%{x}<br>count=%{y}<extra></extra>",
         "legendgroup": "Background Download",
         "marker": {
          "color": "#19d3f3",
          "pattern": {
           "shape": ""
          }
         },
         "name": "Background Download",
         "nbinsx": 30,
         "offsetgroup": "Background Download",
         "orientation": "v",
         "showlegend": true,
         "type": "histogram",
         "x": [
          "Background Download",
          "Background Download",
          "Background Download",
          "Background Download",
          "Background Download",
          "Background Download",
          "Background Download",
          "Background Download",
          "Background Download",
          "Background Download",
          "Background Download",
          "Background Download",
          "Background Download",
          "Background Download",
          "Background Download",
          "Background Download",
          "Background Download",
          "Background Download",
          "Background Download",
          "Background Download",
          "Background Download",
          "Background Download",
          "Background Download",
          "Background Download",
          "Background Download",
          "Background Download",
          "Background Download",
          "Background Download",
          "Background Download",
          "Background Download",
          "Background Download",
          "Background Download",
          "Background Download",
          "Background Download",
          "Background Download",
          "Background Download",
          "Background Download",
          "Background Download",
          "Background Download",
          "Background Download",
          "Background Download",
          "Background Download",
          "Background Download",
          "Background Download",
          "Background Download",
          "Background Download",
          "Background Download"
         ],
         "xaxis": "x",
         "yaxis": "y"
        },
        {
         "alignmentgroup": "True",
         "bingroup": "x",
         "hovertemplate": "Application Type=%{x}<br>count=%{y}<extra></extra>",
         "legendgroup": "Web Browsing",
         "marker": {
          "color": "#FF6692",
          "pattern": {
           "shape": ""
          }
         },
         "name": "Web Browsing",
         "nbinsx": 30,
         "offsetgroup": "Web Browsing",
         "orientation": "v",
         "showlegend": true,
         "type": "histogram",
         "x": [
          "Web Browsing",
          "Web Browsing",
          "Web Browsing",
          "Web Browsing",
          "Web Browsing",
          "Web Browsing",
          "Web Browsing",
          "Web Browsing",
          "Web Browsing",
          "Web Browsing",
          "Web Browsing",
          "Web Browsing",
          "Web Browsing",
          "Web Browsing",
          "Web Browsing",
          "Web Browsing",
          "Web Browsing",
          "Web Browsing",
          "Web Browsing",
          "Web Browsing",
          "Web Browsing",
          "Web Browsing",
          "Web Browsing",
          "Web Browsing",
          "Web Browsing",
          "Web Browsing",
          "Web Browsing",
          "Web Browsing",
          "Web Browsing",
          "Web Browsing",
          "Web Browsing",
          "Web Browsing",
          "Web Browsing",
          "Web Browsing",
          "Web Browsing",
          "Web Browsing",
          "Web Browsing",
          "Web Browsing",
          "Web Browsing",
          "Web Browsing",
          "Web Browsing",
          "Web Browsing",
          "Web Browsing",
          "Web Browsing",
          "Web Browsing",
          "Web Browsing",
          "Web Browsing",
          "Web Browsing"
         ],
         "xaxis": "x",
         "yaxis": "y"
        },
        {
         "alignmentgroup": "True",
         "bingroup": "x",
         "hovertemplate": "Application Type=%{x}<br>count=%{y}<extra></extra>",
         "legendgroup": "IoT Temperature",
         "marker": {
          "color": "#B6E880",
          "pattern": {
           "shape": ""
          }
         },
         "name": "IoT Temperature",
         "nbinsx": 30,
         "offsetgroup": "IoT Temperature",
         "orientation": "v",
         "showlegend": true,
         "type": "histogram",
         "x": [
          "IoT Temperature",
          "IoT Temperature",
          "IoT Temperature",
          "IoT Temperature",
          "IoT Temperature",
          "IoT Temperature",
          "IoT Temperature",
          "IoT Temperature",
          "IoT Temperature",
          "IoT Temperature",
          "IoT Temperature",
          "IoT Temperature",
          "IoT Temperature"
         ],
         "xaxis": "x",
         "yaxis": "y"
        },
        {
         "alignmentgroup": "True",
         "bingroup": "x",
         "hovertemplate": "Application Type=%{x}<br>count=%{y}<extra></extra>",
         "legendgroup": "Video Streaming",
         "marker": {
          "color": "#FF97FF",
          "pattern": {
           "shape": ""
          }
         },
         "name": "Video Streaming",
         "nbinsx": 30,
         "offsetgroup": "Video Streaming",
         "orientation": "v",
         "showlegend": true,
         "type": "histogram",
         "x": [
          "Video Streaming",
          "Video Streaming",
          "Video Streaming",
          "Video Streaming",
          "Video Streaming",
          "Video Streaming",
          "Video Streaming",
          "Video Streaming",
          "Video Streaming",
          "Video Streaming",
          "Video Streaming",
          "Video Streaming",
          "Video Streaming",
          "Video Streaming",
          "Video Streaming",
          "Video Streaming",
          "Video Streaming",
          "Video Streaming",
          "Video Streaming",
          "Video Streaming",
          "Video Streaming",
          "Video Streaming",
          "Video Streaming",
          "Video Streaming",
          "Video Streaming",
          "Video Streaming",
          "Video Streaming",
          "Video Streaming",
          "Video Streaming",
          "Video Streaming",
          "Video Streaming",
          "Video Streaming",
          "Video Streaming",
          "Video Streaming",
          "Video Streaming",
          "Video Streaming",
          "Video Streaming",
          "Video Streaming",
          "Video Streaming",
          "Video Streaming",
          "Video Streaming",
          "Video Streaming",
          "Video Streaming",
          "Video Streaming",
          "Video Streaming",
          "Video Streaming",
          "Video Streaming"
         ],
         "xaxis": "x",
         "yaxis": "y"
        },
        {
         "alignmentgroup": "True",
         "bingroup": "x",
         "hovertemplate": "Application Type=%{x}<br>count=%{y}<extra></extra>",
         "legendgroup": "File Download",
         "marker": {
          "color": "#FECB52",
          "pattern": {
           "shape": ""
          }
         },
         "name": "File Download",
         "nbinsx": 30,
         "offsetgroup": "File Download",
         "orientation": "v",
         "showlegend": true,
         "type": "histogram",
         "x": [
          "File Download"
         ],
         "xaxis": "x",
         "yaxis": "y"
        },
        {
         "alignmentgroup": "True",
         "bingroup": "x",
         "hovertemplate": "Application Type=%{x}<br>count=%{y}<extra></extra>",
         "legendgroup": "VoIP Call",
         "marker": {
          "color": "#636efa",
          "pattern": {
           "shape": ""
          }
         },
         "name": "VoIP Call",
         "nbinsx": 30,
         "offsetgroup": "VoIP Call",
         "orientation": "v",
         "showlegend": true,
         "type": "histogram",
         "x": [
          "VoIP Call",
          "VoIP Call",
          "VoIP Call",
          "VoIP Call",
          "VoIP Call",
          "VoIP Call",
          "VoIP Call",
          "VoIP Call",
          "VoIP Call",
          "VoIP Call",
          "VoIP Call",
          "VoIP Call",
          "VoIP Call",
          "VoIP Call",
          "VoIP Call",
          "VoIP Call",
          "VoIP Call",
          "VoIP Call",
          "VoIP Call",
          "VoIP Call",
          "VoIP Call",
          "VoIP Call",
          "VoIP Call",
          "VoIP Call",
          "VoIP Call",
          "VoIP Call",
          "VoIP Call",
          "VoIP Call",
          "VoIP Call",
          "VoIP Call",
          "VoIP Call",
          "VoIP Call",
          "VoIP Call",
          "VoIP Call",
          "VoIP Call",
          "VoIP Call",
          "VoIP Call",
          "VoIP Call",
          "VoIP Call",
          "VoIP Call",
          "VoIP Call",
          "VoIP Call",
          "VoIP Call",
          "VoIP Call",
          "VoIP Call",
          "VoIP Call"
         ],
         "xaxis": "x",
         "yaxis": "y"
        }
       ],
       "layout": {
        "bargap": 0.2,
        "barmode": "relative",
        "legend": {
         "title": {
          "text": "Application Type"
         },
         "tracegroupgap": 0
        },
        "template": {
         "data": {
          "bar": [
           {
            "error_x": {
             "color": "#2a3f5f"
            },
            "error_y": {
             "color": "#2a3f5f"
            },
            "marker": {
             "line": {
              "color": "#E5ECF6",
              "width": 0.5
             },
             "pattern": {
              "fillmode": "overlay",
              "size": 10,
              "solidity": 0.2
             }
            },
            "type": "bar"
           }
          ],
          "barpolar": [
           {
            "marker": {
             "line": {
              "color": "#E5ECF6",
              "width": 0.5
             },
             "pattern": {
              "fillmode": "overlay",
              "size": 10,
              "solidity": 0.2
             }
            },
            "type": "barpolar"
           }
          ],
          "carpet": [
           {
            "aaxis": {
             "endlinecolor": "#2a3f5f",
             "gridcolor": "white",
             "linecolor": "white",
             "minorgridcolor": "white",
             "startlinecolor": "#2a3f5f"
            },
            "baxis": {
             "endlinecolor": "#2a3f5f",
             "gridcolor": "white",
             "linecolor": "white",
             "minorgridcolor": "white",
             "startlinecolor": "#2a3f5f"
            },
            "type": "carpet"
           }
          ],
          "choropleth": [
           {
            "colorbar": {
             "outlinewidth": 0,
             "ticks": ""
            },
            "type": "choropleth"
           }
          ],
          "contour": [
           {
            "colorbar": {
             "outlinewidth": 0,
             "ticks": ""
            },
            "colorscale": [
             [
              0,
              "#0d0887"
             ],
             [
              0.1111111111111111,
              "#46039f"
             ],
             [
              0.2222222222222222,
              "#7201a8"
             ],
             [
              0.3333333333333333,
              "#9c179e"
             ],
             [
              0.4444444444444444,
              "#bd3786"
             ],
             [
              0.5555555555555556,
              "#d8576b"
             ],
             [
              0.6666666666666666,
              "#ed7953"
             ],
             [
              0.7777777777777778,
              "#fb9f3a"
             ],
             [
              0.8888888888888888,
              "#fdca26"
             ],
             [
              1,
              "#f0f921"
             ]
            ],
            "type": "contour"
           }
          ],
          "contourcarpet": [
           {
            "colorbar": {
             "outlinewidth": 0,
             "ticks": ""
            },
            "type": "contourcarpet"
           }
          ],
          "heatmap": [
           {
            "colorbar": {
             "outlinewidth": 0,
             "ticks": ""
            },
            "colorscale": [
             [
              0,
              "#0d0887"
             ],
             [
              0.1111111111111111,
              "#46039f"
             ],
             [
              0.2222222222222222,
              "#7201a8"
             ],
             [
              0.3333333333333333,
              "#9c179e"
             ],
             [
              0.4444444444444444,
              "#bd3786"
             ],
             [
              0.5555555555555556,
              "#d8576b"
             ],
             [
              0.6666666666666666,
              "#ed7953"
             ],
             [
              0.7777777777777778,
              "#fb9f3a"
             ],
             [
              0.8888888888888888,
              "#fdca26"
             ],
             [
              1,
              "#f0f921"
             ]
            ],
            "type": "heatmap"
           }
          ],
          "heatmapgl": [
           {
            "colorbar": {
             "outlinewidth": 0,
             "ticks": ""
            },
            "colorscale": [
             [
              0,
              "#0d0887"
             ],
             [
              0.1111111111111111,
              "#46039f"
             ],
             [
              0.2222222222222222,
              "#7201a8"
             ],
             [
              0.3333333333333333,
              "#9c179e"
             ],
             [
              0.4444444444444444,
              "#bd3786"
             ],
             [
              0.5555555555555556,
              "#d8576b"
             ],
             [
              0.6666666666666666,
              "#ed7953"
             ],
             [
              0.7777777777777778,
              "#fb9f3a"
             ],
             [
              0.8888888888888888,
              "#fdca26"
             ],
             [
              1,
              "#f0f921"
             ]
            ],
            "type": "heatmapgl"
           }
          ],
          "histogram": [
           {
            "marker": {
             "pattern": {
              "fillmode": "overlay",
              "size": 10,
              "solidity": 0.2
             }
            },
            "type": "histogram"
           }
          ],
          "histogram2d": [
           {
            "colorbar": {
             "outlinewidth": 0,
             "ticks": ""
            },
            "colorscale": [
             [
              0,
              "#0d0887"
             ],
             [
              0.1111111111111111,
              "#46039f"
             ],
             [
              0.2222222222222222,
              "#7201a8"
             ],
             [
              0.3333333333333333,
              "#9c179e"
             ],
             [
              0.4444444444444444,
              "#bd3786"
             ],
             [
              0.5555555555555556,
              "#d8576b"
             ],
             [
              0.6666666666666666,
              "#ed7953"
             ],
             [
              0.7777777777777778,
              "#fb9f3a"
             ],
             [
              0.8888888888888888,
              "#fdca26"
             ],
             [
              1,
              "#f0f921"
             ]
            ],
            "type": "histogram2d"
           }
          ],
          "histogram2dcontour": [
           {
            "colorbar": {
             "outlinewidth": 0,
             "ticks": ""
            },
            "colorscale": [
             [
              0,
              "#0d0887"
             ],
             [
              0.1111111111111111,
              "#46039f"
             ],
             [
              0.2222222222222222,
              "#7201a8"
             ],
             [
              0.3333333333333333,
              "#9c179e"
             ],
             [
              0.4444444444444444,
              "#bd3786"
             ],
             [
              0.5555555555555556,
              "#d8576b"
             ],
             [
              0.6666666666666666,
              "#ed7953"
             ],
             [
              0.7777777777777778,
              "#fb9f3a"
             ],
             [
              0.8888888888888888,
              "#fdca26"
             ],
             [
              1,
              "#f0f921"
             ]
            ],
            "type": "histogram2dcontour"
           }
          ],
          "mesh3d": [
           {
            "colorbar": {
             "outlinewidth": 0,
             "ticks": ""
            },
            "type": "mesh3d"
           }
          ],
          "parcoords": [
           {
            "line": {
             "colorbar": {
              "outlinewidth": 0,
              "ticks": ""
             }
            },
            "type": "parcoords"
           }
          ],
          "pie": [
           {
            "automargin": true,
            "type": "pie"
           }
          ],
          "scatter": [
           {
            "fillpattern": {
             "fillmode": "overlay",
             "size": 10,
             "solidity": 0.2
            },
            "type": "scatter"
           }
          ],
          "scatter3d": [
           {
            "line": {
             "colorbar": {
              "outlinewidth": 0,
              "ticks": ""
             }
            },
            "marker": {
             "colorbar": {
              "outlinewidth": 0,
              "ticks": ""
             }
            },
            "type": "scatter3d"
           }
          ],
          "scattercarpet": [
           {
            "marker": {
             "colorbar": {
              "outlinewidth": 0,
              "ticks": ""
             }
            },
            "type": "scattercarpet"
           }
          ],
          "scattergeo": [
           {
            "marker": {
             "colorbar": {
              "outlinewidth": 0,
              "ticks": ""
             }
            },
            "type": "scattergeo"
           }
          ],
          "scattergl": [
           {
            "marker": {
             "colorbar": {
              "outlinewidth": 0,
              "ticks": ""
             }
            },
            "type": "scattergl"
           }
          ],
          "scattermapbox": [
           {
            "marker": {
             "colorbar": {
              "outlinewidth": 0,
              "ticks": ""
             }
            },
            "type": "scattermapbox"
           }
          ],
          "scatterpolar": [
           {
            "marker": {
             "colorbar": {
              "outlinewidth": 0,
              "ticks": ""
             }
            },
            "type": "scatterpolar"
           }
          ],
          "scatterpolargl": [
           {
            "marker": {
             "colorbar": {
              "outlinewidth": 0,
              "ticks": ""
             }
            },
            "type": "scatterpolargl"
           }
          ],
          "scatterternary": [
           {
            "marker": {
             "colorbar": {
              "outlinewidth": 0,
              "ticks": ""
             }
            },
            "type": "scatterternary"
           }
          ],
          "surface": [
           {
            "colorbar": {
             "outlinewidth": 0,
             "ticks": ""
            },
            "colorscale": [
             [
              0,
              "#0d0887"
             ],
             [
              0.1111111111111111,
              "#46039f"
             ],
             [
              0.2222222222222222,
              "#7201a8"
             ],
             [
              0.3333333333333333,
              "#9c179e"
             ],
             [
              0.4444444444444444,
              "#bd3786"
             ],
             [
              0.5555555555555556,
              "#d8576b"
             ],
             [
              0.6666666666666666,
              "#ed7953"
             ],
             [
              0.7777777777777778,
              "#fb9f3a"
             ],
             [
              0.8888888888888888,
              "#fdca26"
             ],
             [
              1,
              "#f0f921"
             ]
            ],
            "type": "surface"
           }
          ],
          "table": [
           {
            "cells": {
             "fill": {
              "color": "#EBF0F8"
             },
             "line": {
              "color": "white"
             }
            },
            "header": {
             "fill": {
              "color": "#C8D4E3"
             },
             "line": {
              "color": "white"
             }
            },
            "type": "table"
           }
          ]
         },
         "layout": {
          "annotationdefaults": {
           "arrowcolor": "#2a3f5f",
           "arrowhead": 0,
           "arrowwidth": 1
          },
          "autotypenumbers": "strict",
          "coloraxis": {
           "colorbar": {
            "outlinewidth": 0,
            "ticks": ""
           }
          },
          "colorscale": {
           "diverging": [
            [
             0,
             "#8e0152"
            ],
            [
             0.1,
             "#c51b7d"
            ],
            [
             0.2,
             "#de77ae"
            ],
            [
             0.3,
             "#f1b6da"
            ],
            [
             0.4,
             "#fde0ef"
            ],
            [
             0.5,
             "#f7f7f7"
            ],
            [
             0.6,
             "#e6f5d0"
            ],
            [
             0.7,
             "#b8e186"
            ],
            [
             0.8,
             "#7fbc41"
            ],
            [
             0.9,
             "#4d9221"
            ],
            [
             1,
             "#276419"
            ]
           ],
           "sequential": [
            [
             0,
             "#0d0887"
            ],
            [
             0.1111111111111111,
             "#46039f"
            ],
            [
             0.2222222222222222,
             "#7201a8"
            ],
            [
             0.3333333333333333,
             "#9c179e"
            ],
            [
             0.4444444444444444,
             "#bd3786"
            ],
            [
             0.5555555555555556,
             "#d8576b"
            ],
            [
             0.6666666666666666,
             "#ed7953"
            ],
            [
             0.7777777777777778,
             "#fb9f3a"
            ],
            [
             0.8888888888888888,
             "#fdca26"
            ],
            [
             1,
             "#f0f921"
            ]
           ],
           "sequentialminus": [
            [
             0,
             "#0d0887"
            ],
            [
             0.1111111111111111,
             "#46039f"
            ],
            [
             0.2222222222222222,
             "#7201a8"
            ],
            [
             0.3333333333333333,
             "#9c179e"
            ],
            [
             0.4444444444444444,
             "#bd3786"
            ],
            [
             0.5555555555555556,
             "#d8576b"
            ],
            [
             0.6666666666666666,
             "#ed7953"
            ],
            [
             0.7777777777777778,
             "#fb9f3a"
            ],
            [
             0.8888888888888888,
             "#fdca26"
            ],
            [
             1,
             "#f0f921"
            ]
           ]
          },
          "colorway": [
           "#636efa",
           "#EF553B",
           "#00cc96",
           "#ab63fa",
           "#FFA15A",
           "#19d3f3",
           "#FF6692",
           "#B6E880",
           "#FF97FF",
           "#FECB52"
          ],
          "font": {
           "color": "#2a3f5f"
          },
          "geo": {
           "bgcolor": "white",
           "lakecolor": "white",
           "landcolor": "#E5ECF6",
           "showlakes": true,
           "showland": true,
           "subunitcolor": "white"
          },
          "hoverlabel": {
           "align": "left"
          },
          "hovermode": "closest",
          "mapbox": {
           "style": "light"
          },
          "paper_bgcolor": "white",
          "plot_bgcolor": "#E5ECF6",
          "polar": {
           "angularaxis": {
            "gridcolor": "white",
            "linecolor": "white",
            "ticks": ""
           },
           "bgcolor": "#E5ECF6",
           "radialaxis": {
            "gridcolor": "white",
            "linecolor": "white",
            "ticks": ""
           }
          },
          "scene": {
           "xaxis": {
            "backgroundcolor": "#E5ECF6",
            "gridcolor": "white",
            "gridwidth": 2,
            "linecolor": "white",
            "showbackground": true,
            "ticks": "",
            "zerolinecolor": "white"
           },
           "yaxis": {
            "backgroundcolor": "#E5ECF6",
            "gridcolor": "white",
            "gridwidth": 2,
            "linecolor": "white",
            "showbackground": true,
            "ticks": "",
            "zerolinecolor": "white"
           },
           "zaxis": {
            "backgroundcolor": "#E5ECF6",
            "gridcolor": "white",
            "gridwidth": 2,
            "linecolor": "white",
            "showbackground": true,
            "ticks": "",
            "zerolinecolor": "white"
           }
          },
          "shapedefaults": {
           "line": {
            "color": "#2a3f5f"
           }
          },
          "ternary": {
           "aaxis": {
            "gridcolor": "white",
            "linecolor": "white",
            "ticks": ""
           },
           "baxis": {
            "gridcolor": "white",
            "linecolor": "white",
            "ticks": ""
           },
           "bgcolor": "#E5ECF6",
           "caxis": {
            "gridcolor": "white",
            "linecolor": "white",
            "ticks": ""
           }
          },
          "title": {
           "x": 0.05
          },
          "xaxis": {
           "automargin": true,
           "gridcolor": "white",
           "linecolor": "white",
           "ticks": "",
           "title": {
            "standoff": 15
           },
           "zerolinecolor": "white",
           "zerolinewidth": 2
          },
          "yaxis": {
           "automargin": true,
           "gridcolor": "white",
           "linecolor": "white",
           "ticks": "",
           "title": {
            "standoff": 15
           },
           "zerolinecolor": "white",
           "zerolinewidth": 2
          }
         }
        },
        "title": {
         "text": "Distribution of Application Types"
        },
        "xaxis": {
         "anchor": "y",
         "categoryarray": [
          "Video Call",
          "Voice Call",
          "Streaming",
          "Emergency Service",
          "Online Gaming",
          "Background Download",
          "Web Browsing",
          "IoT Temperature",
          "Video Streaming",
          "File Download",
          "VoIP Call"
         ],
         "categoryorder": "array",
         "domain": [
          0,
          1
         ],
         "title": {
          "text": "Application Type"
         }
        },
        "yaxis": {
         "anchor": "x",
         "domain": [
          0,
          1
         ],
         "title": {
          "text": "Count"
         }
        }
       }
      }
     },
     "metadata": {},
     "output_type": "display_data"
    }
   ],
   "source": [
    "# Plot some visualizations\n",
    "\n",
    "# Histogram for Application types\n",
    "\n",
    "fig = px.histogram(df, x='Application Type', \n",
    "                   title='Distribution of Application Types', \n",
    "                   nbins=30, \n",
    "                   color='Application Type')\n",
    "fig.update_layout(\n",
    "    yaxis_title='Count',\n",
    "    bargap=0.2)\n",
    "fig.show()"
   ]
  },
  {
   "cell_type": "code",
   "execution_count": 33,
   "id": "4e05fede",
   "metadata": {},
   "outputs": [
    {
     "data": {
      "application/vnd.plotly.v1+json": {
       "config": {
        "plotlyServerURL": "https://plot.ly"
       },
       "data": [
        {
         "hovertemplate": "Application Type=Video Call<br>Required Bandwidth=%{x}<br>Allocated Bandwidth=%{y}<extra></extra>",
         "legendgroup": "Video Call",
         "marker": {
          "color": "#636efa",
          "symbol": "circle"
         },
         "mode": "markers",
         "name": "Video Call",
         "orientation": "v",
         "showlegend": true,
         "type": "scatter",
         "x": [
          10,
          12,
          10,
          11,
          10.5,
          10.2,
          10.8,
          10.5,
          10.2,
          11,
          10.7,
          10.3,
          10.9,
          10.7,
          11,
          10.8,
          11.2,
          10.9,
          11.4,
          11.2,
          10.8,
          11.4,
          11.2,
          0.15,
          11,
          11.1,
          11.3,
          11.5,
          11.6,
          11.7,
          11.8,
          11.9,
          12,
          12.1,
          12.2,
          12.3,
          12.4,
          12.5,
          12.6,
          12.7,
          12.8,
          12.9,
          13,
          13.1,
          13.2,
          13.3,
          13.4,
          13.5,
          13.6,
          13.7,
          13.8,
          13.9,
          14,
          14.1,
          14.2,
          14.3,
          14.4,
          14.5
         ],
         "xaxis": "x",
         "y": [
          15,
          14,
          12,
          13,
          12.5,
          12.2,
          12.8,
          12.3,
          12.6,
          12.5,
          12.3,
          12.1,
          12.4,
          12.2,
          12.5,
          12,
          12.8,
          12.1,
          12.7,
          12.5,
          12,
          12.7,
          12.5,
          0.175,
          12.3,
          12.4,
          12.6,
          12.8,
          12.9,
          13,
          13.1,
          13.2,
          13.3,
          13.4,
          13.5,
          13.6,
          13.7,
          13.8,
          13.9,
          14,
          14.1,
          14.2,
          14.3,
          14.4,
          14.5,
          14.6,
          14.7,
          14.8,
          14.9,
          15,
          15.1,
          15.2,
          15.3,
          15.4,
          15.5,
          15.6,
          15.7,
          15.8
         ],
         "yaxis": "y"
        },
        {
         "hovertemplate": "Application Type=Voice Call<br>Required Bandwidth=%{x}<br>Allocated Bandwidth=%{y}<extra></extra>",
         "legendgroup": "Voice Call",
         "marker": {
          "color": "#EF553B",
          "symbol": "circle"
         },
         "mode": "markers",
         "name": "Voice Call",
         "orientation": "v",
         "showlegend": true,
         "type": "scatter",
         "x": [
          0.1
         ],
         "xaxis": "x",
         "y": [
          0.12
         ],
         "yaxis": "y"
        },
        {
         "hovertemplate": "Application Type=Streaming<br>Required Bandwidth=%{x}<br>Allocated Bandwidth=%{y}<extra></extra>",
         "legendgroup": "Streaming",
         "marker": {
          "color": "#00cc96",
          "symbol": "circle"
         },
         "mode": "markers",
         "name": "Streaming",
         "orientation": "v",
         "showlegend": true,
         "type": "scatter",
         "x": [
          5,
          4.5,
          4.2,
          4,
          3.8,
          4.1,
          4.3,
          4.4,
          4.5,
          4.6,
          4.5,
          4.6,
          4.5,
          5,
          4.4,
          4.3,
          4.4,
          4.2,
          4.1,
          4,
          3.9,
          3.8,
          3.7,
          3.6,
          3.5,
          3.4,
          3.3,
          3.2,
          3.1,
          3,
          2.9,
          2.8,
          2.7,
          2.6,
          2.5,
          2.4,
          2.3,
          2.2,
          2.1,
          2,
          1.9,
          1.8,
          1.7,
          1.6,
          1.5,
          1.4,
          1.3
         ],
         "xaxis": "x",
         "y": [
          6,
          5,
          4.8,
          4.6,
          4.4,
          4.7,
          4.9,
          5,
          5.1,
          5.2,
          5.1,
          5.2,
          5.1,
          5.7,
          5,
          4.8,
          4.9,
          4.7,
          4.6,
          4.5,
          4.4,
          4.3,
          4.2,
          4.1,
          4,
          3.9,
          3.8,
          3.7,
          3.6,
          3.5,
          3.4,
          3.3,
          3.2,
          3.1,
          3,
          2.9,
          2.8,
          2.7,
          2.6,
          2.5,
          2.4,
          2.3,
          2.2,
          2.1,
          2,
          1.9,
          1.8
         ],
         "yaxis": "y"
        },
        {
         "hovertemplate": "Application Type=Emergency Service<br>Required Bandwidth=%{x}<br>Allocated Bandwidth=%{y}<extra></extra>",
         "legendgroup": "Emergency Service",
         "marker": {
          "color": "#ab63fa",
          "symbol": "circle"
         },
         "mode": "markers",
         "name": "Emergency Service",
         "orientation": "v",
         "showlegend": true,
         "type": "scatter",
         "x": [
          1,
          1.2,
          1.1,
          1,
          1.1,
          1,
          1,
          0.9,
          0.8,
          0.7,
          0.8,
          0.7,
          0.8,
          0.9,
          0.9,
          0.8,
          0.8,
          0.7,
          0.7,
          0.7,
          0.7,
          0.6,
          0.6,
          0.6,
          0.6,
          0.6,
          0.6,
          0.6,
          0.6,
          0.6,
          0.6,
          0.6,
          0.5,
          0.5,
          0.5,
          0.5,
          0.5,
          0.5,
          0.5,
          0.5,
          0.5,
          0.5,
          0.4,
          0.4,
          0.4,
          0.4,
          0.4
         ],
         "xaxis": "x",
         "y": [
          1.5,
          1.3,
          1.2,
          1.1,
          1.2,
          1.1,
          1.1,
          1,
          0.9,
          0.8,
          0.9,
          0.8,
          0.9,
          1,
          1.1,
          1,
          1,
          0.9,
          0.8,
          0.8,
          0.8,
          0.7,
          0.7,
          0.6,
          0.6,
          0.6,
          0.6,
          0.6,
          0.6,
          0.6,
          0.6,
          0.6,
          0.5,
          0.5,
          0.5,
          0.5,
          0.5,
          0.5,
          0.5,
          0.5,
          0.5,
          0.5,
          0.4,
          0.4,
          0.4,
          0.4,
          0.4
         ],
         "yaxis": "y"
        },
        {
         "hovertemplate": "Application Type=Online Gaming<br>Required Bandwidth=%{x}<br>Allocated Bandwidth=%{y}<extra></extra>",
         "legendgroup": "Online Gaming",
         "marker": {
          "color": "#FFA15A",
          "symbol": "circle"
         },
         "mode": "markers",
         "name": "Online Gaming",
         "orientation": "v",
         "showlegend": true,
         "type": "scatter",
         "x": [
          2,
          2.5,
          2.2,
          2.3,
          2.4,
          2.6,
          2.7,
          2.8,
          2.9,
          3,
          2.9,
          3.1,
          2.9,
          3.2,
          3.3,
          3.4,
          3.5,
          3.6,
          3.7,
          3.8,
          3.9,
          4,
          4.1,
          4.2,
          4.3,
          4.4,
          4.5,
          4.6,
          4.7,
          4.8,
          4.9,
          5,
          5.1,
          5.2,
          5.3,
          5.4,
          5.5,
          5.6,
          5.7,
          5.8,
          5.9,
          6,
          6.1,
          6.2,
          6.3
         ],
         "xaxis": "x",
         "y": [
          3,
          2.8,
          2.5,
          2.6,
          2.7,
          2.9,
          3,
          3.1,
          3.2,
          3.3,
          3.2,
          3.4,
          3.2,
          3.5,
          3.6,
          3.7,
          3.8,
          3.9,
          4,
          4.1,
          4.2,
          4.3,
          4.4,
          4.5,
          4.6,
          4.7,
          4.8,
          4.9,
          5,
          5.1,
          5.2,
          5.3,
          5.4,
          5.5,
          5.6,
          5.7,
          5.8,
          5.9,
          6,
          6.1,
          6.2,
          6.3,
          6.4,
          6.5,
          6.6
         ],
         "yaxis": "y"
        },
        {
         "hovertemplate": "Application Type=Background Download<br>Required Bandwidth=%{x}<br>Allocated Bandwidth=%{y}<extra></extra>",
         "legendgroup": "Background Download",
         "marker": {
          "color": "#19d3f3",
          "symbol": "circle"
         },
         "mode": "markers",
         "name": "Background Download",
         "orientation": "v",
         "showlegend": true,
         "type": "scatter",
         "x": [
          0.5,
          0.6,
          0.62,
          0.63,
          0.64,
          0.65,
          0.66,
          0.67,
          0.68,
          0.69,
          0.67,
          0.68,
          0.67,
          0.62,
          0.66,
          0.61,
          0.65,
          0.64,
          0.63,
          0.62,
          0.61,
          0.6,
          0.59,
          0.58,
          0.57,
          0.56,
          0.55,
          0.54,
          0.53,
          0.52,
          0.51,
          0.5,
          0.49,
          0.48,
          0.47,
          0.46,
          0.45,
          0.44,
          0.43,
          0.42,
          0.41,
          0.4,
          0.39,
          0.38,
          0.37,
          0.36,
          0.35
         ],
         "xaxis": "x",
         "y": [
          0.55,
          0.6,
          0.62,
          0.63,
          0.64,
          0.65,
          0.66,
          0.67,
          0.68,
          0.69,
          0.67,
          0.68,
          0.67,
          0.62,
          0.66,
          0.61,
          0.65,
          0.64,
          0.63,
          0.62,
          0.61,
          0.6,
          0.59,
          0.58,
          0.57,
          0.56,
          0.55,
          0.54,
          0.53,
          0.52,
          0.51,
          0.5,
          0.49,
          0.48,
          0.47,
          0.46,
          0.45,
          0.44,
          0.43,
          0.42,
          0.41,
          0.4,
          0.39,
          0.38,
          0.37,
          0.36,
          0.35
         ],
         "yaxis": "y"
        },
        {
         "hovertemplate": "Application Type=Web Browsing<br>Required Bandwidth=%{x}<br>Allocated Bandwidth=%{y}<extra></extra>",
         "legendgroup": "Web Browsing",
         "marker": {
          "color": "#FF6692",
          "symbol": "circle"
         },
         "mode": "markers",
         "name": "Web Browsing",
         "orientation": "v",
         "showlegend": true,
         "type": "scatter",
         "x": [
          1,
          1.2,
          1.4,
          1.3,
          1.2,
          1.1,
          1,
          0.9,
          0.8,
          0.7,
          0.8,
          0.7,
          0.8,
          1.5,
          0.6,
          0.7,
          0.6,
          0.5,
          0.5,
          0.5,
          0.5,
          0.4,
          0.4,
          0.4,
          0.4,
          0.4,
          0.3,
          0.3,
          0.3,
          0.2,
          0.2,
          0.2,
          0.1,
          0.1,
          0.1,
          0.1,
          0.1,
          0.1,
          0.1,
          0.1,
          0.1,
          0.1,
          0.1,
          0.1,
          0.1,
          0.1,
          0.1,
          0.1
         ],
         "xaxis": "x",
         "y": [
          1,
          1.2,
          1.4,
          1.3,
          1.2,
          1.1,
          1,
          0.9,
          0.8,
          0.7,
          0.8,
          0.7,
          0.8,
          1.5,
          0.6,
          0.7,
          0.6,
          0.5,
          0.5,
          0.5,
          0.5,
          0.4,
          0.4,
          0.4,
          0.4,
          0.4,
          0.3,
          0.3,
          0.3,
          0.2,
          0.2,
          0.2,
          0.1,
          0.1,
          0.1,
          0.1,
          0.1,
          0.1,
          0.1,
          0.1,
          0.1,
          0.1,
          0.1,
          0.1,
          0.1,
          0.1,
          0.1,
          0.1
         ],
         "yaxis": "y"
        },
        {
         "hovertemplate": "Application Type=IoT Temperature<br>Required Bandwidth=%{x}<br>Allocated Bandwidth=%{y}<extra></extra>",
         "legendgroup": "IoT Temperature",
         "marker": {
          "color": "#B6E880",
          "symbol": "circle"
         },
         "mode": "markers",
         "name": "IoT Temperature",
         "orientation": "v",
         "showlegend": true,
         "type": "scatter",
         "x": [
          0.01,
          0.008,
          0.007,
          0.006,
          0.005,
          0.004,
          0.003,
          0.002,
          0.001,
          0.001,
          0.001,
          0.001,
          0.001
         ],
         "xaxis": "x",
         "y": [
          0.015,
          0.009,
          0.008,
          0.007,
          0.006,
          0.005,
          0.004,
          0.003,
          0.002,
          0.002,
          0.002,
          0.002,
          0.002
         ],
         "yaxis": "y"
        },
        {
         "hovertemplate": "Application Type=Video Streaming<br>Required Bandwidth=%{x}<br>Allocated Bandwidth=%{y}<extra></extra>",
         "legendgroup": "Video Streaming",
         "marker": {
          "color": "#FF97FF",
          "symbol": "circle"
         },
         "mode": "markers",
         "name": "Video Streaming",
         "orientation": "v",
         "showlegend": true,
         "type": "scatter",
         "x": [
          3,
          3.2,
          3.4,
          3.5,
          3.6,
          3.7,
          3.8,
          3.9,
          4,
          4.1,
          4,
          4.1,
          4,
          4.2,
          4.1,
          4,
          4,
          3.9,
          3.8,
          3.7,
          3.6,
          3.5,
          3.4,
          3.3,
          3.2,
          3.1,
          3,
          2.9,
          2.8,
          2.7,
          2.6,
          2.5,
          2.4,
          2.3,
          2.2,
          2.1,
          2,
          1.9,
          1.8,
          1.7,
          1.6,
          1.5,
          1.4,
          1.3,
          1.2,
          1.1,
          1
         ],
         "xaxis": "x",
         "y": [
          3.5,
          3.5,
          3.7,
          3.8,
          3.9,
          4,
          4.1,
          4.2,
          4.3,
          4.4,
          4.3,
          4.4,
          4.3,
          4.6,
          4.5,
          4.4,
          4.4,
          4.3,
          4.2,
          4.1,
          4,
          3.9,
          3.8,
          3.7,
          3.6,
          3.5,
          3.4,
          3.3,
          3.2,
          3.1,
          3,
          2.9,
          2.8,
          2.7,
          2.6,
          2.5,
          2.4,
          2.3,
          2.2,
          2.1,
          2,
          1.9,
          1.8,
          1.7,
          1.6,
          1.5,
          1.4
         ],
         "yaxis": "y"
        },
        {
         "hovertemplate": "Application Type=File Download<br>Required Bandwidth=%{x}<br>Allocated Bandwidth=%{y}<extra></extra>",
         "legendgroup": "File Download",
         "marker": {
          "color": "#FECB52",
          "symbol": "circle"
         },
         "mode": "markers",
         "name": "File Download",
         "orientation": "v",
         "showlegend": true,
         "type": "scatter",
         "x": [
          2
         ],
         "xaxis": "x",
         "y": [
          2
         ],
         "yaxis": "y"
        },
        {
         "hovertemplate": "Application Type=VoIP Call<br>Required Bandwidth=%{x}<br>Allocated Bandwidth=%{y}<extra></extra>",
         "legendgroup": "VoIP Call",
         "marker": {
          "color": "#636efa",
          "symbol": "circle"
         },
         "mode": "markers",
         "name": "VoIP Call",
         "orientation": "v",
         "showlegend": true,
         "type": "scatter",
         "x": [
          0.15,
          0.16,
          0.17,
          0.165,
          0.16,
          0.155,
          0.15,
          0.145,
          0.14,
          0.155,
          0.15,
          0.145,
          0.155,
          0.13,
          0.125,
          0.12,
          0.115,
          0.11,
          0.105,
          0.1,
          0.095,
          0.09,
          0.085,
          0.08,
          0.075,
          0.07,
          0.065,
          0.06,
          0.055,
          0.05,
          0.045,
          0.04,
          0.035,
          0.03,
          0.025,
          0.02,
          0.015,
          0.01,
          0.005,
          0,
          0,
          0,
          0,
          0,
          0,
          0
         ],
         "xaxis": "x",
         "y": [
          0.17,
          0.18,
          0.19,
          0.185,
          0.19,
          0.18,
          0.175,
          0.17,
          0.165,
          0.18,
          0.175,
          0.17,
          0.18,
          0.155,
          0.15,
          0.145,
          0.14,
          0.135,
          0.13,
          0.125,
          0.12,
          0.115,
          0.11,
          0.105,
          0.1,
          0.095,
          0.09,
          0.085,
          0.08,
          0.075,
          0.07,
          0.065,
          0.06,
          0.055,
          0.05,
          0.045,
          0.04,
          0.035,
          0.03,
          0.025,
          0.02,
          0.015,
          0.01,
          0.005,
          0,
          0
         ],
         "yaxis": "y"
        }
       ],
       "layout": {
        "legend": {
         "title": {
          "text": "Application Type"
         },
         "tracegroupgap": 0
        },
        "template": {
         "data": {
          "bar": [
           {
            "error_x": {
             "color": "#2a3f5f"
            },
            "error_y": {
             "color": "#2a3f5f"
            },
            "marker": {
             "line": {
              "color": "#E5ECF6",
              "width": 0.5
             },
             "pattern": {
              "fillmode": "overlay",
              "size": 10,
              "solidity": 0.2
             }
            },
            "type": "bar"
           }
          ],
          "barpolar": [
           {
            "marker": {
             "line": {
              "color": "#E5ECF6",
              "width": 0.5
             },
             "pattern": {
              "fillmode": "overlay",
              "size": 10,
              "solidity": 0.2
             }
            },
            "type": "barpolar"
           }
          ],
          "carpet": [
           {
            "aaxis": {
             "endlinecolor": "#2a3f5f",
             "gridcolor": "white",
             "linecolor": "white",
             "minorgridcolor": "white",
             "startlinecolor": "#2a3f5f"
            },
            "baxis": {
             "endlinecolor": "#2a3f5f",
             "gridcolor": "white",
             "linecolor": "white",
             "minorgridcolor": "white",
             "startlinecolor": "#2a3f5f"
            },
            "type": "carpet"
           }
          ],
          "choropleth": [
           {
            "colorbar": {
             "outlinewidth": 0,
             "ticks": ""
            },
            "type": "choropleth"
           }
          ],
          "contour": [
           {
            "colorbar": {
             "outlinewidth": 0,
             "ticks": ""
            },
            "colorscale": [
             [
              0,
              "#0d0887"
             ],
             [
              0.1111111111111111,
              "#46039f"
             ],
             [
              0.2222222222222222,
              "#7201a8"
             ],
             [
              0.3333333333333333,
              "#9c179e"
             ],
             [
              0.4444444444444444,
              "#bd3786"
             ],
             [
              0.5555555555555556,
              "#d8576b"
             ],
             [
              0.6666666666666666,
              "#ed7953"
             ],
             [
              0.7777777777777778,
              "#fb9f3a"
             ],
             [
              0.8888888888888888,
              "#fdca26"
             ],
             [
              1,
              "#f0f921"
             ]
            ],
            "type": "contour"
           }
          ],
          "contourcarpet": [
           {
            "colorbar": {
             "outlinewidth": 0,
             "ticks": ""
            },
            "type": "contourcarpet"
           }
          ],
          "heatmap": [
           {
            "colorbar": {
             "outlinewidth": 0,
             "ticks": ""
            },
            "colorscale": [
             [
              0,
              "#0d0887"
             ],
             [
              0.1111111111111111,
              "#46039f"
             ],
             [
              0.2222222222222222,
              "#7201a8"
             ],
             [
              0.3333333333333333,
              "#9c179e"
             ],
             [
              0.4444444444444444,
              "#bd3786"
             ],
             [
              0.5555555555555556,
              "#d8576b"
             ],
             [
              0.6666666666666666,
              "#ed7953"
             ],
             [
              0.7777777777777778,
              "#fb9f3a"
             ],
             [
              0.8888888888888888,
              "#fdca26"
             ],
             [
              1,
              "#f0f921"
             ]
            ],
            "type": "heatmap"
           }
          ],
          "heatmapgl": [
           {
            "colorbar": {
             "outlinewidth": 0,
             "ticks": ""
            },
            "colorscale": [
             [
              0,
              "#0d0887"
             ],
             [
              0.1111111111111111,
              "#46039f"
             ],
             [
              0.2222222222222222,
              "#7201a8"
             ],
             [
              0.3333333333333333,
              "#9c179e"
             ],
             [
              0.4444444444444444,
              "#bd3786"
             ],
             [
              0.5555555555555556,
              "#d8576b"
             ],
             [
              0.6666666666666666,
              "#ed7953"
             ],
             [
              0.7777777777777778,
              "#fb9f3a"
             ],
             [
              0.8888888888888888,
              "#fdca26"
             ],
             [
              1,
              "#f0f921"
             ]
            ],
            "type": "heatmapgl"
           }
          ],
          "histogram": [
           {
            "marker": {
             "pattern": {
              "fillmode": "overlay",
              "size": 10,
              "solidity": 0.2
             }
            },
            "type": "histogram"
           }
          ],
          "histogram2d": [
           {
            "colorbar": {
             "outlinewidth": 0,
             "ticks": ""
            },
            "colorscale": [
             [
              0,
              "#0d0887"
             ],
             [
              0.1111111111111111,
              "#46039f"
             ],
             [
              0.2222222222222222,
              "#7201a8"
             ],
             [
              0.3333333333333333,
              "#9c179e"
             ],
             [
              0.4444444444444444,
              "#bd3786"
             ],
             [
              0.5555555555555556,
              "#d8576b"
             ],
             [
              0.6666666666666666,
              "#ed7953"
             ],
             [
              0.7777777777777778,
              "#fb9f3a"
             ],
             [
              0.8888888888888888,
              "#fdca26"
             ],
             [
              1,
              "#f0f921"
             ]
            ],
            "type": "histogram2d"
           }
          ],
          "histogram2dcontour": [
           {
            "colorbar": {
             "outlinewidth": 0,
             "ticks": ""
            },
            "colorscale": [
             [
              0,
              "#0d0887"
             ],
             [
              0.1111111111111111,
              "#46039f"
             ],
             [
              0.2222222222222222,
              "#7201a8"
             ],
             [
              0.3333333333333333,
              "#9c179e"
             ],
             [
              0.4444444444444444,
              "#bd3786"
             ],
             [
              0.5555555555555556,
              "#d8576b"
             ],
             [
              0.6666666666666666,
              "#ed7953"
             ],
             [
              0.7777777777777778,
              "#fb9f3a"
             ],
             [
              0.8888888888888888,
              "#fdca26"
             ],
             [
              1,
              "#f0f921"
             ]
            ],
            "type": "histogram2dcontour"
           }
          ],
          "mesh3d": [
           {
            "colorbar": {
             "outlinewidth": 0,
             "ticks": ""
            },
            "type": "mesh3d"
           }
          ],
          "parcoords": [
           {
            "line": {
             "colorbar": {
              "outlinewidth": 0,
              "ticks": ""
             }
            },
            "type": "parcoords"
           }
          ],
          "pie": [
           {
            "automargin": true,
            "type": "pie"
           }
          ],
          "scatter": [
           {
            "fillpattern": {
             "fillmode": "overlay",
             "size": 10,
             "solidity": 0.2
            },
            "type": "scatter"
           }
          ],
          "scatter3d": [
           {
            "line": {
             "colorbar": {
              "outlinewidth": 0,
              "ticks": ""
             }
            },
            "marker": {
             "colorbar": {
              "outlinewidth": 0,
              "ticks": ""
             }
            },
            "type": "scatter3d"
           }
          ],
          "scattercarpet": [
           {
            "marker": {
             "colorbar": {
              "outlinewidth": 0,
              "ticks": ""
             }
            },
            "type": "scattercarpet"
           }
          ],
          "scattergeo": [
           {
            "marker": {
             "colorbar": {
              "outlinewidth": 0,
              "ticks": ""
             }
            },
            "type": "scattergeo"
           }
          ],
          "scattergl": [
           {
            "marker": {
             "colorbar": {
              "outlinewidth": 0,
              "ticks": ""
             }
            },
            "type": "scattergl"
           }
          ],
          "scattermapbox": [
           {
            "marker": {
             "colorbar": {
              "outlinewidth": 0,
              "ticks": ""
             }
            },
            "type": "scattermapbox"
           }
          ],
          "scatterpolar": [
           {
            "marker": {
             "colorbar": {
              "outlinewidth": 0,
              "ticks": ""
             }
            },
            "type": "scatterpolar"
           }
          ],
          "scatterpolargl": [
           {
            "marker": {
             "colorbar": {
              "outlinewidth": 0,
              "ticks": ""
             }
            },
            "type": "scatterpolargl"
           }
          ],
          "scatterternary": [
           {
            "marker": {
             "colorbar": {
              "outlinewidth": 0,
              "ticks": ""
             }
            },
            "type": "scatterternary"
           }
          ],
          "surface": [
           {
            "colorbar": {
             "outlinewidth": 0,
             "ticks": ""
            },
            "colorscale": [
             [
              0,
              "#0d0887"
             ],
             [
              0.1111111111111111,
              "#46039f"
             ],
             [
              0.2222222222222222,
              "#7201a8"
             ],
             [
              0.3333333333333333,
              "#9c179e"
             ],
             [
              0.4444444444444444,
              "#bd3786"
             ],
             [
              0.5555555555555556,
              "#d8576b"
             ],
             [
              0.6666666666666666,
              "#ed7953"
             ],
             [
              0.7777777777777778,
              "#fb9f3a"
             ],
             [
              0.8888888888888888,
              "#fdca26"
             ],
             [
              1,
              "#f0f921"
             ]
            ],
            "type": "surface"
           }
          ],
          "table": [
           {
            "cells": {
             "fill": {
              "color": "#EBF0F8"
             },
             "line": {
              "color": "white"
             }
            },
            "header": {
             "fill": {
              "color": "#C8D4E3"
             },
             "line": {
              "color": "white"
             }
            },
            "type": "table"
           }
          ]
         },
         "layout": {
          "annotationdefaults": {
           "arrowcolor": "#2a3f5f",
           "arrowhead": 0,
           "arrowwidth": 1
          },
          "autotypenumbers": "strict",
          "coloraxis": {
           "colorbar": {
            "outlinewidth": 0,
            "ticks": ""
           }
          },
          "colorscale": {
           "diverging": [
            [
             0,
             "#8e0152"
            ],
            [
             0.1,
             "#c51b7d"
            ],
            [
             0.2,
             "#de77ae"
            ],
            [
             0.3,
             "#f1b6da"
            ],
            [
             0.4,
             "#fde0ef"
            ],
            [
             0.5,
             "#f7f7f7"
            ],
            [
             0.6,
             "#e6f5d0"
            ],
            [
             0.7,
             "#b8e186"
            ],
            [
             0.8,
             "#7fbc41"
            ],
            [
             0.9,
             "#4d9221"
            ],
            [
             1,
             "#276419"
            ]
           ],
           "sequential": [
            [
             0,
             "#0d0887"
            ],
            [
             0.1111111111111111,
             "#46039f"
            ],
            [
             0.2222222222222222,
             "#7201a8"
            ],
            [
             0.3333333333333333,
             "#9c179e"
            ],
            [
             0.4444444444444444,
             "#bd3786"
            ],
            [
             0.5555555555555556,
             "#d8576b"
            ],
            [
             0.6666666666666666,
             "#ed7953"
            ],
            [
             0.7777777777777778,
             "#fb9f3a"
            ],
            [
             0.8888888888888888,
             "#fdca26"
            ],
            [
             1,
             "#f0f921"
            ]
           ],
           "sequentialminus": [
            [
             0,
             "#0d0887"
            ],
            [
             0.1111111111111111,
             "#46039f"
            ],
            [
             0.2222222222222222,
             "#7201a8"
            ],
            [
             0.3333333333333333,
             "#9c179e"
            ],
            [
             0.4444444444444444,
             "#bd3786"
            ],
            [
             0.5555555555555556,
             "#d8576b"
            ],
            [
             0.6666666666666666,
             "#ed7953"
            ],
            [
             0.7777777777777778,
             "#fb9f3a"
            ],
            [
             0.8888888888888888,
             "#fdca26"
            ],
            [
             1,
             "#f0f921"
            ]
           ]
          },
          "colorway": [
           "#636efa",
           "#EF553B",
           "#00cc96",
           "#ab63fa",
           "#FFA15A",
           "#19d3f3",
           "#FF6692",
           "#B6E880",
           "#FF97FF",
           "#FECB52"
          ],
          "font": {
           "color": "#2a3f5f"
          },
          "geo": {
           "bgcolor": "white",
           "lakecolor": "white",
           "landcolor": "#E5ECF6",
           "showlakes": true,
           "showland": true,
           "subunitcolor": "white"
          },
          "hoverlabel": {
           "align": "left"
          },
          "hovermode": "closest",
          "mapbox": {
           "style": "light"
          },
          "paper_bgcolor": "white",
          "plot_bgcolor": "#E5ECF6",
          "polar": {
           "angularaxis": {
            "gridcolor": "white",
            "linecolor": "white",
            "ticks": ""
           },
           "bgcolor": "#E5ECF6",
           "radialaxis": {
            "gridcolor": "white",
            "linecolor": "white",
            "ticks": ""
           }
          },
          "scene": {
           "xaxis": {
            "backgroundcolor": "#E5ECF6",
            "gridcolor": "white",
            "gridwidth": 2,
            "linecolor": "white",
            "showbackground": true,
            "ticks": "",
            "zerolinecolor": "white"
           },
           "yaxis": {
            "backgroundcolor": "#E5ECF6",
            "gridcolor": "white",
            "gridwidth": 2,
            "linecolor": "white",
            "showbackground": true,
            "ticks": "",
            "zerolinecolor": "white"
           },
           "zaxis": {
            "backgroundcolor": "#E5ECF6",
            "gridcolor": "white",
            "gridwidth": 2,
            "linecolor": "white",
            "showbackground": true,
            "ticks": "",
            "zerolinecolor": "white"
           }
          },
          "shapedefaults": {
           "line": {
            "color": "#2a3f5f"
           }
          },
          "ternary": {
           "aaxis": {
            "gridcolor": "white",
            "linecolor": "white",
            "ticks": ""
           },
           "baxis": {
            "gridcolor": "white",
            "linecolor": "white",
            "ticks": ""
           },
           "bgcolor": "#E5ECF6",
           "caxis": {
            "gridcolor": "white",
            "linecolor": "white",
            "ticks": ""
           }
          },
          "title": {
           "x": 0.05
          },
          "xaxis": {
           "automargin": true,
           "gridcolor": "white",
           "linecolor": "white",
           "ticks": "",
           "title": {
            "standoff": 15
           },
           "zerolinecolor": "white",
           "zerolinewidth": 2
          },
          "yaxis": {
           "automargin": true,
           "gridcolor": "white",
           "linecolor": "white",
           "ticks": "",
           "title": {
            "standoff": 15
           },
           "zerolinecolor": "white",
           "zerolinewidth": 2
          }
         }
        },
        "title": {
         "text": "Required vs Allocated Bandwidth"
        },
        "xaxis": {
         "anchor": "y",
         "domain": [
          0,
          1
         ],
         "tickangle": 90,
         "title": {
          "text": "Required Bandwidth (Mbps)"
         }
        },
        "yaxis": {
         "anchor": "x",
         "domain": [
          0,
          1
         ],
         "title": {
          "text": "Allocated Bandwidth (Mbps)"
         }
        }
       }
      }
     },
     "metadata": {},
     "output_type": "display_data"
    }
   ],
   "source": [
    "# Relationship between required bandwidth and allocated bandwidth\n",
    "\n",
    "fig = px.scatter(df, x='Required Bandwidth', y='Allocated Bandwidth', color='Application Type', title='Required vs Allocated Bandwidth')\n",
    "fig.update_layout(\n",
    "    xaxis_title='Required Bandwidth (Mbps)',\n",
    "    yaxis_title='Allocated Bandwidth (Mbps)'\n",
    ")\n",
    "fig.update_xaxes(tickangle=90)\n",
    "fig.show()"
   ]
  },
  {
   "cell_type": "code",
   "execution_count": 37,
   "id": "d2d99264",
   "metadata": {},
   "outputs": [
    {
     "data": {
      "application/vnd.plotly.v1+json": {
       "config": {
        "plotlyServerURL": "https://plot.ly"
       },
       "data": [
        {
         "hovertemplate": "Application Type=Video Call<br>Signal Strength=%{x}<br>Latency=%{y}<extra></extra>",
         "legendgroup": "Video Call",
         "marker": {
          "color": "#636efa",
          "symbol": "circle"
         },
         "mode": "markers",
         "name": "Video Call",
         "orientation": "v",
         "showlegend": true,
         "type": "scatter",
         "x": [
          -75,
          -76,
          -74,
          -77,
          -73,
          -78,
          -72,
          -79,
          -71,
          -80,
          -70,
          -81,
          -69,
          -82,
          -68,
          -83,
          -67,
          -84,
          -66,
          -67,
          -83,
          -68,
          -67,
          -85,
          -66,
          -67,
          -68,
          -66,
          -65,
          -64,
          -63,
          -63,
          -62,
          -61,
          -60,
          -59,
          -58,
          -57,
          -56,
          -55,
          -54,
          -53,
          -52,
          -51,
          -50,
          -49,
          -48,
          -47,
          -46,
          -45,
          -45,
          -44,
          -43,
          -43,
          -42,
          -41,
          -41,
          -40
         ],
         "xaxis": "x",
         "y": [
          30,
          32,
          29,
          31,
          28,
          30,
          27,
          29,
          26,
          30,
          27,
          29,
          26,
          28,
          25,
          27,
          24,
          26,
          23,
          24,
          27,
          25,
          24,
          19,
          26,
          27,
          28,
          25,
          24,
          25,
          26,
          27,
          28,
          29,
          30,
          31,
          32,
          33,
          34,
          35,
          36,
          37,
          38,
          39,
          40,
          41,
          42,
          43,
          44,
          45,
          46,
          47,
          48,
          49,
          50,
          51,
          52,
          53
         ],
         "yaxis": "y"
        },
        {
         "hovertemplate": "Application Type=Voice Call<br>Signal Strength=%{x}<br>Latency=%{y}<extra></extra>",
         "legendgroup": "Voice Call",
         "marker": {
          "color": "#EF553B",
          "symbol": "circle"
         },
         "mode": "markers",
         "name": "Voice Call",
         "orientation": "v",
         "showlegend": true,
         "type": "scatter",
         "x": [
          -80
         ],
         "xaxis": "x",
         "y": [
          20
         ],
         "yaxis": "y"
        },
        {
         "hovertemplate": "Application Type=Streaming<br>Signal Strength=%{x}<br>Latency=%{y}<extra></extra>",
         "legendgroup": "Streaming",
         "marker": {
          "color": "#00cc96",
          "symbol": "circle"
         },
         "mode": "markers",
         "name": "Streaming",
         "orientation": "v",
         "showlegend": true,
         "type": "scatter",
         "x": [
          -85,
          -84,
          -83,
          -82,
          -81,
          -80,
          -79,
          -78,
          -77,
          -76,
          -77,
          -76,
          -77,
          -75,
          -78,
          -79,
          -80,
          -81,
          -82,
          -83,
          -84,
          -85,
          -86,
          -87,
          -88,
          -89,
          -90,
          -91,
          -92,
          -93,
          -94,
          -95,
          -96,
          -97,
          -98,
          -99,
          -100,
          -101,
          -102,
          -103,
          -104,
          -105,
          -106,
          -107,
          -108,
          -109,
          -110
         ],
         "xaxis": "x",
         "y": [
          40,
          38,
          37,
          36,
          35,
          35,
          34,
          33,
          32,
          31,
          32,
          31,
          32,
          30,
          32,
          33,
          31,
          32,
          33,
          34,
          35,
          36,
          37,
          38,
          39,
          40,
          41,
          42,
          43,
          44,
          45,
          46,
          47,
          48,
          49,
          50,
          51,
          52,
          53,
          54,
          55,
          56,
          57,
          58,
          59,
          60,
          61
         ],
         "yaxis": "y"
        },
        {
         "hovertemplate": "Application Type=Emergency Service<br>Signal Strength=%{x}<br>Latency=%{y}<extra></extra>",
         "legendgroup": "Emergency Service",
         "marker": {
          "color": "#ab63fa",
          "symbol": "circle"
         },
         "mode": "markers",
         "name": "Emergency Service",
         "orientation": "v",
         "showlegend": true,
         "type": "scatter",
         "x": [
          -70,
          -69,
          -68,
          -67,
          -66,
          -65,
          -64,
          -63,
          -62,
          -61,
          -62,
          -61,
          -62,
          -60,
          -59,
          -58,
          -58,
          -57,
          -57,
          -56,
          -55,
          -54,
          -54,
          -53,
          -53,
          -52,
          -52,
          -51,
          -50,
          -50,
          -49,
          -49,
          -48,
          -48,
          -47,
          -47,
          -46,
          -46,
          -45,
          -44,
          -44,
          -43,
          -42,
          -42,
          -41,
          -40,
          -40
         ],
         "xaxis": "x",
         "y": [
          10,
          9,
          8,
          7,
          7,
          8,
          7,
          6,
          6,
          6,
          6,
          6,
          6,
          5,
          5,
          5,
          5,
          5,
          5,
          5,
          5,
          5,
          5,
          5,
          5,
          5,
          5,
          5,
          5,
          5,
          5,
          5,
          5,
          5,
          5,
          5,
          5,
          5,
          5,
          5,
          5,
          5,
          5,
          5,
          5,
          5,
          5
         ],
         "yaxis": "y"
        },
        {
         "hovertemplate": "Application Type=Online Gaming<br>Signal Strength=%{x}<br>Latency=%{y}<extra></extra>",
         "legendgroup": "Online Gaming",
         "marker": {
          "color": "#FFA15A",
          "symbol": "circle"
         },
         "mode": "markers",
         "name": "Online Gaming",
         "orientation": "v",
         "showlegend": true,
         "type": "scatter",
         "x": [
          -78,
          -79,
          -80,
          -79,
          -78,
          -77,
          -76,
          -75,
          -74,
          -73,
          -74,
          -72,
          -74,
          -72,
          -71,
          -70,
          -69,
          -68,
          -67,
          -66,
          -65,
          -64,
          -63,
          -62,
          -61,
          -60,
          -59,
          -58,
          -57,
          -56,
          -55,
          -54,
          -53,
          -52,
          -51,
          -50,
          -49,
          -48,
          -47,
          -46,
          -45,
          -44,
          -43,
          -42,
          -41
         ],
         "xaxis": "x",
         "y": [
          25,
          24,
          23,
          24,
          25,
          24,
          23,
          22,
          21,
          20,
          22,
          21,
          22,
          20,
          19,
          18,
          19,
          20,
          21,
          22,
          23,
          24,
          25,
          26,
          27,
          28,
          29,
          30,
          31,
          32,
          33,
          34,
          35,
          36,
          37,
          38,
          39,
          40,
          41,
          42,
          43,
          44,
          45,
          46,
          47
         ],
         "yaxis": "y"
        },
        {
         "hovertemplate": "Application Type=Background Download<br>Signal Strength=%{x}<br>Latency=%{y}<extra></extra>",
         "legendgroup": "Background Download",
         "marker": {
          "color": "#19d3f3",
          "symbol": "circle"
         },
         "mode": "markers",
         "name": "Background Download",
         "orientation": "v",
         "showlegend": true,
         "type": "scatter",
         "x": [
          -90,
          -91,
          -92,
          -93,
          -94,
          -95,
          -96,
          -97,
          -98,
          -99,
          -97,
          -98,
          -97,
          -99,
          -96,
          -95,
          -94,
          -97,
          -98,
          -98,
          -99,
          -100,
          -100,
          -101,
          -102,
          -102,
          -103,
          -104,
          -105,
          -106,
          -107,
          -108,
          -109,
          -110,
          -111,
          -112,
          -113,
          -114,
          -115,
          -116,
          -117,
          -118,
          -119,
          -120,
          -121,
          -122,
          -123
         ],
         "xaxis": "x",
         "y": [
          50,
          48,
          47,
          46,
          45,
          46,
          45,
          44,
          43,
          42,
          44,
          43,
          44,
          46,
          45,
          47,
          48,
          49,
          50,
          51,
          52,
          53,
          54,
          55,
          56,
          57,
          58,
          59,
          60,
          61,
          62,
          63,
          64,
          65,
          66,
          67,
          68,
          69,
          70,
          71,
          72,
          73,
          74,
          75,
          76,
          77,
          78
         ],
         "yaxis": "y"
        },
        {
         "hovertemplate": "Application Type=Web Browsing<br>Signal Strength=%{x}<br>Latency=%{y}<extra></extra>",
         "legendgroup": "Web Browsing",
         "marker": {
          "color": "#FF6692",
          "symbol": "circle"
         },
         "mode": "markers",
         "name": "Web Browsing",
         "orientation": "v",
         "showlegend": true,
         "type": "scatter",
         "x": [
          -88,
          -87,
          -86,
          -88,
          -87,
          -89,
          -90,
          -91,
          -92,
          -93,
          -92,
          -94,
          -92,
          -85,
          -94,
          -95,
          -96,
          -97,
          -97,
          -98,
          -98,
          -99,
          -100,
          -101,
          -101,
          -102,
          -102,
          -103,
          -103,
          -104,
          -104,
          -105,
          -105,
          -105,
          -106,
          -106,
          -107,
          -107,
          -108,
          -108,
          -109,
          -109,
          -110,
          -110,
          -111,
          -111,
          -112,
          -113
         ],
         "xaxis": "x",
         "y": [
          30,
          28,
          29,
          27,
          28,
          27,
          26,
          25,
          24,
          23,
          25,
          24,
          25,
          28,
          27,
          26,
          25,
          24,
          23,
          22,
          21,
          20,
          19,
          18,
          17,
          16,
          15,
          14,
          13,
          12,
          11,
          10,
          9,
          8,
          7,
          6,
          5,
          4,
          3,
          2,
          1,
          0,
          0,
          0,
          0,
          0,
          0,
          0
         ],
         "yaxis": "y"
        },
        {
         "hovertemplate": "Application Type=IoT Temperature<br>Signal Strength=%{x}<br>Latency=%{y}<extra></extra>",
         "legendgroup": "IoT Temperature",
         "marker": {
          "color": "#B6E880",
          "symbol": "circle"
         },
         "mode": "markers",
         "name": "IoT Temperature",
         "orientation": "v",
         "showlegend": true,
         "type": "scatter",
         "x": [
          -95,
          -96,
          -97,
          -98,
          -99,
          -100,
          -101,
          -102,
          -103,
          -104,
          -103,
          -102,
          -103
         ],
         "xaxis": "x",
         "y": [
          100,
          105,
          110,
          105,
          104,
          103,
          102,
          101,
          100,
          99,
          100,
          99,
          100
         ],
         "yaxis": "y"
        },
        {
         "hovertemplate": "Application Type=Video Streaming<br>Signal Strength=%{x}<br>Latency=%{y}<extra></extra>",
         "legendgroup": "Video Streaming",
         "marker": {
          "color": "#FF97FF",
          "symbol": "circle"
         },
         "mode": "markers",
         "name": "Video Streaming",
         "orientation": "v",
         "showlegend": true,
         "type": "scatter",
         "x": [
          -82,
          -83,
          -84,
          -85,
          -86,
          -87,
          -88,
          -89,
          -90,
          -91,
          -90,
          -89,
          -90,
          -80,
          -81,
          -82,
          -83,
          -84,
          -85,
          -86,
          -87,
          -88,
          -89,
          -90,
          -91,
          -92,
          -93,
          -94,
          -95,
          -96,
          -97,
          -98,
          -99,
          -100,
          -101,
          -102,
          -103,
          -104,
          -105,
          -106,
          -107,
          -108,
          -109,
          -110,
          -111,
          -112,
          -113
         ],
         "xaxis": "x",
         "y": [
          35,
          34,
          33,
          32,
          31,
          32,
          31,
          30,
          29,
          28,
          29,
          30,
          29,
          29,
          28,
          30,
          31,
          30,
          29,
          31,
          32,
          33,
          34,
          35,
          36,
          37,
          38,
          39,
          40,
          41,
          42,
          43,
          44,
          45,
          46,
          47,
          48,
          49,
          50,
          51,
          52,
          53,
          54,
          55,
          56,
          57,
          58
         ],
         "yaxis": "y"
        },
        {
         "hovertemplate": "Application Type=File Download<br>Signal Strength=%{x}<br>Latency=%{y}<extra></extra>",
         "legendgroup": "File Download",
         "marker": {
          "color": "#FECB52",
          "symbol": "circle"
         },
         "mode": "markers",
         "name": "File Download",
         "orientation": "v",
         "showlegend": true,
         "type": "scatter",
         "x": [
          -75
         ],
         "xaxis": "x",
         "y": [
          45
         ],
         "yaxis": "y"
        },
        {
         "hovertemplate": "Application Type=VoIP Call<br>Signal Strength=%{x}<br>Latency=%{y}<extra></extra>",
         "legendgroup": "VoIP Call",
         "marker": {
          "color": "#636efa",
          "symbol": "circle"
         },
         "mode": "markers",
         "name": "VoIP Call",
         "orientation": "v",
         "showlegend": true,
         "type": "scatter",
         "x": [
          -81,
          -82,
          -83,
          -84,
          -85,
          -86,
          -87,
          -88,
          -89,
          -86,
          -85,
          -88,
          -86,
          -88,
          -87,
          -86,
          -85,
          -84,
          -83,
          -82,
          -81,
          -80,
          -79,
          -78,
          -77,
          -76,
          -75,
          -74,
          -73,
          -72,
          -71,
          -70,
          -69,
          -68,
          -67,
          -66,
          -65,
          -64,
          -63,
          -62,
          -61,
          -60,
          -59,
          -58,
          -57,
          -56
         ],
         "xaxis": "x",
         "y": [
          22,
          21,
          20,
          20,
          21,
          20,
          19,
          18,
          17,
          18,
          19,
          18,
          19,
          20,
          21,
          22,
          23,
          24,
          25,
          26,
          27,
          28,
          29,
          30,
          31,
          32,
          33,
          34,
          35,
          36,
          37,
          38,
          39,
          40,
          41,
          42,
          43,
          44,
          45,
          46,
          47,
          48,
          49,
          50,
          51,
          52
         ],
         "yaxis": "y"
        }
       ],
       "layout": {
        "legend": {
         "title": {
          "text": "Application Type"
         },
         "tracegroupgap": 0
        },
        "template": {
         "data": {
          "bar": [
           {
            "error_x": {
             "color": "#2a3f5f"
            },
            "error_y": {
             "color": "#2a3f5f"
            },
            "marker": {
             "line": {
              "color": "#E5ECF6",
              "width": 0.5
             },
             "pattern": {
              "fillmode": "overlay",
              "size": 10,
              "solidity": 0.2
             }
            },
            "type": "bar"
           }
          ],
          "barpolar": [
           {
            "marker": {
             "line": {
              "color": "#E5ECF6",
              "width": 0.5
             },
             "pattern": {
              "fillmode": "overlay",
              "size": 10,
              "solidity": 0.2
             }
            },
            "type": "barpolar"
           }
          ],
          "carpet": [
           {
            "aaxis": {
             "endlinecolor": "#2a3f5f",
             "gridcolor": "white",
             "linecolor": "white",
             "minorgridcolor": "white",
             "startlinecolor": "#2a3f5f"
            },
            "baxis": {
             "endlinecolor": "#2a3f5f",
             "gridcolor": "white",
             "linecolor": "white",
             "minorgridcolor": "white",
             "startlinecolor": "#2a3f5f"
            },
            "type": "carpet"
           }
          ],
          "choropleth": [
           {
            "colorbar": {
             "outlinewidth": 0,
             "ticks": ""
            },
            "type": "choropleth"
           }
          ],
          "contour": [
           {
            "colorbar": {
             "outlinewidth": 0,
             "ticks": ""
            },
            "colorscale": [
             [
              0,
              "#0d0887"
             ],
             [
              0.1111111111111111,
              "#46039f"
             ],
             [
              0.2222222222222222,
              "#7201a8"
             ],
             [
              0.3333333333333333,
              "#9c179e"
             ],
             [
              0.4444444444444444,
              "#bd3786"
             ],
             [
              0.5555555555555556,
              "#d8576b"
             ],
             [
              0.6666666666666666,
              "#ed7953"
             ],
             [
              0.7777777777777778,
              "#fb9f3a"
             ],
             [
              0.8888888888888888,
              "#fdca26"
             ],
             [
              1,
              "#f0f921"
             ]
            ],
            "type": "contour"
           }
          ],
          "contourcarpet": [
           {
            "colorbar": {
             "outlinewidth": 0,
             "ticks": ""
            },
            "type": "contourcarpet"
           }
          ],
          "heatmap": [
           {
            "colorbar": {
             "outlinewidth": 0,
             "ticks": ""
            },
            "colorscale": [
             [
              0,
              "#0d0887"
             ],
             [
              0.1111111111111111,
              "#46039f"
             ],
             [
              0.2222222222222222,
              "#7201a8"
             ],
             [
              0.3333333333333333,
              "#9c179e"
             ],
             [
              0.4444444444444444,
              "#bd3786"
             ],
             [
              0.5555555555555556,
              "#d8576b"
             ],
             [
              0.6666666666666666,
              "#ed7953"
             ],
             [
              0.7777777777777778,
              "#fb9f3a"
             ],
             [
              0.8888888888888888,
              "#fdca26"
             ],
             [
              1,
              "#f0f921"
             ]
            ],
            "type": "heatmap"
           }
          ],
          "heatmapgl": [
           {
            "colorbar": {
             "outlinewidth": 0,
             "ticks": ""
            },
            "colorscale": [
             [
              0,
              "#0d0887"
             ],
             [
              0.1111111111111111,
              "#46039f"
             ],
             [
              0.2222222222222222,
              "#7201a8"
             ],
             [
              0.3333333333333333,
              "#9c179e"
             ],
             [
              0.4444444444444444,
              "#bd3786"
             ],
             [
              0.5555555555555556,
              "#d8576b"
             ],
             [
              0.6666666666666666,
              "#ed7953"
             ],
             [
              0.7777777777777778,
              "#fb9f3a"
             ],
             [
              0.8888888888888888,
              "#fdca26"
             ],
             [
              1,
              "#f0f921"
             ]
            ],
            "type": "heatmapgl"
           }
          ],
          "histogram": [
           {
            "marker": {
             "pattern": {
              "fillmode": "overlay",
              "size": 10,
              "solidity": 0.2
             }
            },
            "type": "histogram"
           }
          ],
          "histogram2d": [
           {
            "colorbar": {
             "outlinewidth": 0,
             "ticks": ""
            },
            "colorscale": [
             [
              0,
              "#0d0887"
             ],
             [
              0.1111111111111111,
              "#46039f"
             ],
             [
              0.2222222222222222,
              "#7201a8"
             ],
             [
              0.3333333333333333,
              "#9c179e"
             ],
             [
              0.4444444444444444,
              "#bd3786"
             ],
             [
              0.5555555555555556,
              "#d8576b"
             ],
             [
              0.6666666666666666,
              "#ed7953"
             ],
             [
              0.7777777777777778,
              "#fb9f3a"
             ],
             [
              0.8888888888888888,
              "#fdca26"
             ],
             [
              1,
              "#f0f921"
             ]
            ],
            "type": "histogram2d"
           }
          ],
          "histogram2dcontour": [
           {
            "colorbar": {
             "outlinewidth": 0,
             "ticks": ""
            },
            "colorscale": [
             [
              0,
              "#0d0887"
             ],
             [
              0.1111111111111111,
              "#46039f"
             ],
             [
              0.2222222222222222,
              "#7201a8"
             ],
             [
              0.3333333333333333,
              "#9c179e"
             ],
             [
              0.4444444444444444,
              "#bd3786"
             ],
             [
              0.5555555555555556,
              "#d8576b"
             ],
             [
              0.6666666666666666,
              "#ed7953"
             ],
             [
              0.7777777777777778,
              "#fb9f3a"
             ],
             [
              0.8888888888888888,
              "#fdca26"
             ],
             [
              1,
              "#f0f921"
             ]
            ],
            "type": "histogram2dcontour"
           }
          ],
          "mesh3d": [
           {
            "colorbar": {
             "outlinewidth": 0,
             "ticks": ""
            },
            "type": "mesh3d"
           }
          ],
          "parcoords": [
           {
            "line": {
             "colorbar": {
              "outlinewidth": 0,
              "ticks": ""
             }
            },
            "type": "parcoords"
           }
          ],
          "pie": [
           {
            "automargin": true,
            "type": "pie"
           }
          ],
          "scatter": [
           {
            "fillpattern": {
             "fillmode": "overlay",
             "size": 10,
             "solidity": 0.2
            },
            "type": "scatter"
           }
          ],
          "scatter3d": [
           {
            "line": {
             "colorbar": {
              "outlinewidth": 0,
              "ticks": ""
             }
            },
            "marker": {
             "colorbar": {
              "outlinewidth": 0,
              "ticks": ""
             }
            },
            "type": "scatter3d"
           }
          ],
          "scattercarpet": [
           {
            "marker": {
             "colorbar": {
              "outlinewidth": 0,
              "ticks": ""
             }
            },
            "type": "scattercarpet"
           }
          ],
          "scattergeo": [
           {
            "marker": {
             "colorbar": {
              "outlinewidth": 0,
              "ticks": ""
             }
            },
            "type": "scattergeo"
           }
          ],
          "scattergl": [
           {
            "marker": {
             "colorbar": {
              "outlinewidth": 0,
              "ticks": ""
             }
            },
            "type": "scattergl"
           }
          ],
          "scattermapbox": [
           {
            "marker": {
             "colorbar": {
              "outlinewidth": 0,
              "ticks": ""
             }
            },
            "type": "scattermapbox"
           }
          ],
          "scatterpolar": [
           {
            "marker": {
             "colorbar": {
              "outlinewidth": 0,
              "ticks": ""
             }
            },
            "type": "scatterpolar"
           }
          ],
          "scatterpolargl": [
           {
            "marker": {
             "colorbar": {
              "outlinewidth": 0,
              "ticks": ""
             }
            },
            "type": "scatterpolargl"
           }
          ],
          "scatterternary": [
           {
            "marker": {
             "colorbar": {
              "outlinewidth": 0,
              "ticks": ""
             }
            },
            "type": "scatterternary"
           }
          ],
          "surface": [
           {
            "colorbar": {
             "outlinewidth": 0,
             "ticks": ""
            },
            "colorscale": [
             [
              0,
              "#0d0887"
             ],
             [
              0.1111111111111111,
              "#46039f"
             ],
             [
              0.2222222222222222,
              "#7201a8"
             ],
             [
              0.3333333333333333,
              "#9c179e"
             ],
             [
              0.4444444444444444,
              "#bd3786"
             ],
             [
              0.5555555555555556,
              "#d8576b"
             ],
             [
              0.6666666666666666,
              "#ed7953"
             ],
             [
              0.7777777777777778,
              "#fb9f3a"
             ],
             [
              0.8888888888888888,
              "#fdca26"
             ],
             [
              1,
              "#f0f921"
             ]
            ],
            "type": "surface"
           }
          ],
          "table": [
           {
            "cells": {
             "fill": {
              "color": "#EBF0F8"
             },
             "line": {
              "color": "white"
             }
            },
            "header": {
             "fill": {
              "color": "#C8D4E3"
             },
             "line": {
              "color": "white"
             }
            },
            "type": "table"
           }
          ]
         },
         "layout": {
          "annotationdefaults": {
           "arrowcolor": "#2a3f5f",
           "arrowhead": 0,
           "arrowwidth": 1
          },
          "autotypenumbers": "strict",
          "coloraxis": {
           "colorbar": {
            "outlinewidth": 0,
            "ticks": ""
           }
          },
          "colorscale": {
           "diverging": [
            [
             0,
             "#8e0152"
            ],
            [
             0.1,
             "#c51b7d"
            ],
            [
             0.2,
             "#de77ae"
            ],
            [
             0.3,
             "#f1b6da"
            ],
            [
             0.4,
             "#fde0ef"
            ],
            [
             0.5,
             "#f7f7f7"
            ],
            [
             0.6,
             "#e6f5d0"
            ],
            [
             0.7,
             "#b8e186"
            ],
            [
             0.8,
             "#7fbc41"
            ],
            [
             0.9,
             "#4d9221"
            ],
            [
             1,
             "#276419"
            ]
           ],
           "sequential": [
            [
             0,
             "#0d0887"
            ],
            [
             0.1111111111111111,
             "#46039f"
            ],
            [
             0.2222222222222222,
             "#7201a8"
            ],
            [
             0.3333333333333333,
             "#9c179e"
            ],
            [
             0.4444444444444444,
             "#bd3786"
            ],
            [
             0.5555555555555556,
             "#d8576b"
            ],
            [
             0.6666666666666666,
             "#ed7953"
            ],
            [
             0.7777777777777778,
             "#fb9f3a"
            ],
            [
             0.8888888888888888,
             "#fdca26"
            ],
            [
             1,
             "#f0f921"
            ]
           ],
           "sequentialminus": [
            [
             0,
             "#0d0887"
            ],
            [
             0.1111111111111111,
             "#46039f"
            ],
            [
             0.2222222222222222,
             "#7201a8"
            ],
            [
             0.3333333333333333,
             "#9c179e"
            ],
            [
             0.4444444444444444,
             "#bd3786"
            ],
            [
             0.5555555555555556,
             "#d8576b"
            ],
            [
             0.6666666666666666,
             "#ed7953"
            ],
            [
             0.7777777777777778,
             "#fb9f3a"
            ],
            [
             0.8888888888888888,
             "#fdca26"
            ],
            [
             1,
             "#f0f921"
            ]
           ]
          },
          "colorway": [
           "#636efa",
           "#EF553B",
           "#00cc96",
           "#ab63fa",
           "#FFA15A",
           "#19d3f3",
           "#FF6692",
           "#B6E880",
           "#FF97FF",
           "#FECB52"
          ],
          "font": {
           "color": "#2a3f5f"
          },
          "geo": {
           "bgcolor": "white",
           "lakecolor": "white",
           "landcolor": "#E5ECF6",
           "showlakes": true,
           "showland": true,
           "subunitcolor": "white"
          },
          "hoverlabel": {
           "align": "left"
          },
          "hovermode": "closest",
          "mapbox": {
           "style": "light"
          },
          "paper_bgcolor": "white",
          "plot_bgcolor": "#E5ECF6",
          "polar": {
           "angularaxis": {
            "gridcolor": "white",
            "linecolor": "white",
            "ticks": ""
           },
           "bgcolor": "#E5ECF6",
           "radialaxis": {
            "gridcolor": "white",
            "linecolor": "white",
            "ticks": ""
           }
          },
          "scene": {
           "xaxis": {
            "backgroundcolor": "#E5ECF6",
            "gridcolor": "white",
            "gridwidth": 2,
            "linecolor": "white",
            "showbackground": true,
            "ticks": "",
            "zerolinecolor": "white"
           },
           "yaxis": {
            "backgroundcolor": "#E5ECF6",
            "gridcolor": "white",
            "gridwidth": 2,
            "linecolor": "white",
            "showbackground": true,
            "ticks": "",
            "zerolinecolor": "white"
           },
           "zaxis": {
            "backgroundcolor": "#E5ECF6",
            "gridcolor": "white",
            "gridwidth": 2,
            "linecolor": "white",
            "showbackground": true,
            "ticks": "",
            "zerolinecolor": "white"
           }
          },
          "shapedefaults": {
           "line": {
            "color": "#2a3f5f"
           }
          },
          "ternary": {
           "aaxis": {
            "gridcolor": "white",
            "linecolor": "white",
            "ticks": ""
           },
           "baxis": {
            "gridcolor": "white",
            "linecolor": "white",
            "ticks": ""
           },
           "bgcolor": "#E5ECF6",
           "caxis": {
            "gridcolor": "white",
            "linecolor": "white",
            "ticks": ""
           }
          },
          "title": {
           "x": 0.05
          },
          "xaxis": {
           "automargin": true,
           "gridcolor": "white",
           "linecolor": "white",
           "ticks": "",
           "title": {
            "standoff": 15
           },
           "zerolinecolor": "white",
           "zerolinewidth": 2
          },
          "yaxis": {
           "automargin": true,
           "gridcolor": "white",
           "linecolor": "white",
           "ticks": "",
           "title": {
            "standoff": 15
           },
           "zerolinecolor": "white",
           "zerolinewidth": 2
          }
         }
        },
        "title": {
         "text": "Signal Strength vs Latency"
        },
        "xaxis": {
         "anchor": "y",
         "domain": [
          0,
          1
         ],
         "title": {
          "text": "Signal Strength (dBm)"
         }
        },
        "yaxis": {
         "anchor": "x",
         "domain": [
          0,
          1
         ],
         "title": {
          "text": "Latency (ms)"
         }
        }
       }
      }
     },
     "metadata": {},
     "output_type": "display_data"
    }
   ],
   "source": [
    "fig = px.scatter(df, x = 'Signal Strength', y = 'Latency', color='Application Type', title='Signal Strength vs Latency')\n",
    "fig.update_layout(\n",
    "    xaxis_title='Signal Strength (dBm)',\n",
    "    yaxis_title='Latency (ms)'\n",
    ")\n",
    "fig.show()"
   ]
  },
  {
   "cell_type": "code",
   "execution_count": 34,
   "id": "bff7555c",
   "metadata": {},
   "outputs": [
    {
     "data": {
      "application/vnd.plotly.v1+json": {
       "config": {
        "plotlyServerURL": "https://plot.ly"
       },
       "data": [
        {
         "alignmentgroup": "True",
         "hovertemplate": "Application Type=%{x}<br>Latency=%{y}<extra></extra>",
         "legendgroup": "Video Call",
         "marker": {
          "color": "#636efa"
         },
         "name": "Video Call",
         "notched": false,
         "offsetgroup": "Video Call",
         "orientation": "v",
         "showlegend": true,
         "type": "box",
         "x": [
          "Video Call",
          "Video Call",
          "Video Call",
          "Video Call",
          "Video Call",
          "Video Call",
          "Video Call",
          "Video Call",
          "Video Call",
          "Video Call",
          "Video Call",
          "Video Call",
          "Video Call",
          "Video Call",
          "Video Call",
          "Video Call",
          "Video Call",
          "Video Call",
          "Video Call",
          "Video Call",
          "Video Call",
          "Video Call",
          "Video Call",
          "Video Call",
          "Video Call",
          "Video Call",
          "Video Call",
          "Video Call",
          "Video Call",
          "Video Call",
          "Video Call",
          "Video Call",
          "Video Call",
          "Video Call",
          "Video Call",
          "Video Call",
          "Video Call",
          "Video Call",
          "Video Call",
          "Video Call",
          "Video Call",
          "Video Call",
          "Video Call",
          "Video Call",
          "Video Call",
          "Video Call",
          "Video Call",
          "Video Call",
          "Video Call",
          "Video Call",
          "Video Call",
          "Video Call",
          "Video Call",
          "Video Call",
          "Video Call",
          "Video Call",
          "Video Call",
          "Video Call"
         ],
         "x0": " ",
         "xaxis": "x",
         "y": [
          30,
          32,
          29,
          31,
          28,
          30,
          27,
          29,
          26,
          30,
          27,
          29,
          26,
          28,
          25,
          27,
          24,
          26,
          23,
          24,
          27,
          25,
          24,
          19,
          26,
          27,
          28,
          25,
          24,
          25,
          26,
          27,
          28,
          29,
          30,
          31,
          32,
          33,
          34,
          35,
          36,
          37,
          38,
          39,
          40,
          41,
          42,
          43,
          44,
          45,
          46,
          47,
          48,
          49,
          50,
          51,
          52,
          53
         ],
         "y0": " ",
         "yaxis": "y"
        },
        {
         "alignmentgroup": "True",
         "hovertemplate": "Application Type=%{x}<br>Latency=%{y}<extra></extra>",
         "legendgroup": "Voice Call",
         "marker": {
          "color": "#EF553B"
         },
         "name": "Voice Call",
         "notched": false,
         "offsetgroup": "Voice Call",
         "orientation": "v",
         "showlegend": true,
         "type": "box",
         "x": [
          "Voice Call"
         ],
         "x0": " ",
         "xaxis": "x",
         "y": [
          20
         ],
         "y0": " ",
         "yaxis": "y"
        },
        {
         "alignmentgroup": "True",
         "hovertemplate": "Application Type=%{x}<br>Latency=%{y}<extra></extra>",
         "legendgroup": "Streaming",
         "marker": {
          "color": "#00cc96"
         },
         "name": "Streaming",
         "notched": false,
         "offsetgroup": "Streaming",
         "orientation": "v",
         "showlegend": true,
         "type": "box",
         "x": [
          "Streaming",
          "Streaming",
          "Streaming",
          "Streaming",
          "Streaming",
          "Streaming",
          "Streaming",
          "Streaming",
          "Streaming",
          "Streaming",
          "Streaming",
          "Streaming",
          "Streaming",
          "Streaming",
          "Streaming",
          "Streaming",
          "Streaming",
          "Streaming",
          "Streaming",
          "Streaming",
          "Streaming",
          "Streaming",
          "Streaming",
          "Streaming",
          "Streaming",
          "Streaming",
          "Streaming",
          "Streaming",
          "Streaming",
          "Streaming",
          "Streaming",
          "Streaming",
          "Streaming",
          "Streaming",
          "Streaming",
          "Streaming",
          "Streaming",
          "Streaming",
          "Streaming",
          "Streaming",
          "Streaming",
          "Streaming",
          "Streaming",
          "Streaming",
          "Streaming",
          "Streaming",
          "Streaming"
         ],
         "x0": " ",
         "xaxis": "x",
         "y": [
          40,
          38,
          37,
          36,
          35,
          35,
          34,
          33,
          32,
          31,
          32,
          31,
          32,
          30,
          32,
          33,
          31,
          32,
          33,
          34,
          35,
          36,
          37,
          38,
          39,
          40,
          41,
          42,
          43,
          44,
          45,
          46,
          47,
          48,
          49,
          50,
          51,
          52,
          53,
          54,
          55,
          56,
          57,
          58,
          59,
          60,
          61
         ],
         "y0": " ",
         "yaxis": "y"
        },
        {
         "alignmentgroup": "True",
         "hovertemplate": "Application Type=%{x}<br>Latency=%{y}<extra></extra>",
         "legendgroup": "Emergency Service",
         "marker": {
          "color": "#ab63fa"
         },
         "name": "Emergency Service",
         "notched": false,
         "offsetgroup": "Emergency Service",
         "orientation": "v",
         "showlegend": true,
         "type": "box",
         "x": [
          "Emergency Service",
          "Emergency Service",
          "Emergency Service",
          "Emergency Service",
          "Emergency Service",
          "Emergency Service",
          "Emergency Service",
          "Emergency Service",
          "Emergency Service",
          "Emergency Service",
          "Emergency Service",
          "Emergency Service",
          "Emergency Service",
          "Emergency Service",
          "Emergency Service",
          "Emergency Service",
          "Emergency Service",
          "Emergency Service",
          "Emergency Service",
          "Emergency Service",
          "Emergency Service",
          "Emergency Service",
          "Emergency Service",
          "Emergency Service",
          "Emergency Service",
          "Emergency Service",
          "Emergency Service",
          "Emergency Service",
          "Emergency Service",
          "Emergency Service",
          "Emergency Service",
          "Emergency Service",
          "Emergency Service",
          "Emergency Service",
          "Emergency Service",
          "Emergency Service",
          "Emergency Service",
          "Emergency Service",
          "Emergency Service",
          "Emergency Service",
          "Emergency Service",
          "Emergency Service",
          "Emergency Service",
          "Emergency Service",
          "Emergency Service",
          "Emergency Service",
          "Emergency Service"
         ],
         "x0": " ",
         "xaxis": "x",
         "y": [
          10,
          9,
          8,
          7,
          7,
          8,
          7,
          6,
          6,
          6,
          6,
          6,
          6,
          5,
          5,
          5,
          5,
          5,
          5,
          5,
          5,
          5,
          5,
          5,
          5,
          5,
          5,
          5,
          5,
          5,
          5,
          5,
          5,
          5,
          5,
          5,
          5,
          5,
          5,
          5,
          5,
          5,
          5,
          5,
          5,
          5,
          5
         ],
         "y0": " ",
         "yaxis": "y"
        },
        {
         "alignmentgroup": "True",
         "hovertemplate": "Application Type=%{x}<br>Latency=%{y}<extra></extra>",
         "legendgroup": "Online Gaming",
         "marker": {
          "color": "#FFA15A"
         },
         "name": "Online Gaming",
         "notched": false,
         "offsetgroup": "Online Gaming",
         "orientation": "v",
         "showlegend": true,
         "type": "box",
         "x": [
          "Online Gaming",
          "Online Gaming",
          "Online Gaming",
          "Online Gaming",
          "Online Gaming",
          "Online Gaming",
          "Online Gaming",
          "Online Gaming",
          "Online Gaming",
          "Online Gaming",
          "Online Gaming",
          "Online Gaming",
          "Online Gaming",
          "Online Gaming",
          "Online Gaming",
          "Online Gaming",
          "Online Gaming",
          "Online Gaming",
          "Online Gaming",
          "Online Gaming",
          "Online Gaming",
          "Online Gaming",
          "Online Gaming",
          "Online Gaming",
          "Online Gaming",
          "Online Gaming",
          "Online Gaming",
          "Online Gaming",
          "Online Gaming",
          "Online Gaming",
          "Online Gaming",
          "Online Gaming",
          "Online Gaming",
          "Online Gaming",
          "Online Gaming",
          "Online Gaming",
          "Online Gaming",
          "Online Gaming",
          "Online Gaming",
          "Online Gaming",
          "Online Gaming",
          "Online Gaming",
          "Online Gaming",
          "Online Gaming",
          "Online Gaming"
         ],
         "x0": " ",
         "xaxis": "x",
         "y": [
          25,
          24,
          23,
          24,
          25,
          24,
          23,
          22,
          21,
          20,
          22,
          21,
          22,
          20,
          19,
          18,
          19,
          20,
          21,
          22,
          23,
          24,
          25,
          26,
          27,
          28,
          29,
          30,
          31,
          32,
          33,
          34,
          35,
          36,
          37,
          38,
          39,
          40,
          41,
          42,
          43,
          44,
          45,
          46,
          47
         ],
         "y0": " ",
         "yaxis": "y"
        },
        {
         "alignmentgroup": "True",
         "hovertemplate": "Application Type=%{x}<br>Latency=%{y}<extra></extra>",
         "legendgroup": "Background Download",
         "marker": {
          "color": "#19d3f3"
         },
         "name": "Background Download",
         "notched": false,
         "offsetgroup": "Background Download",
         "orientation": "v",
         "showlegend": true,
         "type": "box",
         "x": [
          "Background Download",
          "Background Download",
          "Background Download",
          "Background Download",
          "Background Download",
          "Background Download",
          "Background Download",
          "Background Download",
          "Background Download",
          "Background Download",
          "Background Download",
          "Background Download",
          "Background Download",
          "Background Download",
          "Background Download",
          "Background Download",
          "Background Download",
          "Background Download",
          "Background Download",
          "Background Download",
          "Background Download",
          "Background Download",
          "Background Download",
          "Background Download",
          "Background Download",
          "Background Download",
          "Background Download",
          "Background Download",
          "Background Download",
          "Background Download",
          "Background Download",
          "Background Download",
          "Background Download",
          "Background Download",
          "Background Download",
          "Background Download",
          "Background Download",
          "Background Download",
          "Background Download",
          "Background Download",
          "Background Download",
          "Background Download",
          "Background Download",
          "Background Download",
          "Background Download",
          "Background Download",
          "Background Download"
         ],
         "x0": " ",
         "xaxis": "x",
         "y": [
          50,
          48,
          47,
          46,
          45,
          46,
          45,
          44,
          43,
          42,
          44,
          43,
          44,
          46,
          45,
          47,
          48,
          49,
          50,
          51,
          52,
          53,
          54,
          55,
          56,
          57,
          58,
          59,
          60,
          61,
          62,
          63,
          64,
          65,
          66,
          67,
          68,
          69,
          70,
          71,
          72,
          73,
          74,
          75,
          76,
          77,
          78
         ],
         "y0": " ",
         "yaxis": "y"
        },
        {
         "alignmentgroup": "True",
         "hovertemplate": "Application Type=%{x}<br>Latency=%{y}<extra></extra>",
         "legendgroup": "Web Browsing",
         "marker": {
          "color": "#FF6692"
         },
         "name": "Web Browsing",
         "notched": false,
         "offsetgroup": "Web Browsing",
         "orientation": "v",
         "showlegend": true,
         "type": "box",
         "x": [
          "Web Browsing",
          "Web Browsing",
          "Web Browsing",
          "Web Browsing",
          "Web Browsing",
          "Web Browsing",
          "Web Browsing",
          "Web Browsing",
          "Web Browsing",
          "Web Browsing",
          "Web Browsing",
          "Web Browsing",
          "Web Browsing",
          "Web Browsing",
          "Web Browsing",
          "Web Browsing",
          "Web Browsing",
          "Web Browsing",
          "Web Browsing",
          "Web Browsing",
          "Web Browsing",
          "Web Browsing",
          "Web Browsing",
          "Web Browsing",
          "Web Browsing",
          "Web Browsing",
          "Web Browsing",
          "Web Browsing",
          "Web Browsing",
          "Web Browsing",
          "Web Browsing",
          "Web Browsing",
          "Web Browsing",
          "Web Browsing",
          "Web Browsing",
          "Web Browsing",
          "Web Browsing",
          "Web Browsing",
          "Web Browsing",
          "Web Browsing",
          "Web Browsing",
          "Web Browsing",
          "Web Browsing",
          "Web Browsing",
          "Web Browsing",
          "Web Browsing",
          "Web Browsing",
          "Web Browsing"
         ],
         "x0": " ",
         "xaxis": "x",
         "y": [
          30,
          28,
          29,
          27,
          28,
          27,
          26,
          25,
          24,
          23,
          25,
          24,
          25,
          28,
          27,
          26,
          25,
          24,
          23,
          22,
          21,
          20,
          19,
          18,
          17,
          16,
          15,
          14,
          13,
          12,
          11,
          10,
          9,
          8,
          7,
          6,
          5,
          4,
          3,
          2,
          1,
          0,
          0,
          0,
          0,
          0,
          0,
          0
         ],
         "y0": " ",
         "yaxis": "y"
        },
        {
         "alignmentgroup": "True",
         "hovertemplate": "Application Type=%{x}<br>Latency=%{y}<extra></extra>",
         "legendgroup": "IoT Temperature",
         "marker": {
          "color": "#B6E880"
         },
         "name": "IoT Temperature",
         "notched": false,
         "offsetgroup": "IoT Temperature",
         "orientation": "v",
         "showlegend": true,
         "type": "box",
         "x": [
          "IoT Temperature",
          "IoT Temperature",
          "IoT Temperature",
          "IoT Temperature",
          "IoT Temperature",
          "IoT Temperature",
          "IoT Temperature",
          "IoT Temperature",
          "IoT Temperature",
          "IoT Temperature",
          "IoT Temperature",
          "IoT Temperature",
          "IoT Temperature"
         ],
         "x0": " ",
         "xaxis": "x",
         "y": [
          100,
          105,
          110,
          105,
          104,
          103,
          102,
          101,
          100,
          99,
          100,
          99,
          100
         ],
         "y0": " ",
         "yaxis": "y"
        },
        {
         "alignmentgroup": "True",
         "hovertemplate": "Application Type=%{x}<br>Latency=%{y}<extra></extra>",
         "legendgroup": "Video Streaming",
         "marker": {
          "color": "#FF97FF"
         },
         "name": "Video Streaming",
         "notched": false,
         "offsetgroup": "Video Streaming",
         "orientation": "v",
         "showlegend": true,
         "type": "box",
         "x": [
          "Video Streaming",
          "Video Streaming",
          "Video Streaming",
          "Video Streaming",
          "Video Streaming",
          "Video Streaming",
          "Video Streaming",
          "Video Streaming",
          "Video Streaming",
          "Video Streaming",
          "Video Streaming",
          "Video Streaming",
          "Video Streaming",
          "Video Streaming",
          "Video Streaming",
          "Video Streaming",
          "Video Streaming",
          "Video Streaming",
          "Video Streaming",
          "Video Streaming",
          "Video Streaming",
          "Video Streaming",
          "Video Streaming",
          "Video Streaming",
          "Video Streaming",
          "Video Streaming",
          "Video Streaming",
          "Video Streaming",
          "Video Streaming",
          "Video Streaming",
          "Video Streaming",
          "Video Streaming",
          "Video Streaming",
          "Video Streaming",
          "Video Streaming",
          "Video Streaming",
          "Video Streaming",
          "Video Streaming",
          "Video Streaming",
          "Video Streaming",
          "Video Streaming",
          "Video Streaming",
          "Video Streaming",
          "Video Streaming",
          "Video Streaming",
          "Video Streaming",
          "Video Streaming"
         ],
         "x0": " ",
         "xaxis": "x",
         "y": [
          35,
          34,
          33,
          32,
          31,
          32,
          31,
          30,
          29,
          28,
          29,
          30,
          29,
          29,
          28,
          30,
          31,
          30,
          29,
          31,
          32,
          33,
          34,
          35,
          36,
          37,
          38,
          39,
          40,
          41,
          42,
          43,
          44,
          45,
          46,
          47,
          48,
          49,
          50,
          51,
          52,
          53,
          54,
          55,
          56,
          57,
          58
         ],
         "y0": " ",
         "yaxis": "y"
        },
        {
         "alignmentgroup": "True",
         "hovertemplate": "Application Type=%{x}<br>Latency=%{y}<extra></extra>",
         "legendgroup": "File Download",
         "marker": {
          "color": "#FECB52"
         },
         "name": "File Download",
         "notched": false,
         "offsetgroup": "File Download",
         "orientation": "v",
         "showlegend": true,
         "type": "box",
         "x": [
          "File Download"
         ],
         "x0": " ",
         "xaxis": "x",
         "y": [
          45
         ],
         "y0": " ",
         "yaxis": "y"
        },
        {
         "alignmentgroup": "True",
         "hovertemplate": "Application Type=%{x}<br>Latency=%{y}<extra></extra>",
         "legendgroup": "VoIP Call",
         "marker": {
          "color": "#636efa"
         },
         "name": "VoIP Call",
         "notched": false,
         "offsetgroup": "VoIP Call",
         "orientation": "v",
         "showlegend": true,
         "type": "box",
         "x": [
          "VoIP Call",
          "VoIP Call",
          "VoIP Call",
          "VoIP Call",
          "VoIP Call",
          "VoIP Call",
          "VoIP Call",
          "VoIP Call",
          "VoIP Call",
          "VoIP Call",
          "VoIP Call",
          "VoIP Call",
          "VoIP Call",
          "VoIP Call",
          "VoIP Call",
          "VoIP Call",
          "VoIP Call",
          "VoIP Call",
          "VoIP Call",
          "VoIP Call",
          "VoIP Call",
          "VoIP Call",
          "VoIP Call",
          "VoIP Call",
          "VoIP Call",
          "VoIP Call",
          "VoIP Call",
          "VoIP Call",
          "VoIP Call",
          "VoIP Call",
          "VoIP Call",
          "VoIP Call",
          "VoIP Call",
          "VoIP Call",
          "VoIP Call",
          "VoIP Call",
          "VoIP Call",
          "VoIP Call",
          "VoIP Call",
          "VoIP Call",
          "VoIP Call",
          "VoIP Call",
          "VoIP Call",
          "VoIP Call",
          "VoIP Call",
          "VoIP Call"
         ],
         "x0": " ",
         "xaxis": "x",
         "y": [
          22,
          21,
          20,
          20,
          21,
          20,
          19,
          18,
          17,
          18,
          19,
          18,
          19,
          20,
          21,
          22,
          23,
          24,
          25,
          26,
          27,
          28,
          29,
          30,
          31,
          32,
          33,
          34,
          35,
          36,
          37,
          38,
          39,
          40,
          41,
          42,
          43,
          44,
          45,
          46,
          47,
          48,
          49,
          50,
          51,
          52
         ],
         "y0": " ",
         "yaxis": "y"
        }
       ],
       "layout": {
        "boxmode": "overlay",
        "legend": {
         "title": {
          "text": "Application Type"
         },
         "tracegroupgap": 0
        },
        "template": {
         "data": {
          "bar": [
           {
            "error_x": {
             "color": "#2a3f5f"
            },
            "error_y": {
             "color": "#2a3f5f"
            },
            "marker": {
             "line": {
              "color": "#E5ECF6",
              "width": 0.5
             },
             "pattern": {
              "fillmode": "overlay",
              "size": 10,
              "solidity": 0.2
             }
            },
            "type": "bar"
           }
          ],
          "barpolar": [
           {
            "marker": {
             "line": {
              "color": "#E5ECF6",
              "width": 0.5
             },
             "pattern": {
              "fillmode": "overlay",
              "size": 10,
              "solidity": 0.2
             }
            },
            "type": "barpolar"
           }
          ],
          "carpet": [
           {
            "aaxis": {
             "endlinecolor": "#2a3f5f",
             "gridcolor": "white",
             "linecolor": "white",
             "minorgridcolor": "white",
             "startlinecolor": "#2a3f5f"
            },
            "baxis": {
             "endlinecolor": "#2a3f5f",
             "gridcolor": "white",
             "linecolor": "white",
             "minorgridcolor": "white",
             "startlinecolor": "#2a3f5f"
            },
            "type": "carpet"
           }
          ],
          "choropleth": [
           {
            "colorbar": {
             "outlinewidth": 0,
             "ticks": ""
            },
            "type": "choropleth"
           }
          ],
          "contour": [
           {
            "colorbar": {
             "outlinewidth": 0,
             "ticks": ""
            },
            "colorscale": [
             [
              0,
              "#0d0887"
             ],
             [
              0.1111111111111111,
              "#46039f"
             ],
             [
              0.2222222222222222,
              "#7201a8"
             ],
             [
              0.3333333333333333,
              "#9c179e"
             ],
             [
              0.4444444444444444,
              "#bd3786"
             ],
             [
              0.5555555555555556,
              "#d8576b"
             ],
             [
              0.6666666666666666,
              "#ed7953"
             ],
             [
              0.7777777777777778,
              "#fb9f3a"
             ],
             [
              0.8888888888888888,
              "#fdca26"
             ],
             [
              1,
              "#f0f921"
             ]
            ],
            "type": "contour"
           }
          ],
          "contourcarpet": [
           {
            "colorbar": {
             "outlinewidth": 0,
             "ticks": ""
            },
            "type": "contourcarpet"
           }
          ],
          "heatmap": [
           {
            "colorbar": {
             "outlinewidth": 0,
             "ticks": ""
            },
            "colorscale": [
             [
              0,
              "#0d0887"
             ],
             [
              0.1111111111111111,
              "#46039f"
             ],
             [
              0.2222222222222222,
              "#7201a8"
             ],
             [
              0.3333333333333333,
              "#9c179e"
             ],
             [
              0.4444444444444444,
              "#bd3786"
             ],
             [
              0.5555555555555556,
              "#d8576b"
             ],
             [
              0.6666666666666666,
              "#ed7953"
             ],
             [
              0.7777777777777778,
              "#fb9f3a"
             ],
             [
              0.8888888888888888,
              "#fdca26"
             ],
             [
              1,
              "#f0f921"
             ]
            ],
            "type": "heatmap"
           }
          ],
          "heatmapgl": [
           {
            "colorbar": {
             "outlinewidth": 0,
             "ticks": ""
            },
            "colorscale": [
             [
              0,
              "#0d0887"
             ],
             [
              0.1111111111111111,
              "#46039f"
             ],
             [
              0.2222222222222222,
              "#7201a8"
             ],
             [
              0.3333333333333333,
              "#9c179e"
             ],
             [
              0.4444444444444444,
              "#bd3786"
             ],
             [
              0.5555555555555556,
              "#d8576b"
             ],
             [
              0.6666666666666666,
              "#ed7953"
             ],
             [
              0.7777777777777778,
              "#fb9f3a"
             ],
             [
              0.8888888888888888,
              "#fdca26"
             ],
             [
              1,
              "#f0f921"
             ]
            ],
            "type": "heatmapgl"
           }
          ],
          "histogram": [
           {
            "marker": {
             "pattern": {
              "fillmode": "overlay",
              "size": 10,
              "solidity": 0.2
             }
            },
            "type": "histogram"
           }
          ],
          "histogram2d": [
           {
            "colorbar": {
             "outlinewidth": 0,
             "ticks": ""
            },
            "colorscale": [
             [
              0,
              "#0d0887"
             ],
             [
              0.1111111111111111,
              "#46039f"
             ],
             [
              0.2222222222222222,
              "#7201a8"
             ],
             [
              0.3333333333333333,
              "#9c179e"
             ],
             [
              0.4444444444444444,
              "#bd3786"
             ],
             [
              0.5555555555555556,
              "#d8576b"
             ],
             [
              0.6666666666666666,
              "#ed7953"
             ],
             [
              0.7777777777777778,
              "#fb9f3a"
             ],
             [
              0.8888888888888888,
              "#fdca26"
             ],
             [
              1,
              "#f0f921"
             ]
            ],
            "type": "histogram2d"
           }
          ],
          "histogram2dcontour": [
           {
            "colorbar": {
             "outlinewidth": 0,
             "ticks": ""
            },
            "colorscale": [
             [
              0,
              "#0d0887"
             ],
             [
              0.1111111111111111,
              "#46039f"
             ],
             [
              0.2222222222222222,
              "#7201a8"
             ],
             [
              0.3333333333333333,
              "#9c179e"
             ],
             [
              0.4444444444444444,
              "#bd3786"
             ],
             [
              0.5555555555555556,
              "#d8576b"
             ],
             [
              0.6666666666666666,
              "#ed7953"
             ],
             [
              0.7777777777777778,
              "#fb9f3a"
             ],
             [
              0.8888888888888888,
              "#fdca26"
             ],
             [
              1,
              "#f0f921"
             ]
            ],
            "type": "histogram2dcontour"
           }
          ],
          "mesh3d": [
           {
            "colorbar": {
             "outlinewidth": 0,
             "ticks": ""
            },
            "type": "mesh3d"
           }
          ],
          "parcoords": [
           {
            "line": {
             "colorbar": {
              "outlinewidth": 0,
              "ticks": ""
             }
            },
            "type": "parcoords"
           }
          ],
          "pie": [
           {
            "automargin": true,
            "type": "pie"
           }
          ],
          "scatter": [
           {
            "fillpattern": {
             "fillmode": "overlay",
             "size": 10,
             "solidity": 0.2
            },
            "type": "scatter"
           }
          ],
          "scatter3d": [
           {
            "line": {
             "colorbar": {
              "outlinewidth": 0,
              "ticks": ""
             }
            },
            "marker": {
             "colorbar": {
              "outlinewidth": 0,
              "ticks": ""
             }
            },
            "type": "scatter3d"
           }
          ],
          "scattercarpet": [
           {
            "marker": {
             "colorbar": {
              "outlinewidth": 0,
              "ticks": ""
             }
            },
            "type": "scattercarpet"
           }
          ],
          "scattergeo": [
           {
            "marker": {
             "colorbar": {
              "outlinewidth": 0,
              "ticks": ""
             }
            },
            "type": "scattergeo"
           }
          ],
          "scattergl": [
           {
            "marker": {
             "colorbar": {
              "outlinewidth": 0,
              "ticks": ""
             }
            },
            "type": "scattergl"
           }
          ],
          "scattermapbox": [
           {
            "marker": {
             "colorbar": {
              "outlinewidth": 0,
              "ticks": ""
             }
            },
            "type": "scattermapbox"
           }
          ],
          "scatterpolar": [
           {
            "marker": {
             "colorbar": {
              "outlinewidth": 0,
              "ticks": ""
             }
            },
            "type": "scatterpolar"
           }
          ],
          "scatterpolargl": [
           {
            "marker": {
             "colorbar": {
              "outlinewidth": 0,
              "ticks": ""
             }
            },
            "type": "scatterpolargl"
           }
          ],
          "scatterternary": [
           {
            "marker": {
             "colorbar": {
              "outlinewidth": 0,
              "ticks": ""
             }
            },
            "type": "scatterternary"
           }
          ],
          "surface": [
           {
            "colorbar": {
             "outlinewidth": 0,
             "ticks": ""
            },
            "colorscale": [
             [
              0,
              "#0d0887"
             ],
             [
              0.1111111111111111,
              "#46039f"
             ],
             [
              0.2222222222222222,
              "#7201a8"
             ],
             [
              0.3333333333333333,
              "#9c179e"
             ],
             [
              0.4444444444444444,
              "#bd3786"
             ],
             [
              0.5555555555555556,
              "#d8576b"
             ],
             [
              0.6666666666666666,
              "#ed7953"
             ],
             [
              0.7777777777777778,
              "#fb9f3a"
             ],
             [
              0.8888888888888888,
              "#fdca26"
             ],
             [
              1,
              "#f0f921"
             ]
            ],
            "type": "surface"
           }
          ],
          "table": [
           {
            "cells": {
             "fill": {
              "color": "#EBF0F8"
             },
             "line": {
              "color": "white"
             }
            },
            "header": {
             "fill": {
              "color": "#C8D4E3"
             },
             "line": {
              "color": "white"
             }
            },
            "type": "table"
           }
          ]
         },
         "layout": {
          "annotationdefaults": {
           "arrowcolor": "#2a3f5f",
           "arrowhead": 0,
           "arrowwidth": 1
          },
          "autotypenumbers": "strict",
          "coloraxis": {
           "colorbar": {
            "outlinewidth": 0,
            "ticks": ""
           }
          },
          "colorscale": {
           "diverging": [
            [
             0,
             "#8e0152"
            ],
            [
             0.1,
             "#c51b7d"
            ],
            [
             0.2,
             "#de77ae"
            ],
            [
             0.3,
             "#f1b6da"
            ],
            [
             0.4,
             "#fde0ef"
            ],
            [
             0.5,
             "#f7f7f7"
            ],
            [
             0.6,
             "#e6f5d0"
            ],
            [
             0.7,
             "#b8e186"
            ],
            [
             0.8,
             "#7fbc41"
            ],
            [
             0.9,
             "#4d9221"
            ],
            [
             1,
             "#276419"
            ]
           ],
           "sequential": [
            [
             0,
             "#0d0887"
            ],
            [
             0.1111111111111111,
             "#46039f"
            ],
            [
             0.2222222222222222,
             "#7201a8"
            ],
            [
             0.3333333333333333,
             "#9c179e"
            ],
            [
             0.4444444444444444,
             "#bd3786"
            ],
            [
             0.5555555555555556,
             "#d8576b"
            ],
            [
             0.6666666666666666,
             "#ed7953"
            ],
            [
             0.7777777777777778,
             "#fb9f3a"
            ],
            [
             0.8888888888888888,
             "#fdca26"
            ],
            [
             1,
             "#f0f921"
            ]
           ],
           "sequentialminus": [
            [
             0,
             "#0d0887"
            ],
            [
             0.1111111111111111,
             "#46039f"
            ],
            [
             0.2222222222222222,
             "#7201a8"
            ],
            [
             0.3333333333333333,
             "#9c179e"
            ],
            [
             0.4444444444444444,
             "#bd3786"
            ],
            [
             0.5555555555555556,
             "#d8576b"
            ],
            [
             0.6666666666666666,
             "#ed7953"
            ],
            [
             0.7777777777777778,
             "#fb9f3a"
            ],
            [
             0.8888888888888888,
             "#fdca26"
            ],
            [
             1,
             "#f0f921"
            ]
           ]
          },
          "colorway": [
           "#636efa",
           "#EF553B",
           "#00cc96",
           "#ab63fa",
           "#FFA15A",
           "#19d3f3",
           "#FF6692",
           "#B6E880",
           "#FF97FF",
           "#FECB52"
          ],
          "font": {
           "color": "#2a3f5f"
          },
          "geo": {
           "bgcolor": "white",
           "lakecolor": "white",
           "landcolor": "#E5ECF6",
           "showlakes": true,
           "showland": true,
           "subunitcolor": "white"
          },
          "hoverlabel": {
           "align": "left"
          },
          "hovermode": "closest",
          "mapbox": {
           "style": "light"
          },
          "paper_bgcolor": "white",
          "plot_bgcolor": "#E5ECF6",
          "polar": {
           "angularaxis": {
            "gridcolor": "white",
            "linecolor": "white",
            "ticks": ""
           },
           "bgcolor": "#E5ECF6",
           "radialaxis": {
            "gridcolor": "white",
            "linecolor": "white",
            "ticks": ""
           }
          },
          "scene": {
           "xaxis": {
            "backgroundcolor": "#E5ECF6",
            "gridcolor": "white",
            "gridwidth": 2,
            "linecolor": "white",
            "showbackground": true,
            "ticks": "",
            "zerolinecolor": "white"
           },
           "yaxis": {
            "backgroundcolor": "#E5ECF6",
            "gridcolor": "white",
            "gridwidth": 2,
            "linecolor": "white",
            "showbackground": true,
            "ticks": "",
            "zerolinecolor": "white"
           },
           "zaxis": {
            "backgroundcolor": "#E5ECF6",
            "gridcolor": "white",
            "gridwidth": 2,
            "linecolor": "white",
            "showbackground": true,
            "ticks": "",
            "zerolinecolor": "white"
           }
          },
          "shapedefaults": {
           "line": {
            "color": "#2a3f5f"
           }
          },
          "ternary": {
           "aaxis": {
            "gridcolor": "white",
            "linecolor": "white",
            "ticks": ""
           },
           "baxis": {
            "gridcolor": "white",
            "linecolor": "white",
            "ticks": ""
           },
           "bgcolor": "#E5ECF6",
           "caxis": {
            "gridcolor": "white",
            "linecolor": "white",
            "ticks": ""
           }
          },
          "title": {
           "x": 0.05
          },
          "xaxis": {
           "automargin": true,
           "gridcolor": "white",
           "linecolor": "white",
           "ticks": "",
           "title": {
            "standoff": 15
           },
           "zerolinecolor": "white",
           "zerolinewidth": 2
          },
          "yaxis": {
           "automargin": true,
           "gridcolor": "white",
           "linecolor": "white",
           "ticks": "",
           "title": {
            "standoff": 15
           },
           "zerolinecolor": "white",
           "zerolinewidth": 2
          }
         }
        },
        "title": {
         "text": "Latency Distribution by Application Type"
        },
        "xaxis": {
         "anchor": "y",
         "categoryarray": [
          "Video Call",
          "Voice Call",
          "Streaming",
          "Emergency Service",
          "Online Gaming",
          "Background Download",
          "Web Browsing",
          "IoT Temperature",
          "Video Streaming",
          "File Download",
          "VoIP Call"
         ],
         "categoryorder": "array",
         "domain": [
          0,
          1
         ],
         "tickangle": 45,
         "title": {
          "text": "Application Type"
         }
        },
        "yaxis": {
         "anchor": "x",
         "domain": [
          0,
          1
         ],
         "title": {
          "text": "Latency (ms)"
         }
        }
       }
      }
     },
     "metadata": {},
     "output_type": "display_data"
    }
   ],
   "source": [
    "# Latency distribution by Application Type\n",
    "fig = px.box(df, x='Application Type', y='Latency', color='Application Type', title='Latency Distribution by Application Type')\n",
    "fig.update_layout(\n",
    "    yaxis_title='Latency (ms)',\n",
    "    xaxis_title='Application Type'\n",
    ")\n",
    "fig.update_xaxes(tickangle=45)\n",
    "fig.show()"
   ]
  }
 ],
 "metadata": {
  "kernelspec": {
   "display_name": "Python 3",
   "language": "python",
   "name": "python3"
  },
  "language_info": {
   "codemirror_mode": {
    "name": "ipython",
    "version": 3
   },
   "file_extension": ".py",
   "mimetype": "text/x-python",
   "name": "python",
   "nbconvert_exporter": "python",
   "pygments_lexer": "ipython3",
   "version": "3.12.2"
  }
 },
 "nbformat": 4,
 "nbformat_minor": 5
}
