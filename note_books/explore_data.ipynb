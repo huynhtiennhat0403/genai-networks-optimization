{
 "cells": [
  {
   "cell_type": "code",
   "execution_count": 1,
   "id": "5b48f27e",
   "metadata": {},
   "outputs": [],
   "source": [
    "import pandas as pd\n",
    "import plotly.express as px"
   ]
  },
  {
   "cell_type": "code",
   "execution_count": 2,
   "id": "70ad3080",
   "metadata": {},
   "outputs": [
    {
     "name": "stdout",
     "output_type": "stream",
     "text": [
      "          Timestamp   User_ID Application_Type Signal_Strength Latency  \\\n",
      "21   9/3/2023 10:00   User_22    Online_Gaming         -80 dBm   23 ms   \n",
      "338  9/3/2023 10:05  User_339    Online_Gaming         -48 dBm   40 ms   \n",
      "175  9/3/2023 10:03  User_176     Web_Browsing         -98 dBm   22 ms   \n",
      "133  9/3/2023 10:02  User_134        Streaming         -75 dBm   30 ms   \n",
      "275  9/3/2023 10:04  User_276        Streaming         -95 dBm   46 ms   \n",
      "\n",
      "    Required_Bandwidth Allocated_Bandwidth Resource_Allocation  \n",
      "21            2.2 Mbps            2.5 Mbps                 80%  \n",
      "338           5.6 Mbps            5.9 Mbps                 80%  \n",
      "175           0.5 Mbps            0.5 Mbps                 70%  \n",
      "133           5.0 Mbps            5.7 Mbps                 85%  \n",
      "275           2.8 Mbps            3.3 Mbps                 85%  \n"
     ]
    }
   ],
   "source": [
    "# Load dataset\n",
    "df = pd.read_csv(\"../data/raw/Quality of Service 5G.csv\")\n",
    "\n",
    "# 5 random samples from the dataset\n",
    "print(df.sample(5))"
   ]
  },
  {
   "cell_type": "code",
   "execution_count": 5,
   "id": "30557f98",
   "metadata": {},
   "outputs": [
    {
     "data": {
      "text/html": [
       "<div>\n",
       "<style scoped>\n",
       "    .dataframe tbody tr th:only-of-type {\n",
       "        vertical-align: middle;\n",
       "    }\n",
       "\n",
       "    .dataframe tbody tr th {\n",
       "        vertical-align: top;\n",
       "    }\n",
       "\n",
       "    .dataframe thead th {\n",
       "        text-align: right;\n",
       "    }\n",
       "</style>\n",
       "<table border=\"1\" class=\"dataframe\">\n",
       "  <thead>\n",
       "    <tr style=\"text-align: right;\">\n",
       "      <th></th>\n",
       "      <th>Signal Strength</th>\n",
       "      <th>Latency</th>\n",
       "      <th>Required Bandwidth</th>\n",
       "      <th>Allocated Bandwidth</th>\n",
       "      <th>Resource Allocation</th>\n",
       "    </tr>\n",
       "  </thead>\n",
       "  <tbody>\n",
       "    <tr>\n",
       "      <th>count</th>\n",
       "      <td>400.000000</td>\n",
       "      <td>400.000000</td>\n",
       "      <td>400.000000</td>\n",
       "      <td>400.000000</td>\n",
       "      <td>400.000000</td>\n",
       "    </tr>\n",
       "    <tr>\n",
       "      <th>mean</th>\n",
       "      <td>-80.495000</td>\n",
       "      <td>33.825000</td>\n",
       "      <td>3.135512</td>\n",
       "      <td>3.502380</td>\n",
       "      <td>74.712500</td>\n",
       "    </tr>\n",
       "    <tr>\n",
       "      <th>std</th>\n",
       "      <td>20.701119</td>\n",
       "      <td>21.122139</td>\n",
       "      <td>3.984097</td>\n",
       "      <td>4.460801</td>\n",
       "      <td>8.982291</td>\n",
       "    </tr>\n",
       "    <tr>\n",
       "      <th>min</th>\n",
       "      <td>-123.000000</td>\n",
       "      <td>0.000000</td>\n",
       "      <td>0.000000</td>\n",
       "      <td>0.000000</td>\n",
       "      <td>50.000000</td>\n",
       "    </tr>\n",
       "    <tr>\n",
       "      <th>25%</th>\n",
       "      <td>-98.000000</td>\n",
       "      <td>21.750000</td>\n",
       "      <td>0.417500</td>\n",
       "      <td>0.417500</td>\n",
       "      <td>70.000000</td>\n",
       "    </tr>\n",
       "    <tr>\n",
       "      <th>50%</th>\n",
       "      <td>-83.000000</td>\n",
       "      <td>31.000000</td>\n",
       "      <td>1.200000</td>\n",
       "      <td>1.350000</td>\n",
       "      <td>70.000000</td>\n",
       "    </tr>\n",
       "    <tr>\n",
       "      <th>75%</th>\n",
       "      <td>-64.000000</td>\n",
       "      <td>45.000000</td>\n",
       "      <td>4.100000</td>\n",
       "      <td>4.425000</td>\n",
       "      <td>80.000000</td>\n",
       "    </tr>\n",
       "    <tr>\n",
       "      <th>max</th>\n",
       "      <td>-40.000000</td>\n",
       "      <td>110.000000</td>\n",
       "      <td>14.500000</td>\n",
       "      <td>15.800000</td>\n",
       "      <td>90.000000</td>\n",
       "    </tr>\n",
       "  </tbody>\n",
       "</table>\n",
       "</div>"
      ],
      "text/plain": [
       "       Signal Strength     Latency  Required Bandwidth  Allocated Bandwidth  \\\n",
       "count       400.000000  400.000000          400.000000           400.000000   \n",
       "mean        -80.495000   33.825000            3.135512             3.502380   \n",
       "std          20.701119   21.122139            3.984097             4.460801   \n",
       "min        -123.000000    0.000000            0.000000             0.000000   \n",
       "25%         -98.000000   21.750000            0.417500             0.417500   \n",
       "50%         -83.000000   31.000000            1.200000             1.350000   \n",
       "75%         -64.000000   45.000000            4.100000             4.425000   \n",
       "max         -40.000000  110.000000           14.500000            15.800000   \n",
       "\n",
       "       Resource Allocation  \n",
       "count           400.000000  \n",
       "mean             74.712500  \n",
       "std               8.982291  \n",
       "min              50.000000  \n",
       "25%              70.000000  \n",
       "50%              70.000000  \n",
       "75%              80.000000  \n",
       "max              90.000000  "
      ]
     },
     "execution_count": 5,
     "metadata": {},
     "output_type": "execute_result"
    }
   ],
   "source": [
    "df.describe()"
   ]
  },
  {
   "cell_type": "code",
   "execution_count": 3,
   "id": "c65f53fd",
   "metadata": {},
   "outputs": [],
   "source": [
    "# Remove the  \"_\" from column names\n",
    "df.columns = df.columns.str.replace('_', ' ')\n",
    "\n",
    "# Remove \"_\" in Application Type values\n",
    "df['Application Type'] = df['Application Type'].str.replace('_', ' ')"
   ]
  },
  {
   "cell_type": "code",
   "execution_count": 4,
   "id": "8e3cff16",
   "metadata": {},
   "outputs": [],
   "source": [
    "# Drop redundant columns\n",
    "df = df.drop(columns=[\"Timestamp\", \"User ID\"])\n",
    "\n",
    "# Convert object columns to numerical\n",
    "df['Signal Strength'] = df['Signal Strength'].str.replace(' dBm', '').astype(float)\n",
    "df['Latency'] = df['Latency'].str.replace(' ms', '').astype(float)\n",
    "df['Resource Allocation'] = df['Resource Allocation'].str.replace('%', '').astype(float)\n",
    "\n",
    "def parse_bandwidth(bandwidth_str):\n",
    "    if 'Mbps' in bandwidth_str:\n",
    "        return float(bandwidth_str.replace(' Mbps', ''))\n",
    "    elif 'Kbps' in bandwidth_str:\n",
    "        return float(bandwidth_str.replace(' Kbps', '')) / 1000\n",
    "    else:\n",
    "        return float(bandwidth_str)\n",
    "    \n",
    "df['Required Bandwidth'] = df['Required Bandwidth'].apply(parse_bandwidth)\n",
    "df['Allocated Bandwidth'] = df['Allocated Bandwidth'].apply(parse_bandwidth)"
   ]
  },
  {
   "cell_type": "code",
   "execution_count": null,
   "id": "9800f4c7",
   "metadata": {},
   "outputs": [],
   "source": [
    "corr_matrix = df.corr(numeric_only=True)\n",
    "\n",
    "# Visualize the correlation matrix using Plotly\n",
    "fig = px.imshow(\n",
    "    corr_matrix,\n",
    "    text_auto=True,\n",
    "    color_continuous_scale='RdBu',\n",
    "    title='Correlation Matrix'\n",
    ")\n",
    "\n",
    "fig.show()"
   ]
  },
  {
   "cell_type": "code",
   "execution_count": null,
   "id": "31c90e52",
   "metadata": {},
   "outputs": [],
   "source": [
    "# Plot some visualizations\n",
    "\n",
    "# Histogram for Application types\n",
    "\n",
    "fig = px.histogram(df, x='Application Type', \n",
    "                   title='Distribution of Application Types', \n",
    "                   nbins=30, \n",
    "                   color='Application Type')\n",
    "fig.update_layout(\n",
    "    yaxis_title='Count',\n",
    "    bargap=0.2)\n",
    "fig.show()"
   ]
  },
  {
   "cell_type": "code",
   "execution_count": null,
   "id": "4e05fede",
   "metadata": {},
   "outputs": [],
   "source": [
    "# Relationship between required bandwidth and allocated bandwidth\n",
    "\n",
    "fig = px.scatter(df, x='Required Bandwidth', y='Allocated Bandwidth', color='Application Type', title='Required vs Allocated Bandwidth')\n",
    "fig.update_layout(\n",
    "    xaxis_title='Required Bandwidth (Mbps)',\n",
    "    yaxis_title='Allocated Bandwidth (Mbps)'\n",
    ")\n",
    "fig.update_xaxes(tickangle=90)\n",
    "fig.show()"
   ]
  },
  {
   "cell_type": "code",
   "execution_count": null,
   "id": "d2d99264",
   "metadata": {},
   "outputs": [],
   "source": [
    "fig = px.scatter(df, x = 'Signal Strength', y = 'Latency', color='Application Type', title='Signal Strength vs Latency')\n",
    "fig.update_layout(\n",
    "    xaxis_title='Signal Strength (dBm)',\n",
    "    yaxis_title='Latency (ms)'\n",
    ")\n",
    "fig.show()"
   ]
  },
  {
   "cell_type": "code",
   "execution_count": null,
   "id": "bff7555c",
   "metadata": {},
   "outputs": [],
   "source": [
    "# Latency distribution by Application Type\n",
    "fig = px.box(df, x='Application Type', y='Latency', color='Application Type', title='Latency Distribution by Application Type')\n",
    "fig.update_layout(\n",
    "    yaxis_title='Latency (ms)',\n",
    "    xaxis_title='Application Type'\n",
    ")\n",
    "fig.update_xaxes(tickangle=45)\n",
    "fig.show()"
   ]
  },
  {
   "cell_type": "code",
   "execution_count": null,
   "id": "10a47a89",
   "metadata": {},
   "outputs": [],
   "source": [
    "# Resource Allocation distribution\n",
    "fig = px.histogram(df, x='Resource Allocation', nbins=30, title='Resource Allocation Distribution', color_discrete_sequence=['indianred'])\n",
    "fig.update_layout(\n",
    "    xaxis_title='Resource Allocation (%)',\n",
    "    yaxis_title='Count',\n",
    "    bargap=0.2\n",
    ")"
   ]
  },
  {
   "cell_type": "code",
   "execution_count": null,
   "id": "3587fce1",
   "metadata": {},
   "outputs": [],
   "source": [
    "# Resource Allocation by Application Type\n",
    "fig = px.box(df, x='Application Type', y='Resource Allocation', color='Application Type', title='Resource Allocation by Application Type')\n",
    "fig.update_layout(\n",
    "    yaxis_title='Resource Allocation (%)',\n",
    "    xaxis_title='Application Type'\n",
    ")\n",
    "fig.update_xaxes(tickangle=45)\n",
    "fig.show()"
   ]
  },
  {
   "cell_type": "code",
   "execution_count": null,
   "id": "20f2f1d8",
   "metadata": {},
   "outputs": [],
   "source": [
    "# Resouce Allocation vs Latency\n",
    "fig = px.scatter(df, x='Resource Allocation', y='Latency', color='Application Type', title='Resource Allocation vs Latency')\n",
    "fig.update_layout(\n",
    "    xaxis_title='Resource Allocation (%)',\n",
    "    yaxis_title='Latency (ms)'\n",
    ")\n",
    "fig.show()"
   ]
  }
 ],
 "metadata": {
  "kernelspec": {
   "display_name": "Python 3",
   "language": "python",
   "name": "python3"
  },
  "language_info": {
   "codemirror_mode": {
    "name": "ipython",
    "version": 3
   },
   "file_extension": ".py",
   "mimetype": "text/x-python",
   "name": "python",
   "nbconvert_exporter": "python",
   "pygments_lexer": "ipython3",
   "version": "3.13.7"
  }
 },
 "nbformat": 4,
 "nbformat_minor": 5
}
