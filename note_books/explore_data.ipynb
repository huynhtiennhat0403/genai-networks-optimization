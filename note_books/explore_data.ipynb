{
 "cells": [
  {
   "cell_type": "code",
   "execution_count": null,
   "id": "5b48f27e",
   "metadata": {},
   "outputs": [],
   "source": [
    "import pandas as pd\n",
    "import plotly.express as px"
   ]
  },
  {
   "cell_type": "code",
   "execution_count": null,
   "id": "70ad3080",
   "metadata": {},
   "outputs": [],
   "source": [
    "# Load dataset\n",
    "df = pd.read_csv(\"../data/raw/Quality of Service 5G.csv\")\n",
    "\n",
    "# 5 random samples from the dataset\n",
    "print(df.sample(5))\n",
    "\n",
    "# Display basic information about the dataset\n",
    "print(df.info())\n",
    "print(\"-\" * 100 )\n",
    "print(df.describe())"
   ]
  },
  {
   "cell_type": "code",
   "execution_count": null,
   "id": "30557f98",
   "metadata": {},
   "outputs": [],
   "source": [
    "df.describe()"
   ]
  },
  {
   "cell_type": "code",
   "execution_count": null,
   "id": "c65f53fd",
   "metadata": {},
   "outputs": [],
   "source": [
    "# Remove the  \"_\" from column names\n",
    "df.columns = df.columns.str.replace('_', ' ')\n",
    "\n",
    "# Remove \"_\" in Application Type values\n",
    "df['Application Type'] = df['Application Type'].str.replace('_', ' ')"
   ]
  },
  {
   "cell_type": "code",
   "execution_count": null,
   "id": "8e3cff16",
   "metadata": {},
   "outputs": [],
   "source": [
    "# Drop redundant columns\n",
    "df = df.drop(columns=[\"Timestamp\", \"User ID\"])\n",
    "\n",
    "# Convert object columns to numerical\n",
    "df['Signal Strength'] = df['Signal Strength'].str.replace(' dBm', '').astype(float)\n",
    "df['Latency'] = df['Latency'].str.replace(' ms', '').astype(float)\n",
    "df['Resource Allocation'] = df['Resource Allocation'].str.replace('%', '').astype(float)\n",
    "\n",
    "def parse_bandwidth(bandwidth_str):\n",
    "    if 'Mbps' in bandwidth_str:\n",
    "        return float(bandwidth_str.replace(' Mbps', ''))\n",
    "    elif 'Kbps' in bandwidth_str:\n",
    "        return float(bandwidth_str.replace(' Kbps', '')) / 1000\n",
    "    else:\n",
    "        return float(bandwidth_str)\n",
    "    \n",
    "df['Required Bandwidth'] = df['Required Bandwidth'].apply(parse_bandwidth)\n",
    "df['Allocated Bandwidth'] = df['Allocated Bandwidth'].apply(parse_bandwidth)"
   ]
  },
  {
   "cell_type": "code",
   "execution_count": null,
   "id": "9800f4c7",
   "metadata": {},
   "outputs": [],
   "source": [
    "corr_matrix = df.corr(numeric_only=True)\n",
    "\n",
    "# Visualize the correlation matrix using Plotly\n",
    "fig = px.imshow(\n",
    "    corr_matrix,\n",
    "    text_auto=True,\n",
    "    color_continuous_scale='RdBu',\n",
    "    title='Correlation Matrix'\n",
    ")\n",
    "\n",
    "fig.show()"
   ]
  },
  {
   "cell_type": "code",
   "execution_count": null,
   "id": "31c90e52",
   "metadata": {},
   "outputs": [],
   "source": [
    "# Plot some visualizations\n",
    "\n",
    "# Histogram for Application types\n",
    "\n",
    "fig = px.histogram(df, x='Application Type', \n",
    "                   title='Distribution of Application Types', \n",
    "                   nbins=30, \n",
    "                   color='Application Type')\n",
    "fig.update_layout(\n",
    "    yaxis_title='Count',\n",
    "    bargap=0.2)\n",
    "fig.show()"
   ]
  },
  {
   "cell_type": "code",
   "execution_count": null,
   "id": "4e05fede",
   "metadata": {},
   "outputs": [],
   "source": [
    "# Relationship between required bandwidth and allocated bandwidth\n",
    "\n",
    "fig = px.scatter(df, x='Required Bandwidth', y='Allocated Bandwidth', color='Application Type', title='Required vs Allocated Bandwidth')\n",
    "fig.update_layout(\n",
    "    xaxis_title='Required Bandwidth (Mbps)',\n",
    "    yaxis_title='Allocated Bandwidth (Mbps)'\n",
    ")\n",
    "fig.update_xaxes(tickangle=90)\n",
    "fig.show()"
   ]
  },
  {
   "cell_type": "code",
   "execution_count": null,
   "id": "d2d99264",
   "metadata": {},
   "outputs": [],
   "source": [
    "fig = px.scatter(df, x = 'Signal Strength', y = 'Latency', color='Application Type', title='Signal Strength vs Latency')\n",
    "fig.update_layout(\n",
    "    xaxis_title='Signal Strength (dBm)',\n",
    "    yaxis_title='Latency (ms)'\n",
    ")\n",
    "fig.show()"
   ]
  },
  {
   "cell_type": "code",
   "execution_count": null,
   "id": "bff7555c",
   "metadata": {},
   "outputs": [],
   "source": [
    "# Latency distribution by Application Type\n",
    "fig = px.box(df, x='Application Type', y='Latency', color='Application Type', title='Latency Distribution by Application Type')\n",
    "fig.update_layout(\n",
    "    yaxis_title='Latency (ms)',\n",
    "    xaxis_title='Application Type'\n",
    ")\n",
    "fig.update_xaxes(tickangle=45)\n",
    "fig.show()"
   ]
  },
  {
   "cell_type": "code",
   "execution_count": null,
   "id": "10a47a89",
   "metadata": {},
   "outputs": [],
   "source": [
    "# Resource Allocation distribution\n",
    "fig = px.histogram(df, x='Resource Allocation', nbins=30, title='Resource Allocation Distribution', color_discrete_sequence=['indianred'])\n",
    "fig.update_layout(\n",
    "    xaxis_title='Resource Allocation (%)',\n",
    "    yaxis_title='Count',\n",
    "    bargap=0.2\n",
    ")"
   ]
  },
  {
   "cell_type": "code",
   "execution_count": null,
   "id": "3587fce1",
   "metadata": {},
   "outputs": [],
   "source": [
    "# Resource Allocation by Application Type\n",
    "fig = px.box(df, x='Application Type', y='Resource Allocation', color='Application Type', title='Resource Allocation by Application Type')\n",
    "fig.update_layout(\n",
    "    yaxis_title='Resource Allocation (%)',\n",
    "    xaxis_title='Application Type'\n",
    ")\n",
    "fig.update_xaxes(tickangle=45)\n",
    "fig.show()"
   ]
  },
  {
   "cell_type": "code",
   "execution_count": null,
   "id": "20f2f1d8",
   "metadata": {},
   "outputs": [],
   "source": [
    "# Resouce Allocation vs Latency\n",
    "fig = px.scatter(df, x='Resource Allocation', y='Latency', color='Application Type', title='Resource Allocation vs Latency')\n",
    "fig.update_layout(\n",
    "    xaxis_title='Resource Allocation (%)',\n",
    "    yaxis_title='Latency (ms)'\n",
    ")\n",
    "fig.show()"
   ]
  }
 ],
 "metadata": {
  "kernelspec": {
   "display_name": "Python 3",
   "language": "python",
   "name": "python3"
  },
  "language_info": {
   "codemirror_mode": {
    "name": "ipython",
    "version": 3
   },
   "file_extension": ".py",
   "mimetype": "text/x-python",
   "name": "python",
   "nbconvert_exporter": "python",
   "pygments_lexer": "ipython3",
   "version": "3.12.2"
  }
 },
 "nbformat": 4,
 "nbformat_minor": 5
}
